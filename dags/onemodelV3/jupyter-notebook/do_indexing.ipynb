{
 "cells": [
  {
   "cell_type": "code",
   "execution_count": 1,
   "metadata": {
    "execution": {
     "iopub.execute_input": "2024-06-03T09:45:38.884509Z",
     "iopub.status.busy": "2024-06-03T09:45:38.884123Z",
     "iopub.status.idle": "2024-06-03T09:45:40.424516Z",
     "shell.execute_reply": "2024-06-03T09:45:40.423680Z",
     "shell.execute_reply.started": "2024-06-03T09:45:38.884475Z"
    },
    "tags": []
   },
   "outputs": [],
   "source": [
    "from skt.gcp import (\n",
    "    PROJECT_ID,\n",
    "    bq_insert_overwrite,\n",
    "    bq_to_df,\n",
    "    bq_to_pandas,\n",
    "    get_bigquery_client,\n",
    "    bq_table_exists,\n",
    "    get_max_part,\n",
    "    load_query_result_to_table,\n",
    "    pandas_to_bq,\n",
    "    pandas_to_bq_table,\n",
    "    load_bigquery_ipython_magic,\n",
    "    get_bigquery_client,\n",
    "    _print_query_job_results,\n",
    "    load_query_result_to_partitions\n",
    "    \n",
    ")\n",
    "\n",
    "from skt.ye import (\n",
    "    get_hdfs_conn,\n",
    "    get_spark,\n",
    "    hive_execute,\n",
    "    hive_to_pandas,\n",
    "    pandas_to_parquet,\n",
    "    slack_send\n",
    ")\n",
    "from skt.github_utils import GithubUtil\n",
    "from skt.vault_utils import get_secrets\n"
   ]
  },
  {
   "cell_type": "code",
   "execution_count": 2,
   "metadata": {
    "execution": {
     "iopub.execute_input": "2024-06-03T09:45:40.426587Z",
     "iopub.status.busy": "2024-06-03T09:45:40.426058Z",
     "iopub.status.idle": "2024-06-03T09:45:40.545463Z",
     "shell.execute_reply": "2024-06-03T09:45:40.544565Z",
     "shell.execute_reply.started": "2024-06-03T09:45:40.426552Z"
    },
    "tags": []
   },
   "outputs": [],
   "source": [
    "from datetime import date, datetime, timedelta\n",
    "\n",
    "import numpy as np\n",
    "import pandas as pd\n",
    "import pyarrow.parquet as pq\n",
    "from dateutil.relativedelta import relativedelta\n",
    "from pyhive import hive\n",
    "\n",
    "from copy import deepcopy\n",
    "from joblib import Parallel, delayed\n",
    "import os\n",
    "import sys\n",
    "from git import Repo\n",
    "from contextlib import contextmanager\n",
    "from tqdm.notebook import tqdm\n",
    "import warnings"
   ]
  },
  {
   "cell_type": "code",
   "execution_count": 3,
   "metadata": {
    "execution": {
     "iopub.execute_input": "2024-06-03T09:45:40.547023Z",
     "iopub.status.busy": "2024-06-03T09:45:40.546665Z",
     "iopub.status.idle": "2024-06-03T09:45:40.559923Z",
     "shell.execute_reply": "2024-06-03T09:45:40.559082Z",
     "shell.execute_reply.started": "2024-06-03T09:45:40.546990Z"
    },
    "tags": []
   },
   "outputs": [],
   "source": [
    "secrets = get_secrets('github/sktaiflow')\n",
    "token = secrets['token']\n",
    "\n",
    "proxies = {\n",
    "    'http': secrets['proxy'],\n",
    "    'https': secrets['proxy'],\n",
    "}"
   ]
  },
  {
   "cell_type": "markdown",
   "metadata": {},
   "source": [
    "# Customer func for cloning git modules"
   ]
  },
  {
   "cell_type": "code",
   "execution_count": 4,
   "metadata": {
    "execution": {
     "iopub.execute_input": "2024-06-03T09:45:40.568931Z",
     "iopub.status.busy": "2024-06-03T09:45:40.568695Z",
     "iopub.status.idle": "2024-06-03T09:45:40.573071Z",
     "shell.execute_reply": "2024-06-03T09:45:40.572402Z",
     "shell.execute_reply.started": "2024-06-03T09:45:40.568903Z"
    },
    "tags": []
   },
   "outputs": [],
   "source": [
    "@contextmanager\n",
    "def proxy(proxies):\n",
    "    env_backup = dict(os.environ)\n",
    "    os.environ[\"HTTP_PROXY\"] = proxies[\"http\"]\n",
    "    os.environ[\"HTTPS_PROXY\"] = proxies[\"https\"]\n",
    "    yield\n",
    "    os.environ.clear()\n",
    "    os.environ.update(env_backup)"
   ]
  },
  {
   "cell_type": "code",
   "execution_count": 5,
   "metadata": {
    "execution": {
     "iopub.execute_input": "2024-06-03T09:45:40.574408Z",
     "iopub.status.busy": "2024-06-03T09:45:40.573997Z",
     "iopub.status.idle": "2024-06-03T09:45:40.583274Z",
     "shell.execute_reply": "2024-06-03T09:45:40.582611Z",
     "shell.execute_reply.started": "2024-06-03T09:45:40.574379Z"
    },
    "tags": []
   },
   "outputs": [],
   "source": [
    "def slack_sending(channel_name:str, msg:str=\"test\", is_adot:bool=True):\n",
    "    if \"#\" not  in channel_name:\n",
    "        channel_name += \"#\" + channel_name\n",
    "\n",
    "    slack_send(\n",
    "        text=msg,\n",
    "        username=\"SKT\",\n",
    "        channel=channel_name,\n",
    "        icon_emoji=\":large_blue_circle:\",\n",
    "        blocks=None,\n",
    "        dataframe=False,\n",
    "        adot=is_adot\n",
    "    )\n"
   ]
  },
  {
   "cell_type": "code",
   "execution_count": 6,
   "metadata": {
    "execution": {
     "iopub.execute_input": "2024-06-03T09:45:40.584640Z",
     "iopub.status.busy": "2024-06-03T09:45:40.584222Z",
     "iopub.status.idle": "2024-06-03T09:45:40.594923Z",
     "shell.execute_reply": "2024-06-03T09:45:40.594241Z",
     "shell.execute_reply.started": "2024-06-03T09:45:40.584610Z"
    },
    "tags": []
   },
   "outputs": [],
   "source": [
    "class GithubUtil_custom(GithubUtil):\n",
    "    def __init__(self, token, proxies, **kwargs):\n",
    "        super().__init__(token, proxies)\n",
    "    \n",
    "    def clone_from_repo(self, git_url, branch=\"main\", git_save_path=\"/temp\"):\n",
    "        try:\n",
    "            if self._proxies:\n",
    "                with proxy(self._proxies):\n",
    "                    response = Repo.clone_from(git_url, git_save_path, branch=branch)\n",
    "                    return {\"code\": \"200\", \"response\": response}\n",
    "            else:\n",
    "                msg = f\"proxy must be passed\"\n",
    "                raise Exception(msg)    \n",
    "        except Exception as e:\n",
    "            msg = f\"cloning git repo:{git_url} branch:{branch} failed {e}\"\n",
    "            slack_sending(msg=msg, channel_name=channel_name, is_adot=True)\n",
    "            raise Exception(msg)"
   ]
  },
  {
   "cell_type": "code",
   "execution_count": 7,
   "metadata": {
    "execution": {
     "iopub.execute_input": "2024-06-03T09:45:40.596232Z",
     "iopub.status.busy": "2024-06-03T09:45:40.595990Z",
     "iopub.status.idle": "2024-06-03T09:45:40.604400Z",
     "shell.execute_reply": "2024-06-03T09:45:40.603707Z",
     "shell.execute_reply.started": "2024-06-03T09:45:40.596206Z"
    },
    "tags": []
   },
   "outputs": [],
   "source": [
    "git_url ='https://github.com/sktaiflow/onemodelV3-opensearch-engine.git'\n",
    "branch = 'develop'\n",
    "git_save_path = '/home/x1112436/shared/1112436/git'"
   ]
  },
  {
   "cell_type": "code",
   "execution_count": 8,
   "metadata": {
    "execution": {
     "iopub.execute_input": "2024-06-03T09:45:40.605899Z",
     "iopub.status.busy": "2024-06-03T09:45:40.605284Z",
     "iopub.status.idle": "2024-06-03T09:45:41.471914Z",
     "shell.execute_reply": "2024-06-03T09:45:41.471077Z",
     "shell.execute_reply.started": "2024-06-03T09:45:40.605869Z"
    },
    "tags": []
   },
   "outputs": [],
   "source": [
    "import shutil\n",
    "shutil.rmtree(git_save_path)\n",
    "os.makedirs(git_save_path, exist_ok=True)"
   ]
  },
  {
   "cell_type": "code",
   "execution_count": 9,
   "metadata": {
    "execution": {
     "iopub.execute_input": "2024-06-03T09:45:41.473420Z",
     "iopub.status.busy": "2024-06-03T09:45:41.473024Z",
     "iopub.status.idle": "2024-06-03T09:45:41.476895Z",
     "shell.execute_reply": "2024-06-03T09:45:41.476211Z",
     "shell.execute_reply.started": "2024-06-03T09:45:41.473387Z"
    },
    "tags": []
   },
   "outputs": [],
   "source": [
    "gitobj= GithubUtil_custom(token=token, proxies=proxies)"
   ]
  },
  {
   "cell_type": "code",
   "execution_count": 10,
   "metadata": {
    "execution": {
     "iopub.execute_input": "2024-06-03T09:45:41.478366Z",
     "iopub.status.busy": "2024-06-03T09:45:41.478094Z",
     "iopub.status.idle": "2024-06-03T09:45:45.777495Z",
     "shell.execute_reply": "2024-06-03T09:45:45.776509Z",
     "shell.execute_reply.started": "2024-06-03T09:45:41.478339Z"
    },
    "tags": []
   },
   "outputs": [],
   "source": [
    "response = gitobj.clone_from_repo(git_url=git_url, branch=branch, git_save_path=git_save_path)"
   ]
  },
  {
   "cell_type": "code",
   "execution_count": 11,
   "metadata": {
    "execution": {
     "iopub.execute_input": "2024-06-03T09:45:45.781298Z",
     "iopub.status.busy": "2024-06-03T09:45:45.780859Z",
     "iopub.status.idle": "2024-06-03T09:45:45.785346Z",
     "shell.execute_reply": "2024-06-03T09:45:45.784651Z",
     "shell.execute_reply.started": "2024-06-03T09:45:45.781255Z"
    },
    "tags": []
   },
   "outputs": [],
   "source": [
    "module_path = os.path.join(git_save_path, \"dags\")\n",
    "sys.path.append(module_path)\n",
    "sys.path.append(git_save_path)"
   ]
  },
  {
   "cell_type": "code",
   "execution_count": 12,
   "metadata": {
    "execution": {
     "iopub.execute_input": "2024-06-03T09:45:45.786691Z",
     "iopub.status.busy": "2024-06-03T09:45:45.786254Z",
     "iopub.status.idle": "2024-06-03T09:45:45.797790Z",
     "shell.execute_reply": "2024-06-03T09:45:45.797116Z",
     "shell.execute_reply.started": "2024-06-03T09:45:45.786661Z"
    },
    "tags": []
   },
   "outputs": [],
   "source": [
    "#!pip install datasets==2.19.1\n",
    "#!pip install pydantic==2.7.1\n",
    "#!pip install loguru==0.7.2\n"
   ]
  },
  {
   "cell_type": "code",
   "execution_count": 13,
   "metadata": {
    "execution": {
     "iopub.execute_input": "2024-06-03T09:45:45.799126Z",
     "iopub.status.busy": "2024-06-03T09:45:45.798712Z",
     "iopub.status.idle": "2024-06-03T09:45:48.746129Z",
     "shell.execute_reply": "2024-06-03T09:45:48.745257Z",
     "shell.execute_reply.started": "2024-06-03T09:45:45.799097Z"
    },
    "tags": []
   },
   "outputs": [
    {
     "name": "stderr",
     "output_type": "stream",
     "text": [
      "/usr/local/lib/python3.8/site-packages/pydantic/_internal/_fields.py:160: UserWarning: Field \"model_version\" has conflict with protected namespace \"model_\".\n",
      "\n",
      "You may be able to resolve this warning by setting `model_config['protected_namespaces'] = ()`.\n",
      "  warnings.warn(\n"
     ]
    }
   ],
   "source": [
    "## import from module\n",
    "from onemodelV3.opensearch_engine.indexing_engine.preprocessor import OpensearchPreprocessor\n",
    "from onemodelV3.opensearch_engine.indexing_engine.func import *"
   ]
  },
  {
   "cell_type": "code",
   "execution_count": 14,
   "metadata": {
    "execution": {
     "iopub.execute_input": "2024-06-03T09:45:48.747913Z",
     "iopub.status.busy": "2024-06-03T09:45:48.747310Z",
     "iopub.status.idle": "2024-06-03T09:45:48.753969Z",
     "shell.execute_reply": "2024-06-03T09:45:48.753298Z",
     "shell.execute_reply.started": "2024-06-03T09:45:48.747880Z"
    },
    "tags": []
   },
   "outputs": [],
   "source": [
    "# get file list\n",
    "def get_gzip_files(directory='./temp/indexing/input'):\n",
    "    from pathlib import Path\n",
    "    gzip_files = []\n",
    "    for root, dirs, files in os.walk(directory):\n",
    "        for file in files:\n",
    "            if file.endswith(\".gzip\"):\n",
    "                file_path = os.path.join(root, file)\n",
    "                gzip_files.append(file_path)\n",
    "\n",
    "    return gzip_files\n",
    "\n",
    "file_list = get_gzip_files(directory=\"/home/x1112436/shared/1112436/indexing_data\")"
   ]
  },
  {
   "cell_type": "code",
   "execution_count": 15,
   "metadata": {
    "execution": {
     "iopub.execute_input": "2024-06-03T09:45:48.755366Z",
     "iopub.status.busy": "2024-06-03T09:45:48.754908Z",
     "iopub.status.idle": "2024-06-03T09:45:48.768508Z",
     "shell.execute_reply": "2024-06-03T09:45:48.767854Z",
     "shell.execute_reply.started": "2024-06-03T09:45:48.755336Z"
    },
    "tags": []
   },
   "outputs": [
    {
     "data": {
      "text/plain": [
       "'/home/x1112436/shared/1112436/indexing_data/emb_result_25.parquet.gzip'"
      ]
     },
     "execution_count": 15,
     "metadata": {},
     "output_type": "execute_result"
    }
   ],
   "source": [
    "file_list[0]"
   ]
  },
  {
   "cell_type": "code",
   "execution_count": 16,
   "metadata": {
    "execution": {
     "iopub.execute_input": "2024-06-03T09:45:48.769949Z",
     "iopub.status.busy": "2024-06-03T09:45:48.769429Z",
     "iopub.status.idle": "2024-06-03T09:45:48.782067Z",
     "shell.execute_reply": "2024-06-03T09:45:48.781399Z",
     "shell.execute_reply.started": "2024-06-03T09:45:48.769919Z"
    },
    "tags": []
   },
   "outputs": [],
   "source": [
    "from onemodelV3.opensearch_engine.indexing_engine.preprocessor import AbstractPreprocessor\n",
    "from typing import List, Union\n",
    "from datasets import (\n",
    "    load_dataset, \n",
    "    Dataset, \n",
    "    DatasetDict,\n",
    "    IterableDatasetDict\n",
    ")\n",
    "from torch.utils.data import (\n",
    "    IterableDataset, \n",
    "    Dataset\n",
    ")\n",
    "class OpensearchPreprocessor(AbstractPreprocessor):\n",
    "    index_name = \"onemodelV3\"\n",
    "    \n",
    "    def __init__(self, args, **kwargs):        \n",
    "        super().__init__(args)\n",
    "    \n",
    "    @classmethod\n",
    "    def load(cls, file_path:Union[str, List], split:str=None, keep_in_memory:bool=True, is_cache:bool=True) -> IterableDataset:        \n",
    "        stream = True\n",
    "        dataset = super(OpensearchPreprocessor, cls).load(\n",
    "                file_path=file_path, \n",
    "                split=split, \n",
    "                stream=stream, \n",
    "                keep_in_memory=keep_in_memory,\n",
    "                is_cache=is_cache\n",
    "        )\n",
    "        return dataset\n",
    "        "
   ]
  },
  {
   "cell_type": "code",
   "execution_count": 17,
   "metadata": {
    "execution": {
     "iopub.execute_input": "2024-06-03T09:45:48.783397Z",
     "iopub.status.busy": "2024-06-03T09:45:48.782967Z",
     "iopub.status.idle": "2024-06-03T09:45:48.793745Z",
     "shell.execute_reply": "2024-06-03T09:45:48.793085Z",
     "shell.execute_reply.started": "2024-06-03T09:45:48.783368Z"
    },
    "tags": []
   },
   "outputs": [],
   "source": [
    "data = file_list[0]"
   ]
  },
  {
   "cell_type": "code",
   "execution_count": 18,
   "metadata": {
    "execution": {
     "iopub.execute_input": "2024-06-03T09:45:48.796812Z",
     "iopub.status.busy": "2024-06-03T09:45:48.796585Z",
     "iopub.status.idle": "2024-06-03T09:45:49.084065Z",
     "shell.execute_reply": "2024-06-03T09:45:49.083051Z",
     "shell.execute_reply.started": "2024-06-03T09:45:48.796786Z"
    },
    "tags": []
   },
   "outputs": [],
   "source": [
    "dataset = OpensearchPreprocessor.load(data)"
   ]
  },
  {
   "cell_type": "code",
   "execution_count": 19,
   "metadata": {
    "execution": {
     "iopub.execute_input": "2024-06-03T09:45:49.086236Z",
     "iopub.status.busy": "2024-06-03T09:45:49.085527Z",
     "iopub.status.idle": "2024-06-03T09:47:22.060003Z",
     "shell.execute_reply": "2024-06-03T09:47:22.058770Z",
     "shell.execute_reply.started": "2024-06-03T09:45:49.086186Z"
    },
    "tags": []
   },
   "outputs": [],
   "source": [
    "data_list = []\n",
    "for i, data in enumerate(dataset):\n",
    "    data_list.append(data['adot_profile_feature'])    "
   ]
  },
  {
   "cell_type": "code",
   "execution_count": 20,
   "metadata": {
    "execution": {
     "iopub.execute_input": "2024-06-03T09:47:22.062068Z",
     "iopub.status.busy": "2024-06-03T09:47:22.061600Z",
     "iopub.status.idle": "2024-06-03T09:47:22.065975Z",
     "shell.execute_reply": "2024-06-03T09:47:22.065269Z",
     "shell.execute_reply.started": "2024-06-03T09:47:22.062032Z"
    },
    "tags": []
   },
   "outputs": [],
   "source": [
    "#data = [datum next(iter(dataset))"
   ]
  },
  {
   "cell_type": "code",
   "execution_count": 21,
   "metadata": {
    "execution": {
     "iopub.execute_input": "2024-06-03T09:47:22.067466Z",
     "iopub.status.busy": "2024-06-03T09:47:22.066928Z",
     "iopub.status.idle": "2024-06-03T09:47:22.080972Z",
     "shell.execute_reply": "2024-06-03T09:47:22.080296Z",
     "shell.execute_reply.started": "2024-06-03T09:47:22.067435Z"
    },
    "tags": []
   },
   "outputs": [],
   "source": [
    "from dags.onemodelV3.opensearch_engine.mapper import (\n",
    "    MNO_DEFAULT_VALUES, \n",
    "    MnoprofileKeys, \n",
    "    mno_select_default_value, \n",
    "    mno_profile_mappings,\n",
    "    new_mno_profile_mappings,\n",
    "    ADOT_DEFAULT_VALUES,\n",
    "    AdotprofileKeys,\n",
    "    adot_select_default_value,\n",
    "    adot_profile_mappings,\n",
    "    new_adot_profile_mappings\n",
    ")"
   ]
  },
  {
   "cell_type": "code",
   "execution_count": 22,
   "metadata": {
    "execution": {
     "iopub.execute_input": "2024-06-03T09:47:22.082586Z",
     "iopub.status.busy": "2024-06-03T09:47:22.082132Z",
     "iopub.status.idle": "2024-06-03T09:47:22.099132Z",
     "shell.execute_reply": "2024-06-03T09:47:22.098401Z",
     "shell.execute_reply.started": "2024-06-03T09:47:22.082557Z"
    },
    "tags": []
   },
   "outputs": [],
   "source": [
    "from collections import defaultdict\n",
    "def profile_normalize(profile:str, delimiter='<|n|>'):\n",
    "        \"\"\"성별, 나이\"\"\"\n",
    "        mno_profile = profile[\"mno_profile_feature\"]\n",
    "        adot_profile = profile[\"adot_profile_feature\"]\n",
    "        ##\n",
    "\n",
    "        mno_profiles = mno_profile.split(delimiter)\n",
    "        mno_profile_dict = dict()\n",
    "        for profile in mno_profiles:\n",
    "            key, val = profile.split(':')\n",
    "            null_values = mno_profile_mappings[key]\n",
    "            if val in select_default_value(field_name=null_values):\n",
    "                continue\n",
    "            elif val.strip() ==\"있음\":\n",
    "                mno_profile_dict[key] = key.split(\"이력\")[0].strip()\n",
    "            else:\n",
    "                mno_profile_dict[key] = val\n",
    "\n",
    "        mno_template_dict = defaultdict(list)\n",
    "        for key, val in new_mno_profile_mappings.items():\n",
    "            mno_template_dict[val] = []\n",
    "\n",
    "        for key, val in mno_profile_dict.items():\n",
    "            new_feature = new_mno_profile_mappings[key]\n",
    "            mno_template_dict[new_feature].append(val)\n",
    "        \n",
    "        mno_preferences = mno_template_dict.get('preference', [])\n",
    "        mno_preference_template = ''\n",
    "        if mno_preferences:\n",
    "            mno_preference_dict = defaultdict(set)\n",
    "            mno_preference = mno_preferences[0]\n",
    "            mnopreference_list = mno_preference.split(',')\n",
    "            for mno_prefernce in mnopreference_list:\n",
    "                split_mno_preference = mno_prefernce.split('_')\n",
    "                if len(split_mno_preference) == 2:\n",
    "                    upper_cate, lower_cate = split_mno_preference\n",
    "                else:\n",
    "                    upper_cate = split_mno_preference[0]\n",
    "                mno_preference_dict[upper_cate].add(lower_cate)\n",
    "                \n",
    "            for key, val in mno_preference_dict.items():\n",
    "                val_str = ','.join(val)\n",
    "                if mno_preference_template == '': mno_preference_template = f\"{key}: {val_str}\"\n",
    "                else: mno_preference_template += '\\n' + f\"{key}: {val_str}\"\n",
    "        else:\n",
    "            mno_preference_template = ''\n",
    "        mno_template_dict['preference'] = mno_preference_template\n",
    "        return mno_template_dict"
   ]
  },
  {
   "cell_type": "code",
   "execution_count": 29,
   "metadata": {
    "execution": {
     "iopub.execute_input": "2024-06-03T09:49:32.034089Z",
     "iopub.status.busy": "2024-06-03T09:49:32.033581Z",
     "iopub.status.idle": "2024-06-03T09:49:32.038425Z",
     "shell.execute_reply": "2024-06-03T09:49:32.037784Z",
     "shell.execute_reply.started": "2024-06-03T09:49:32.034053Z"
    },
    "tags": []
   },
   "outputs": [],
   "source": [
    "new_adot_profile_mappings = {\n",
    "    '선호 도메인': 'preference',\n",
    "    '성별': 'gender',\n",
    "    '나이': 'age',\n",
    "    '선호 아이템': 'preference',\n",
    "    '선호 카테고리': 'preference',\n",
    "    '인기 컨텐츠 선호도': 'preference',\n",
    "    '사용성 기준': 'adot_status',\n",
    "    '활성 상태':'adot_status',\n",
    "    '다중 도메인 성향': 'multi_domain_tendency',\n",
    "}"
   ]
  },
  {
   "cell_type": "code",
   "execution_count": 102,
   "metadata": {
    "execution": {
     "iopub.execute_input": "2024-06-03T10:12:14.491037Z",
     "iopub.status.busy": "2024-06-03T10:12:14.490597Z",
     "iopub.status.idle": "2024-06-03T10:12:14.498980Z",
     "shell.execute_reply": "2024-06-03T10:12:14.498338Z",
     "shell.execute_reply.started": "2024-06-03T10:12:14.491004Z"
    },
    "tags": []
   },
   "outputs": [],
   "source": [
    "from collections import defaultdict\n",
    "def profile_normalize(profile:str, delimiter='<|n|>'):\n",
    "        \"\"\"성별, 나이\"\"\"\n",
    "        adot_profile = profile[\"adot_profile_feature\"]\n",
    "        adot_profiles = adot_profile.split(delimiter)\n",
    "\n",
    "        adot_profile_dict = dict()\n",
    "        for profile in adot_profiles:\n",
    "            try:\n",
    "                key, val = profile.split(':')\n",
    "            except:\n",
    "                print(profile)\n",
    "            key = key.strip()\n",
    "            val = val.strip()\n",
    "            try:\n",
    "                null_values = adot_profile_mappings[key]\n",
    "            except:\n",
    "                pass\n",
    "            if val in adot_select_default_value(field_name=null_values):\n",
    "                continue\n",
    "            elif val.strip() ==\"있음\":\n",
    "                adot_profile_dict[key] = key.split(\"이력\")[0].strip()\n",
    "            else:\n",
    "                adot_profile_dict[key] = val\n",
    "\n",
    "        adot_template_dict = defaultdict(list)\n",
    "        for key, val in new_adot_profile_mappings.items():\n",
    "            adot_template_dict[val] = []\n",
    "\n",
    "        for key, val in adot_profile_dict.items():\n",
    "            try:\n",
    "                new_feature = new_adot_profile_mappings[key]\n",
    "                adot_template_dict[new_feature].append(val)\n",
    "            except:\n",
    "                pass\n",
    "        \n",
    "        adot_preferences = adot_template_dict.get('preference', [])\n",
    "\n",
    "        return dict(adot_template_dict)"
   ]
  },
  {
   "cell_type": "code",
   "execution_count": 99,
   "metadata": {
    "execution": {
     "iopub.execute_input": "2024-06-03T10:10:15.191881Z",
     "iopub.status.busy": "2024-06-03T10:10:15.191456Z",
     "iopub.status.idle": "2024-06-03T10:10:15.194891Z",
     "shell.execute_reply": "2024-06-03T10:10:15.194265Z",
     "shell.execute_reply.started": "2024-06-03T10:10:15.191849Z"
    },
    "tags": []
   },
   "outputs": [],
   "source": [
    "# def profile_normalize(profile:str, delimiter='<|n|>'):\n",
    "#     print(type(profile))\n",
    "#     return profile"
   ]
  },
  {
   "cell_type": "code",
   "execution_count": 100,
   "metadata": {
    "execution": {
     "iopub.execute_input": "2024-06-03T10:10:15.458891Z",
     "iopub.status.busy": "2024-06-03T10:10:15.458491Z",
     "iopub.status.idle": "2024-06-03T10:10:15.461925Z",
     "shell.execute_reply": "2024-06-03T10:10:15.461314Z",
     "shell.execute_reply.started": "2024-06-03T10:10:15.458859Z"
    },
    "tags": []
   },
   "outputs": [],
   "source": [
    "#dataset.features"
   ]
  },
  {
   "cell_type": "code",
   "execution_count": 104,
   "metadata": {
    "execution": {
     "iopub.execute_input": "2024-06-03T10:13:58.665429Z",
     "iopub.status.busy": "2024-06-03T10:13:58.664918Z",
     "iopub.status.idle": "2024-06-03T10:14:34.937182Z",
     "shell.execute_reply": "2024-06-03T10:14:34.936029Z",
     "shell.execute_reply.started": "2024-06-03T10:13:58.665391Z"
    },
    "tags": []
   },
   "outputs": [
    {
     "name": "stdout",
     "output_type": "stream",
     "text": [
      "선호 카테고리 : 음악(장르 : 해외 팝, 해외 락,  & 가수 : 스콜피온스, 산타나, 신디 로퍼) \n",
      "선호 카테고리 : 음악(장르 : 국내 알앤비, 국내 발라드, 국내 댄스/일렉 & 가수 : 비비, 아이유, 트와이스) \n",
      "선호 카테고리 : 음악(장르 : 국내 댄스/일렉, OST/BGM, 국내 팝/어쿠스틱 & 가수 : 르세라핌, 악뮤, (여자)아이들) \n",
      "선호 아이템 : 음악(Perfect Night, Love Lee, Turn Up The Sunshine (PNAU Remix / From 'Minions: The Rise of Gru' Soundtrack)) \n",
      "선호 카테고리 : 음악(장르 : 국내 알앤비, OST/BGM, 국내 댄스/일렉 & 가수 : 비비, 박학기, 청하) \n",
      "선호 카테고리 : 음악(장르 : 해외 팝, 국내 알앤비, OST/BGM & 가수 : 린, BloodPop®, Ella Grace) \n",
      "선호 카테고리 : 음악(장르 : 국내 발라드, 국내 알앤비, 국내 댄스/일렉 & 가수 : 브라운 아이드 소울, 나얼, 디에이드) \n",
      "선호 카테고리 : 음악(장르 : 키즈, 국내 알앤비, 국내 팝/어쿠스틱 & 가수 : 김하정, 동요싱싱, 십센치) \n",
      "선호 카테고리 : 음악(장르 : 국내 락/메탈, 국내 댄스/일렉, 국내 알앤비 & 가수 : 이무진, 데이식스, 아이유) \n",
      "선호 카테고리 : 음악(장르 : OST/BGM & 가수 : 백현) \n",
      "선호 카테고리 : 음악(장르 : 클래식, 뉴에이지, 트로트 & 가수 : 엔야, 엄정행, 이춘근) \n",
      "선호 카테고리 : 음악(장르 : 국내 락/메탈, 국내 발라드, OST/BGM & 가수 : 이문세, 변진섭, 경서예지) \n",
      "선호 카테고리 : 음악(장르 : 국내 발라드, 국내 팝/어쿠스틱, 국내 댄스/일렉 & 가수 : 에일리, 진성, 최호섭) \n",
      "선호 카테고리 : 음악(장르 : OST/BGM, 국내 댄스/일렉, 해외 일렉트로닉 & 가수 : (여자)아이들, 런던 보이스, 대니 엘프만) \n",
      "선호 카테고리 : 음악(장르 : 클래식 & 가수 : 이루마) \n",
      "선호 카테고리 : 음악(장르 : 국내 알앤비, 국내 힙합, 해외 힙합 & 가수 : 후디, 창모, 김성규) \n",
      "선호 아이템 : 음악(잠수함 (Submarine), Sunflower (Spider-Man: Into the Spider-Verse), Timid (Feat.창모)) \n",
      "선호 카테고리 : 음악(장르 : 국내 알앤비, 국내 힙합 & 가수 : 비비, 르세라핌) \n",
      "선호 카테고리 : 음악(장르 : 국내 댄스/일렉, 국내 알앤비, OST/BGM & 가수 : (여자)아이들, 아이브, 르세라핌) \n",
      "선호 카테고리 : 음악(장르 : 국내 발라드, 국내 락/메탈, 트로트 & 가수 : 이소정, 핑클, 영탁) \n",
      "선호 카테고리 : 음악(장르 : 국내 알앤비, 국내 발라드, 트로트 & 가수 : 비비, 은가은, 승관) \n",
      "선호 카테고리 : 음악(장르 : 국내 발라드, 국내 댄스/일렉, 국내 팝/어쿠스틱 & 가수 : (여자)아이들, 성시경, 아이유) \n",
      "선호 카테고리 : 음악(장르 : 국내 발라드, 국내 힙합, 국내 락/메탈 & 가수 : 아이유, 비비, 버즈) \n",
      "선호 카테고리 : 음악(장르 : 국내 댄스/일렉, 국내 발라드, 국내 알앤비 & 가수 : 뉴진스, 비비, 폴킴) \n",
      "선호 카테고리 : 음악(장르 : 트로트, OST/BGM, 국내 팝/어쿠스틱 & 가수 : 장윤정, 정동원, 이찬원) \n",
      "선호 카테고리 : 음악(장르 : 국내 팝/어쿠스틱, 국내 댄스/일렉, 국내 락/메탈 & 가수 : 김완선, 아이유, 김창완) \n",
      "선호 카테고리 : 음악(장르 : OST/BGM, 국내 댄스/일렉, 트로트 & 가수 : 정동원, 강민경, 아이브) \n",
      "선호 카테고리 : 음악(장르 : J-POP, 국내 댄스/일렉,  & 가수 : Ado, eill, 르세라핌) \n",
      "선호 카테고리 : 음악(장르 : 국내 발라드, 국내 알앤비, 국내 팝/어쿠스틱 & 가수 : 비비, 경서, 곽진언) \n",
      "선호 카테고리 : 음악(장르 : 해외 팝, 해외 락, 국내 발라드 & 가수 : 사이먼 앤드 가펑클, 퀸, 비틀스) \n",
      "선호 카테고리 : 음악(장르 : 트로트, OST/BGM, 국내 댄스/일렉 & 가수 : 홍지윤, 영탁, 장윤정) \n",
      "선호 카테고리 : 음악(장르 : 국내 댄스/일렉, 국내 발라드, 국내 팝/어쿠스틱 & 가수 : 에스지워너비, 김현정, 바비 킴) \n",
      "선호 카테고리 : 음악(장르 : 국내 발라드, 국내 포크/블루스, 국내 팝/어쿠스틱 & 가수 : 김광석, 조정현, 조정석) \n",
      "선호 카테고리 : 음악(장르 : 국내 발라드, 트로트, 국내 댄스/일렉 & 가수 : 임영웅, 정동원, 씨야) \n",
      "선호 카테고리 : 음악(장르 : 국내 알앤비, 국내 댄스/일렉, 국내 힙합 & 가수 : 아이유, 르세라핌, 태연) \n",
      "선호 카테고리 : 음악(장르 : 국내 발라드, 국내 팝/어쿠스틱, 국내 락/메탈 & 가수 : 임영웅, 성시경, 악뮤) \n",
      "선호 카테고리 : 음악(장르 : 국내 댄스/일렉, 국내 포크/블루스, 국내 발라드 & 가수 : 라이즈, 데이식스, 유키 구라모토) \n",
      "선호 카테고리 : 음악(장르 : 국내 발라드, 국내 알앤비, 국내 팝/어쿠스틱 & 가수 : 임영웅, 비비, 임재현) \n",
      "선호 카테고리 : 음악(장르 : 키즈, 국내 댄스/일렉, 해외 팝 & 가수 : (여자)아이들, 아이브, 이디나 멘젤) \n",
      "선호 카테고리 : 음악(장르 : 국내 댄스/일렉, OST/BGM, 국내 힙합 & 가수 : 런던 보이스, 아이브, Latto) \n",
      "선호 카테고리 : 음악(장르 : CCM, 국내 알앤비,  & 가수 : 야긴, 염평안, 제이어스) \n",
      "선호 카테고리 : 음악(장르 : OST/BGM,  & 가수 : 가호, 하현우) \n",
      "선호 카테고리 : 게임(하이퍼캐쥬얼) 음악(장르 : 국내 알앤비, 국내 댄스/일렉,  & 가수 : 조원선, 뉴진스, 아이브) 라디오(SBS 파워FM) \n",
      "선호 카테고리 : 음악(장르 : 국내 발라드 & 가수 : 박효신) \n",
      "선호 카테고리 : 음악(장르 : 해외 락, 해외 팝, 클래식 & 가수 : 이글스, 돈 헨리, 어쿠스틱카페) \n",
      "선호 카테고리 : 음악(장르 : 국내 발라드,  & 가수 : 성시경, 심규선, 유미) \n",
      "선호 카테고리 : 음악(장르 : 국내 댄스/일렉 & 가수 : 아이즈원) \n",
      "선호 카테고리 : 음악(장르 : 국내 발라드, 해외 팝, 국내 알앤비 & 가수 : 레이 브라운, 박재정, 릴 나스 엑스) \n",
      "선호 카테고리 : 게임(하이퍼캐쥬얼, 심리테스트) 음악(장르 : 국내 힙합, 국내 댄스/일렉, 국내 알앤비 & 가수 : 방탄소년단, ) \n",
      "선호 카테고리 : 음악(장르 : 국내 알앤비, 국내 발라드, 국내 댄스/일렉 & 가수 : 태연, 임영웅, 경서) \n",
      "선호 카테고리 : 음악(장르 : 국내 발라드, 국내 팝/어쿠스틱,  & 가수 : 아이유, 임영웅, 스티브 아오키) \n",
      "선호 카테고리 : 음악(장르 : OST/BGM, 국내 댄스/일렉, 국내 발라드 & 가수 : S.F.A, 뉴진스, 김가해) \n",
      "선호 카테고리 : 음악(장르 : 국내 발라드, OST/BGM, 국내 팝/어쿠스틱 & 가수 : 임영웅, 태연, 디케이) \n",
      "선호 아이템 : TV(판의 미로: 오필리아와 세개의 열쇠, 나는 내일, 어제의 너와 만난다, CJ ENM 드라마 클립) \n",
      "선호 카테고리 : 음악(장르 : 국내 발라드,  & 가수 : 지오디, 노을) \n",
      "선호 카테고리 : 음악(장르 : OST/BGM, 국내 발라드, 국내 댄스/일렉 & 가수 : 미연, 이승철, 성시경) \n",
      "선호 카테고리 : 음악(장르 : 재즈, 월드뮤직, 해외 팝 & 가수 : Roberto Menescal, 스모키 앤 미호, 보사 노바 누보) \n",
      "선호 카테고리 : 음악(장르 : 국내 발라드, 국내 인디, 국내 댄스/일렉 & 가수 : 디오, 화곡동 청개구리, 디케이) \n"
     ]
    },
    {
     "ename": "KeyboardInterrupt",
     "evalue": "",
     "output_type": "error",
     "traceback": [
      "\u001b[0;31m---------------------------------------------------------------------------\u001b[0m",
      "\u001b[0;31mKeyboardInterrupt\u001b[0m                         Traceback (most recent call last)",
      "Cell \u001b[0;32mIn[104], line 3\u001b[0m\n\u001b[1;32m      1\u001b[0m samples \u001b[38;5;241m=\u001b[39m []\n\u001b[1;32m      2\u001b[0m i \u001b[38;5;241m=\u001b[39m \u001b[38;5;241m0\u001b[39m\n\u001b[0;32m----> 3\u001b[0m \u001b[38;5;28;01mfor\u001b[39;00m data \u001b[38;5;129;01min\u001b[39;00m dataset\u001b[38;5;241m.\u001b[39mmap(profile_normalize, remove_columns\u001b[38;5;241m=\u001b[39m[\u001b[38;5;124m'\u001b[39m\u001b[38;5;124muser_vector\u001b[39m\u001b[38;5;124m'\u001b[39m, \u001b[38;5;124m'\u001b[39m\u001b[38;5;124mmno_profile_feature\u001b[39m\u001b[38;5;124m'\u001b[39m]):\n\u001b[1;32m      4\u001b[0m     samples\u001b[38;5;241m.\u001b[39mappend(data)\n\u001b[1;32m      5\u001b[0m     i \u001b[38;5;241m=\u001b[39m i\u001b[38;5;241m+\u001b[39m\u001b[38;5;241m1\u001b[39m\n",
      "File \u001b[0;32m/usr/local/lib/python3.8/site-packages/datasets/iterable_dataset.py:1389\u001b[0m, in \u001b[0;36mIterableDataset.__iter__\u001b[0;34m(self)\u001b[0m\n\u001b[1;32m   1386\u001b[0m         \u001b[38;5;28;01myield\u001b[39;00m formatter\u001b[38;5;241m.\u001b[39mformat_row(pa_table)\n\u001b[1;32m   1387\u001b[0m     \u001b[38;5;28;01mreturn\u001b[39;00m\n\u001b[0;32m-> 1389\u001b[0m \u001b[38;5;28;01mfor\u001b[39;00m key, example \u001b[38;5;129;01min\u001b[39;00m ex_iterable:\n\u001b[1;32m   1390\u001b[0m     \u001b[38;5;28;01mif\u001b[39;00m \u001b[38;5;28mself\u001b[39m\u001b[38;5;241m.\u001b[39mfeatures:\n\u001b[1;32m   1391\u001b[0m         \u001b[38;5;66;03m# `IterableDataset` automatically fills missing columns with None.\u001b[39;00m\n\u001b[1;32m   1392\u001b[0m         \u001b[38;5;66;03m# This is done with `_apply_feature_types_on_example`.\u001b[39;00m\n\u001b[1;32m   1393\u001b[0m         example \u001b[38;5;241m=\u001b[39m _apply_feature_types_on_example(\n\u001b[1;32m   1394\u001b[0m             example, \u001b[38;5;28mself\u001b[39m\u001b[38;5;241m.\u001b[39mfeatures, token_per_repo_id\u001b[38;5;241m=\u001b[39m\u001b[38;5;28mself\u001b[39m\u001b[38;5;241m.\u001b[39m_token_per_repo_id\n\u001b[1;32m   1395\u001b[0m         )\n",
      "File \u001b[0;32m/usr/local/lib/python3.8/site-packages/datasets/iterable_dataset.py:679\u001b[0m, in \u001b[0;36mMappedExamplesIterable.__iter__\u001b[0;34m(self)\u001b[0m\n\u001b[1;32m    677\u001b[0m     \u001b[38;5;28;01myield from\u001b[39;00m ArrowExamplesIterable(\u001b[38;5;28mself\u001b[39m\u001b[38;5;241m.\u001b[39m_iter_arrow, {})\n\u001b[1;32m    678\u001b[0m \u001b[38;5;28;01melse\u001b[39;00m:\n\u001b[0;32m--> 679\u001b[0m     \u001b[38;5;28;01myield from\u001b[39;00m \u001b[38;5;28mself\u001b[39m\u001b[38;5;241m.\u001b[39m_iter()\n",
      "File \u001b[0;32m/usr/local/lib/python3.8/site-packages/datasets/iterable_dataset.py:741\u001b[0m, in \u001b[0;36mMappedExamplesIterable._iter\u001b[0;34m(self)\u001b[0m\n\u001b[1;32m    739\u001b[0m             current_idx \u001b[38;5;241m+\u001b[39m\u001b[38;5;241m=\u001b[39m \u001b[38;5;241m1\u001b[39m\n\u001b[1;32m    740\u001b[0m \u001b[38;5;28;01melse\u001b[39;00m:\n\u001b[0;32m--> 741\u001b[0m     \u001b[38;5;28;01mfor\u001b[39;00m key, example \u001b[38;5;129;01min\u001b[39;00m iterator:\n\u001b[1;32m    742\u001b[0m         \u001b[38;5;66;03m# If not batched, we can apply the transform and yield the example directly\u001b[39;00m\n\u001b[1;32m    743\u001b[0m         \u001b[38;5;66;03m# first copy the example, since we might drop some keys\u001b[39;00m\n\u001b[1;32m    744\u001b[0m         example \u001b[38;5;241m=\u001b[39m \u001b[38;5;28mdict\u001b[39m(example)\n\u001b[1;32m    745\u001b[0m         example \u001b[38;5;241m=\u001b[39m format_dict(example) \u001b[38;5;28;01mif\u001b[39;00m format_dict \u001b[38;5;28;01melse\u001b[39;00m example\n",
      "File \u001b[0;32m/usr/local/lib/python3.8/site-packages/datasets/iterable_dataset.py:1122\u001b[0m, in \u001b[0;36mTypedExamplesIterable.__iter__\u001b[0;34m(self)\u001b[0m\n\u001b[1;32m   1116\u001b[0m \u001b[38;5;28;01mdef\u001b[39;00m \u001b[38;5;21m__iter__\u001b[39m(\u001b[38;5;28mself\u001b[39m):\n\u001b[1;32m   1117\u001b[0m     \u001b[38;5;66;03m# Then for each example, `TypedExamplesIterable` automatically fills missing columns with None.\u001b[39;00m\n\u001b[1;32m   1118\u001b[0m     \u001b[38;5;66;03m# This is done with `_apply_feature_types_on_example`.\u001b[39;00m\n\u001b[1;32m   1119\u001b[0m     \u001b[38;5;28;01mfor\u001b[39;00m key, example \u001b[38;5;129;01min\u001b[39;00m \u001b[38;5;28mself\u001b[39m\u001b[38;5;241m.\u001b[39mex_iterable:\n\u001b[1;32m   1120\u001b[0m         \u001b[38;5;28;01myield\u001b[39;00m (\n\u001b[1;32m   1121\u001b[0m             key,\n\u001b[0;32m-> 1122\u001b[0m             \u001b[43m_apply_feature_types_on_example\u001b[49m\u001b[43m(\u001b[49m\u001b[43mexample\u001b[49m\u001b[43m,\u001b[49m\u001b[43m \u001b[49m\u001b[38;5;28;43mself\u001b[39;49m\u001b[38;5;241;43m.\u001b[39;49m\u001b[43mfeatures\u001b[49m\u001b[43m,\u001b[49m\u001b[43m \u001b[49m\u001b[43mtoken_per_repo_id\u001b[49m\u001b[38;5;241;43m=\u001b[39;49m\u001b[38;5;28;43mself\u001b[39;49m\u001b[38;5;241;43m.\u001b[39;49m\u001b[43mtoken_per_repo_id\u001b[49m\u001b[43m)\u001b[49m,\n\u001b[1;32m   1123\u001b[0m         )\n",
      "File \u001b[0;32m/usr/local/lib/python3.8/site-packages/datasets/iterable_dataset.py:1080\u001b[0m, in \u001b[0;36m_apply_feature_types_on_example\u001b[0;34m(example, features, token_per_repo_id)\u001b[0m\n\u001b[1;32m   1078\u001b[0m         example[column_name] \u001b[38;5;241m=\u001b[39m \u001b[38;5;28;01mNone\u001b[39;00m\n\u001b[1;32m   1079\u001b[0m \u001b[38;5;66;03m# we encode the example for ClassLabel feature types for example\u001b[39;00m\n\u001b[0;32m-> 1080\u001b[0m encoded_example \u001b[38;5;241m=\u001b[39m \u001b[43mfeatures\u001b[49m\u001b[38;5;241;43m.\u001b[39;49m\u001b[43mencode_example\u001b[49m\u001b[43m(\u001b[49m\u001b[43mexample\u001b[49m\u001b[43m)\u001b[49m\n\u001b[1;32m   1081\u001b[0m \u001b[38;5;66;03m# Decode example for Audio feature, e.g.\u001b[39;00m\n\u001b[1;32m   1082\u001b[0m decoded_example \u001b[38;5;241m=\u001b[39m features\u001b[38;5;241m.\u001b[39mdecode_example(encoded_example, token_per_repo_id\u001b[38;5;241m=\u001b[39mtoken_per_repo_id)\n",
      "File \u001b[0;32m/usr/local/lib/python3.8/site-packages/datasets/features/features.py:1924\u001b[0m, in \u001b[0;36mFeatures.encode_example\u001b[0;34m(self, example)\u001b[0m\n\u001b[1;32m   1913\u001b[0m \u001b[38;5;250m\u001b[39m\u001b[38;5;124;03m\"\"\"\u001b[39;00m\n\u001b[1;32m   1914\u001b[0m \u001b[38;5;124;03mEncode example into a format for Arrow.\u001b[39;00m\n\u001b[1;32m   1915\u001b[0m \n\u001b[0;32m   (...)\u001b[0m\n\u001b[1;32m   1921\u001b[0m \u001b[38;5;124;03m    `dict[str, Any]`\u001b[39;00m\n\u001b[1;32m   1922\u001b[0m \u001b[38;5;124;03m\"\"\"\u001b[39;00m\n\u001b[1;32m   1923\u001b[0m example \u001b[38;5;241m=\u001b[39m cast_to_python_objects(example)\n\u001b[0;32m-> 1924\u001b[0m \u001b[38;5;28;01mreturn\u001b[39;00m \u001b[43mencode_nested_example\u001b[49m\u001b[43m(\u001b[49m\u001b[38;5;28;43mself\u001b[39;49m\u001b[43m,\u001b[49m\u001b[43m \u001b[49m\u001b[43mexample\u001b[49m\u001b[43m)\u001b[49m\n",
      "File \u001b[0;32m/usr/local/lib/python3.8/site-packages/datasets/features/features.py:1244\u001b[0m, in \u001b[0;36mencode_nested_example\u001b[0;34m(schema, obj, level)\u001b[0m\n\u001b[1;32m   1241\u001b[0m     \u001b[38;5;28;01mif\u001b[39;00m level \u001b[38;5;241m==\u001b[39m \u001b[38;5;241m0\u001b[39m \u001b[38;5;129;01mand\u001b[39;00m obj \u001b[38;5;129;01mis\u001b[39;00m \u001b[38;5;28;01mNone\u001b[39;00m:\n\u001b[1;32m   1242\u001b[0m         \u001b[38;5;28;01mraise\u001b[39;00m \u001b[38;5;167;01mValueError\u001b[39;00m(\u001b[38;5;124m\"\u001b[39m\u001b[38;5;124mGot None but expected a dictionary instead\u001b[39m\u001b[38;5;124m\"\u001b[39m)\n\u001b[1;32m   1243\u001b[0m     \u001b[38;5;28;01mreturn\u001b[39;00m (\n\u001b[0;32m-> 1244\u001b[0m         {k: encode_nested_example(schema[k], obj\u001b[38;5;241m.\u001b[39mget(k), level\u001b[38;5;241m=\u001b[39mlevel \u001b[38;5;241m+\u001b[39m \u001b[38;5;241m1\u001b[39m) \u001b[38;5;28;01mfor\u001b[39;00m k \u001b[38;5;129;01min\u001b[39;00m schema}\n\u001b[1;32m   1245\u001b[0m         \u001b[38;5;28;01mif\u001b[39;00m obj \u001b[38;5;129;01mis\u001b[39;00m \u001b[38;5;129;01mnot\u001b[39;00m \u001b[38;5;28;01mNone\u001b[39;00m\n\u001b[1;32m   1246\u001b[0m         \u001b[38;5;28;01melse\u001b[39;00m \u001b[38;5;28;01mNone\u001b[39;00m\n\u001b[1;32m   1247\u001b[0m     )\n\u001b[1;32m   1249\u001b[0m \u001b[38;5;28;01melif\u001b[39;00m \u001b[38;5;28misinstance\u001b[39m(schema, (\u001b[38;5;28mlist\u001b[39m, \u001b[38;5;28mtuple\u001b[39m)):\n\u001b[1;32m   1250\u001b[0m     sub_schema \u001b[38;5;241m=\u001b[39m schema[\u001b[38;5;241m0\u001b[39m]\n",
      "File \u001b[0;32m/usr/local/lib/python3.8/site-packages/datasets/features/features.py:1244\u001b[0m, in \u001b[0;36m<dictcomp>\u001b[0;34m(.0)\u001b[0m\n\u001b[1;32m   1241\u001b[0m     \u001b[38;5;28;01mif\u001b[39;00m level \u001b[38;5;241m==\u001b[39m \u001b[38;5;241m0\u001b[39m \u001b[38;5;129;01mand\u001b[39;00m obj \u001b[38;5;129;01mis\u001b[39;00m \u001b[38;5;28;01mNone\u001b[39;00m:\n\u001b[1;32m   1242\u001b[0m         \u001b[38;5;28;01mraise\u001b[39;00m \u001b[38;5;167;01mValueError\u001b[39;00m(\u001b[38;5;124m\"\u001b[39m\u001b[38;5;124mGot None but expected a dictionary instead\u001b[39m\u001b[38;5;124m\"\u001b[39m)\n\u001b[1;32m   1243\u001b[0m     \u001b[38;5;28;01mreturn\u001b[39;00m (\n\u001b[0;32m-> 1244\u001b[0m         {k: \u001b[43mencode_nested_example\u001b[49m\u001b[43m(\u001b[49m\u001b[43mschema\u001b[49m\u001b[43m[\u001b[49m\u001b[43mk\u001b[49m\u001b[43m]\u001b[49m\u001b[43m,\u001b[49m\u001b[43m \u001b[49m\u001b[43mobj\u001b[49m\u001b[38;5;241;43m.\u001b[39;49m\u001b[43mget\u001b[49m\u001b[43m(\u001b[49m\u001b[43mk\u001b[49m\u001b[43m)\u001b[49m\u001b[43m,\u001b[49m\u001b[43m \u001b[49m\u001b[43mlevel\u001b[49m\u001b[38;5;241;43m=\u001b[39;49m\u001b[43mlevel\u001b[49m\u001b[43m \u001b[49m\u001b[38;5;241;43m+\u001b[39;49m\u001b[43m \u001b[49m\u001b[38;5;241;43m1\u001b[39;49m\u001b[43m)\u001b[49m \u001b[38;5;28;01mfor\u001b[39;00m k \u001b[38;5;129;01min\u001b[39;00m schema}\n\u001b[1;32m   1245\u001b[0m         \u001b[38;5;28;01mif\u001b[39;00m obj \u001b[38;5;129;01mis\u001b[39;00m \u001b[38;5;129;01mnot\u001b[39;00m \u001b[38;5;28;01mNone\u001b[39;00m\n\u001b[1;32m   1246\u001b[0m         \u001b[38;5;28;01melse\u001b[39;00m \u001b[38;5;28;01mNone\u001b[39;00m\n\u001b[1;32m   1247\u001b[0m     )\n\u001b[1;32m   1249\u001b[0m \u001b[38;5;28;01melif\u001b[39;00m \u001b[38;5;28misinstance\u001b[39m(schema, (\u001b[38;5;28mlist\u001b[39m, \u001b[38;5;28mtuple\u001b[39m)):\n\u001b[1;32m   1250\u001b[0m     sub_schema \u001b[38;5;241m=\u001b[39m schema[\u001b[38;5;241m0\u001b[39m]\n",
      "File \u001b[0;32m/usr/local/lib/python3.8/site-packages/datasets/features/features.py:1295\u001b[0m, in \u001b[0;36mencode_nested_example\u001b[0;34m(schema, obj, level)\u001b[0m\n\u001b[1;32m   1290\u001b[0m             \u001b[38;5;66;03m# be careful when comparing tensors here\u001b[39;00m\n\u001b[1;32m   1291\u001b[0m             \u001b[38;5;28;01mif\u001b[39;00m (\n\u001b[1;32m   1292\u001b[0m                 \u001b[38;5;129;01mnot\u001b[39;00m \u001b[38;5;28misinstance\u001b[39m(first_elmt, \u001b[38;5;28mlist\u001b[39m)\n\u001b[1;32m   1293\u001b[0m                 \u001b[38;5;129;01mor\u001b[39;00m encode_nested_example(schema\u001b[38;5;241m.\u001b[39mfeature, first_elmt, level\u001b[38;5;241m=\u001b[39mlevel \u001b[38;5;241m+\u001b[39m \u001b[38;5;241m1\u001b[39m) \u001b[38;5;241m!=\u001b[39m first_elmt\n\u001b[1;32m   1294\u001b[0m             ):\n\u001b[0;32m-> 1295\u001b[0m                 \u001b[38;5;28;01mreturn\u001b[39;00m [encode_nested_example(schema\u001b[38;5;241m.\u001b[39mfeature, o, level\u001b[38;5;241m=\u001b[39mlevel \u001b[38;5;241m+\u001b[39m \u001b[38;5;241m1\u001b[39m) \u001b[38;5;28;01mfor\u001b[39;00m o \u001b[38;5;129;01min\u001b[39;00m obj]\n\u001b[1;32m   1296\u001b[0m         \u001b[38;5;28;01mreturn\u001b[39;00m \u001b[38;5;28mlist\u001b[39m(obj)\n\u001b[1;32m   1297\u001b[0m \u001b[38;5;66;03m# Object with special encoding:\u001b[39;00m\n\u001b[1;32m   1298\u001b[0m \u001b[38;5;66;03m# ClassLabel will convert from string to int, TranslationVariableLanguages does some checks\u001b[39;00m\n",
      "File \u001b[0;32m/usr/local/lib/python3.8/site-packages/datasets/features/features.py:1295\u001b[0m, in \u001b[0;36m<listcomp>\u001b[0;34m(.0)\u001b[0m\n\u001b[1;32m   1290\u001b[0m             \u001b[38;5;66;03m# be careful when comparing tensors here\u001b[39;00m\n\u001b[1;32m   1291\u001b[0m             \u001b[38;5;28;01mif\u001b[39;00m (\n\u001b[1;32m   1292\u001b[0m                 \u001b[38;5;129;01mnot\u001b[39;00m \u001b[38;5;28misinstance\u001b[39m(first_elmt, \u001b[38;5;28mlist\u001b[39m)\n\u001b[1;32m   1293\u001b[0m                 \u001b[38;5;129;01mor\u001b[39;00m encode_nested_example(schema\u001b[38;5;241m.\u001b[39mfeature, first_elmt, level\u001b[38;5;241m=\u001b[39mlevel \u001b[38;5;241m+\u001b[39m \u001b[38;5;241m1\u001b[39m) \u001b[38;5;241m!=\u001b[39m first_elmt\n\u001b[1;32m   1294\u001b[0m             ):\n\u001b[0;32m-> 1295\u001b[0m                 \u001b[38;5;28;01mreturn\u001b[39;00m [\u001b[43mencode_nested_example\u001b[49m\u001b[43m(\u001b[49m\u001b[43mschema\u001b[49m\u001b[38;5;241;43m.\u001b[39;49m\u001b[43mfeature\u001b[49m\u001b[43m,\u001b[49m\u001b[43m \u001b[49m\u001b[43mo\u001b[49m\u001b[43m,\u001b[49m\u001b[43m \u001b[49m\u001b[43mlevel\u001b[49m\u001b[38;5;241;43m=\u001b[39;49m\u001b[43mlevel\u001b[49m\u001b[43m \u001b[49m\u001b[38;5;241;43m+\u001b[39;49m\u001b[43m \u001b[49m\u001b[38;5;241;43m1\u001b[39;49m\u001b[43m)\u001b[49m \u001b[38;5;28;01mfor\u001b[39;00m o \u001b[38;5;129;01min\u001b[39;00m obj]\n\u001b[1;32m   1296\u001b[0m         \u001b[38;5;28;01mreturn\u001b[39;00m \u001b[38;5;28mlist\u001b[39m(obj)\n\u001b[1;32m   1297\u001b[0m \u001b[38;5;66;03m# Object with special encoding:\u001b[39;00m\n\u001b[1;32m   1298\u001b[0m \u001b[38;5;66;03m# ClassLabel will convert from string to int, TranslationVariableLanguages does some checks\u001b[39;00m\n",
      "File \u001b[0;32m/usr/local/lib/python3.8/site-packages/datasets/features/features.py:1300\u001b[0m, in \u001b[0;36mencode_nested_example\u001b[0;34m(schema, obj, level)\u001b[0m\n\u001b[1;32m   1297\u001b[0m \u001b[38;5;66;03m# Object with special encoding:\u001b[39;00m\n\u001b[1;32m   1298\u001b[0m \u001b[38;5;66;03m# ClassLabel will convert from string to int, TranslationVariableLanguages does some checks\u001b[39;00m\n\u001b[1;32m   1299\u001b[0m \u001b[38;5;28;01melif\u001b[39;00m \u001b[38;5;28misinstance\u001b[39m(schema, (Audio, Image, ClassLabel, TranslationVariableLanguages, Value, _ArrayXD)):\n\u001b[0;32m-> 1300\u001b[0m     \u001b[38;5;28;01mreturn\u001b[39;00m \u001b[43mschema\u001b[49m\u001b[38;5;241;43m.\u001b[39;49m\u001b[43mencode_example\u001b[49m\u001b[43m(\u001b[49m\u001b[43mobj\u001b[49m\u001b[43m)\u001b[49m \u001b[38;5;28;01mif\u001b[39;00m obj \u001b[38;5;129;01mis\u001b[39;00m \u001b[38;5;129;01mnot\u001b[39;00m \u001b[38;5;28;01mNone\u001b[39;00m \u001b[38;5;28;01melse\u001b[39;00m \u001b[38;5;28;01mNone\u001b[39;00m\n\u001b[1;32m   1301\u001b[0m \u001b[38;5;66;03m# Other object should be directly convertible to a native Arrow type (like Translation and Translation)\u001b[39;00m\n\u001b[1;32m   1302\u001b[0m \u001b[38;5;28;01mreturn\u001b[39;00m obj\n",
      "File \u001b[0;32m/usr/local/lib/python3.8/site-packages/datasets/features/features.py:516\u001b[0m, in \u001b[0;36mValue.encode_example\u001b[0;34m(self, value)\u001b[0m\n\u001b[1;32m    514\u001b[0m \u001b[38;5;28;01melif\u001b[39;00m pa\u001b[38;5;241m.\u001b[39mtypes\u001b[38;5;241m.\u001b[39mis_integer(\u001b[38;5;28mself\u001b[39m\u001b[38;5;241m.\u001b[39mpa_type):\n\u001b[1;32m    515\u001b[0m     \u001b[38;5;28;01mreturn\u001b[39;00m \u001b[38;5;28mint\u001b[39m(value)\n\u001b[0;32m--> 516\u001b[0m \u001b[38;5;28;01melif\u001b[39;00m \u001b[43mpa\u001b[49m\u001b[38;5;241;43m.\u001b[39;49m\u001b[43mtypes\u001b[49m\u001b[38;5;241;43m.\u001b[39;49m\u001b[43mis_floating\u001b[49m(\u001b[38;5;28mself\u001b[39m\u001b[38;5;241m.\u001b[39mpa_type):\n\u001b[1;32m    517\u001b[0m     \u001b[38;5;28;01mreturn\u001b[39;00m \u001b[38;5;28mfloat\u001b[39m(value)\n\u001b[1;32m    518\u001b[0m \u001b[38;5;28;01melif\u001b[39;00m pa\u001b[38;5;241m.\u001b[39mtypes\u001b[38;5;241m.\u001b[39mis_string(\u001b[38;5;28mself\u001b[39m\u001b[38;5;241m.\u001b[39mpa_type):\n",
      "\u001b[0;31mKeyboardInterrupt\u001b[0m: "
     ]
    }
   ],
   "source": [
    "samples = []\n",
    "i = 0\n",
    "for data in dataset.map(profile_normalize, remove_columns=['user_vector', 'mno_profile_feature']):\n",
    "    samples.append(data)\n",
    "    i = i+1\n",
    "    if i > 10000:\n",
    "        break"
   ]
  },
  {
   "cell_type": "code",
   "execution_count": 96,
   "metadata": {
    "execution": {
     "iopub.execute_input": "2024-06-03T10:09:27.025961Z",
     "iopub.status.busy": "2024-06-03T10:09:27.025536Z",
     "iopub.status.idle": "2024-06-03T10:09:27.030367Z",
     "shell.execute_reply": "2024-06-03T10:09:27.029726Z",
     "shell.execute_reply.started": "2024-06-03T10:09:27.025928Z"
    },
    "tags": []
   },
   "outputs": [
    {
     "name": "stdout",
     "output_type": "stream",
     "text": [
      "['전화', '낮음']\n",
      "['전화', '낮음']\n",
      "['높음']\n",
      "['낮음']\n",
      "['전화', '낮음']\n",
      "['보통']\n",
      "['전화', '낮음']\n",
      "['전화', '낮음']\n",
      "['전화', '낮음']\n",
      "['낮음']\n",
      "['낮음']\n",
      "['낮음']\n",
      "['포토', '높음']\n",
      "['전화', '낮음']\n",
      "['전화', '낮음']\n",
      "['낮음']\n",
      "['전화', '낮음']\n",
      "['전화', '낮음']\n"
     ]
    }
   ],
   "source": [
    "for sample in samples:\n",
    "    if sample['preference'] != []:\n",
    "        print(sample['preference'])"
   ]
  },
  {
   "cell_type": "code",
   "execution_count": 68,
   "metadata": {
    "execution": {
     "iopub.execute_input": "2024-06-03T10:06:08.812564Z",
     "iopub.status.busy": "2024-06-03T10:06:08.812129Z",
     "iopub.status.idle": "2024-06-03T10:06:08.815649Z",
     "shell.execute_reply": "2024-06-03T10:06:08.815007Z",
     "shell.execute_reply.started": "2024-06-03T10:06:08.812531Z"
    },
    "tags": []
   },
   "outputs": [],
   "source": [
    "# samples = []\n",
    "# for data in dataset.map(profile_normalize, batched=True, batch_size=100 , remove_columns=['user_vector', 'mno_profile_feature']):\n",
    "#     samples.append(data)\n",
    "#     break"
   ]
  },
  {
   "cell_type": "code",
   "execution_count": null,
   "metadata": {},
   "outputs": [],
   "source": []
  },
  {
   "cell_type": "code",
   "execution_count": 20,
   "metadata": {
    "execution": {
     "iopub.execute_input": "2024-06-03T09:38:37.431360Z",
     "iopub.status.busy": "2024-06-03T09:38:37.430935Z",
     "iopub.status.idle": "2024-06-03T09:38:37.436080Z",
     "shell.execute_reply": "2024-06-03T09:38:37.435328Z",
     "shell.execute_reply.started": "2024-06-03T09:38:37.431326Z"
    },
    "tags": []
   },
   "outputs": [],
   "source": [
    "from collections import defaultdict\n",
    "def profile_normalize(profile:str, delimiter='<|n|>'):\n",
    "        adot_profile = profile[\"adot_profile_feature\"]\n",
    "        adot_profiles = adot_profile.split(delimiter)\n",
    "        adot_profile_dict = dict()"
   ]
  },
  {
   "cell_type": "code",
   "execution_count": 163,
   "metadata": {
    "execution": {
     "iopub.execute_input": "2024-06-03T08:40:37.965123Z",
     "iopub.status.busy": "2024-06-03T08:40:37.964715Z",
     "iopub.status.idle": "2024-06-03T08:40:40.679494Z",
     "shell.execute_reply": "2024-06-03T08:40:40.678673Z",
     "shell.execute_reply.started": "2024-06-03T08:40:37.965093Z"
    },
    "tags": []
   },
   "outputs": [
    {
     "data": {
      "text/plain": [
       "{'preference': '쇼핑: 오픈마켓,해외직구\\n미디어/엔터테인먼트: OTT',\n",
       " 'gender': ['여자'],\n",
       " 'age': ['42세'],\n",
       " 'service_duration': ['11년'],\n",
       " 'days_after_change': ['1355일'],\n",
       " 'mno_status': ['베이직플러스', '고가', 'samsung', 'vip', '가족 결합'],\n",
       " 'plan_price': ['59000원'],\n",
       " 'avg_data_usage': ['13gb']}"
      ]
     },
     "execution_count": 163,
     "metadata": {},
     "output_type": "execute_result"
    }
   ],
   "source": [
    "dict(profile_normalize(next(iter(dataset))))"
   ]
  },
  {
   "cell_type": "code",
   "execution_count": 40,
   "metadata": {
    "execution": {
     "iopub.execute_input": "2024-06-03T07:03:54.641113Z",
     "iopub.status.busy": "2024-06-03T07:03:54.640703Z",
     "iopub.status.idle": "2024-06-03T07:03:54.644728Z",
     "shell.execute_reply": "2024-06-03T07:03:54.643971Z",
     "shell.execute_reply.started": "2024-06-03T07:03:54.641083Z"
    },
    "tags": []
   },
   "outputs": [],
   "source": [
    "adot_profile = data[\"adot_profile_feature\"]\n",
    "adot_profiles = adot_profile.split('<|n|>')"
   ]
  },
  {
   "cell_type": "code",
   "execution_count": 164,
   "metadata": {
    "execution": {
     "iopub.execute_input": "2024-06-03T08:41:48.390431Z",
     "iopub.status.busy": "2024-06-03T08:41:48.389879Z",
     "iopub.status.idle": "2024-06-03T08:41:48.396448Z",
     "shell.execute_reply": "2024-06-03T08:41:48.395466Z",
     "shell.execute_reply.started": "2024-06-03T08:41:48.390394Z"
    },
    "tags": []
   },
   "outputs": [
    {
     "data": {
      "text/plain": [
       "'선호 도메인 : 없음<|n|>선호 카테고리 : 없음<|n|>선호 아이템 : 없음<|n|>성별 : 여성<|n|>나이 : 42<|n|>활성 상태 : 복귀<|n|>다중 도메인 성향 : 없음<|n|>인기 컨텐츠 선호도 : 없음<|n|>사용성 기준 : 라이트유저<|n|>헤비유저인 도메인 : T 서비스'"
      ]
     },
     "execution_count": 164,
     "metadata": {},
     "output_type": "execute_result"
    }
   ],
   "source": [
    "data_list[0]"
   ]
  },
  {
   "cell_type": "code",
   "execution_count": 157,
   "metadata": {
    "execution": {
     "iopub.execute_input": "2024-06-03T08:23:29.403448Z",
     "iopub.status.busy": "2024-06-03T08:23:29.403048Z",
     "iopub.status.idle": "2024-06-03T08:23:29.409081Z",
     "shell.execute_reply": "2024-06-03T08:23:29.408343Z",
     "shell.execute_reply.started": "2024-06-03T08:23:29.403416Z"
    },
    "tags": []
   },
   "outputs": [],
   "source": [
    "preferred_category = set()\n",
    "preferred_item = set()\n",
    "preferred_domain =set()\n",
    "for data in data_list:\n",
    "    preferred_domain.add(data.split('<|n|>')[0])\n",
    "    preferred_category.add(data.split('<|n|>')[1])\n",
    "    preferred_item.add(data.split('<|n|>')[2])\n",
    "    "
   ]
  },
  {
   "cell_type": "code",
   "execution_count": 159,
   "metadata": {
    "execution": {
     "iopub.execute_input": "2024-06-03T08:23:34.447911Z",
     "iopub.status.busy": "2024-06-03T08:23:34.447516Z",
     "iopub.status.idle": "2024-06-03T08:23:34.452840Z",
     "shell.execute_reply": "2024-06-03T08:23:34.452153Z",
     "shell.execute_reply.started": "2024-06-03T08:23:34.447880Z"
    },
    "tags": []
   },
   "outputs": [
    {
     "data": {
      "text/plain": [
       "{'선호 도메인 : 게임, 전화',\n",
       " '선호 도메인 : 날씨',\n",
       " '선호 도메인 : 없음',\n",
       " '선호 도메인 : 운세',\n",
       " '선호 도메인 : 음악',\n",
       " '선호 도메인 : 전화',\n",
       " '선호 도메인 : 포토',\n",
       " '선호 도메인 : 포토, 게임'}"
      ]
     },
     "execution_count": 159,
     "metadata": {},
     "output_type": "execute_result"
    }
   ],
   "source": [
    "preferred_domain"
   ]
  },
  {
   "cell_type": "code",
   "execution_count": 158,
   "metadata": {
    "execution": {
     "iopub.execute_input": "2024-06-03T08:23:30.681030Z",
     "iopub.status.busy": "2024-06-03T08:23:30.680637Z",
     "iopub.status.idle": "2024-06-03T08:23:30.685964Z",
     "shell.execute_reply": "2024-06-03T08:23:30.685279Z",
     "shell.execute_reply.started": "2024-06-03T08:23:30.680999Z"
    },
    "tags": []
   },
   "outputs": [
    {
     "data": {
      "text/plain": [
       "{'선호 카테고리 : 게임(하이퍼캐쥬얼, 심리테스트) ',\n",
       " '선호 카테고리 : 없음',\n",
       " '선호 카테고리 : 음악(장르 : 국내 댄스/일렉, OST/BGM, 국내 팝/어쿠스틱 & 가수 : 르세라핌, 악뮤, (여자)아이들) ',\n",
       " '선호 카테고리 : 음악(장르 : 국내 알앤비, 국내 발라드, 국내 댄스/일렉 & 가수 : 비비, 아이유, 트와이스) ',\n",
       " '선호 카테고리 : 음악(장르 : 해외 팝, 해외 락,  & 가수 : 스콜피온스, 산타나, 신디 로퍼) '}"
      ]
     },
     "execution_count": 158,
     "metadata": {},
     "output_type": "execute_result"
    }
   ],
   "source": [
    "preferred_category"
   ]
  },
  {
   "cell_type": "code",
   "execution_count": 100,
   "metadata": {
    "execution": {
     "iopub.execute_input": "2024-06-03T07:48:30.435637Z",
     "iopub.status.busy": "2024-06-03T07:48:30.435210Z",
     "iopub.status.idle": "2024-06-03T07:48:30.440067Z",
     "shell.execute_reply": "2024-06-03T07:48:30.439470Z",
     "shell.execute_reply.started": "2024-06-03T07:48:30.435606Z"
    },
    "tags": []
   },
   "outputs": [
    {
     "data": {
      "text/plain": [
       "{'선호 아이템 : 게임(미니펫, 스택폴, 진짜 모습 테스트) ',\n",
       " '선호 아이템 : 없음',\n",
       " \"선호 아이템 : 음악(Perfect Night, Love Lee, Turn Up The Sunshine (PNAU Remix / From 'Minions: The Rise of Gru' Soundtrack)) \",\n",
       " '선호 아이템 : 음악(Wind Of Change, Love of My Life (Live), Smooth) ',\n",
       " '선호 아이템 : 음악(밤양갱, Discord, Love wins all) '}"
      ]
     },
     "execution_count": 100,
     "metadata": {},
     "output_type": "execute_result"
    }
   ],
   "source": [
    "preferred_item"
   ]
  },
  {
   "cell_type": "code",
   "execution_count": 30,
   "metadata": {
    "execution": {
     "iopub.execute_input": "2024-06-03T07:01:21.079254Z",
     "iopub.status.busy": "2024-06-03T07:01:21.078771Z",
     "iopub.status.idle": "2024-06-03T07:01:21.088140Z",
     "shell.execute_reply": "2024-06-03T07:01:21.087579Z",
     "shell.execute_reply.started": "2024-06-03T07:01:21.079227Z"
    },
    "tags": []
   },
   "outputs": [
    {
     "data": {
      "text/plain": [
       "{'관심사': 'interests',\n",
       " '성별': 'gender',\n",
       " '나이': 'age',\n",
       " '서비스 사용 기간': 'service_duration',\n",
       " '기변 후 경과일': 'days_after_change',\n",
       " '요금제 이름': 'plan_name',\n",
       " '요금제 가격': 'plan_price',\n",
       " '3개월 평균 데이터 사용량': 'avg_data_usage',\n",
       " '단말기 가격': 'device_price',\n",
       " '단말기 제조사': 'device_manufacturer',\n",
       " '멤버십 등급': 'membership_level',\n",
       " '멤버십 사용 이력': 'membership_history',\n",
       " '가족 결합 이력': 'family_bundle_history',\n",
       " '로밍 사용 이력': 'roaming_history',\n",
       " '세컨디바이스 보유 여부': 'second_device',\n",
       " '소액 및 DCB 결제 이력': 'micropayment_history'}"
      ]
     },
     "execution_count": 30,
     "metadata": {},
     "output_type": "execute_result"
    }
   ],
   "source": [
    "mno_profile_mappings"
   ]
  },
  {
   "cell_type": "code",
   "execution_count": null,
   "metadata": {},
   "outputs": [],
   "source": []
  }
 ],
 "metadata": {
  "kernelspec": {
   "display_name": "Python 3 (ipykernel)",
   "language": "python",
   "name": "python3"
  },
  "language_info": {
   "codemirror_mode": {
    "name": "ipython",
    "version": 3
   },
   "file_extension": ".py",
   "mimetype": "text/x-python",
   "name": "python",
   "nbconvert_exporter": "python",
   "pygments_lexer": "ipython3",
   "version": "3.8.19"
  }
 },
 "nbformat": 4,
 "nbformat_minor": 4
}
