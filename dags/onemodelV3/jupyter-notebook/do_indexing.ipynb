{
 "cells": [
  {
   "cell_type": "code",
   "execution_count": 1,
   "metadata": {
    "execution": {
     "iopub.execute_input": "2024-06-06T09:33:22.002715Z",
     "iopub.status.busy": "2024-06-06T09:33:22.002203Z",
     "iopub.status.idle": "2024-06-06T09:33:23.493696Z",
     "shell.execute_reply": "2024-06-06T09:33:23.493010Z",
     "shell.execute_reply.started": "2024-06-06T09:33:22.002683Z"
    },
    "tags": []
   },
   "outputs": [],
   "source": [
    "from skt.gcp import (\n",
    "    PROJECT_ID,\n",
    "    bq_insert_overwrite,\n",
    "    bq_to_df,\n",
    "    bq_to_pandas,\n",
    "    get_bigquery_client,\n",
    "    bq_table_exists,\n",
    "    get_max_part,\n",
    "    load_query_result_to_table,\n",
    "    pandas_to_bq,\n",
    "    pandas_to_bq_table,\n",
    "    load_bigquery_ipython_magic,\n",
    "    get_bigquery_client,\n",
    "    _print_query_job_results,\n",
    "    load_query_result_to_partitions\n",
    "    \n",
    ")\n",
    "\n",
    "from skt.ye import (\n",
    "    get_hdfs_conn,\n",
    "    get_spark,\n",
    "    hive_execute,\n",
    "    hive_to_pandas,\n",
    "    pandas_to_parquet,\n",
    "    slack_send\n",
    ")\n",
    "from skt.github_utils import GithubUtil\n",
    "from skt.vault_utils import get_secrets\n"
   ]
  },
  {
   "cell_type": "code",
   "execution_count": 2,
   "metadata": {
    "execution": {
     "iopub.execute_input": "2024-06-06T09:33:23.495463Z",
     "iopub.status.busy": "2024-06-06T09:33:23.495020Z",
     "iopub.status.idle": "2024-06-06T09:33:23.610506Z",
     "shell.execute_reply": "2024-06-06T09:33:23.609627Z",
     "shell.execute_reply.started": "2024-06-06T09:33:23.495433Z"
    },
    "tags": []
   },
   "outputs": [],
   "source": [
    "from datetime import date, datetime, timedelta\n",
    "\n",
    "import numpy as np\n",
    "import pandas as pd\n",
    "import pyarrow.parquet as pq\n",
    "from dateutil.relativedelta import relativedelta\n",
    "from pyhive import hive\n",
    "\n",
    "from copy import deepcopy\n",
    "from joblib import Parallel, delayed\n",
    "import os\n",
    "import sys\n",
    "from git import Repo\n",
    "from contextlib import contextmanager\n",
    "from tqdm.notebook import tqdm\n",
    "import warnings"
   ]
  },
  {
   "cell_type": "code",
   "execution_count": 3,
   "metadata": {
    "execution": {
     "iopub.execute_input": "2024-06-06T09:33:23.618846Z",
     "iopub.status.busy": "2024-06-06T09:33:23.618597Z",
     "iopub.status.idle": "2024-06-06T09:33:23.630332Z",
     "shell.execute_reply": "2024-06-06T09:33:23.629725Z",
     "shell.execute_reply.started": "2024-06-06T09:33:23.618817Z"
    },
    "tags": []
   },
   "outputs": [],
   "source": [
    "secrets = get_secrets('github/sktaiflow')\n",
    "token = secrets['token']\n",
    "\n",
    "proxies = {\n",
    "    'http': secrets['proxy'],\n",
    "    'https': secrets['proxy'],\n",
    "}"
   ]
  },
  {
   "cell_type": "markdown",
   "metadata": {},
   "source": [
    "# Customer func for cloning git modules"
   ]
  },
  {
   "cell_type": "code",
   "execution_count": 4,
   "metadata": {
    "execution": {
     "iopub.execute_input": "2024-06-06T09:33:23.631506Z",
     "iopub.status.busy": "2024-06-06T09:33:23.631121Z",
     "iopub.status.idle": "2024-06-06T09:33:23.635394Z",
     "shell.execute_reply": "2024-06-06T09:33:23.634811Z",
     "shell.execute_reply.started": "2024-06-06T09:33:23.631478Z"
    },
    "tags": []
   },
   "outputs": [],
   "source": [
    "@contextmanager\n",
    "def proxy(proxies):\n",
    "    env_backup = dict(os.environ)\n",
    "    os.environ[\"HTTP_PROXY\"] = proxies[\"http\"]\n",
    "    os.environ[\"HTTPS_PROXY\"] = proxies[\"https\"]\n",
    "    yield\n",
    "    os.environ.clear()\n",
    "    os.environ.update(env_backup)"
   ]
  },
  {
   "cell_type": "code",
   "execution_count": 5,
   "metadata": {
    "execution": {
     "iopub.execute_input": "2024-06-06T09:33:23.636544Z",
     "iopub.status.busy": "2024-06-06T09:33:23.636314Z",
     "iopub.status.idle": "2024-06-06T09:33:23.645704Z",
     "shell.execute_reply": "2024-06-06T09:33:23.645125Z",
     "shell.execute_reply.started": "2024-06-06T09:33:23.636518Z"
    },
    "tags": []
   },
   "outputs": [],
   "source": [
    "def slack_sending(channel_name:str, msg:str=\"test\", is_adot:bool=True):\n",
    "    if \"#\" not  in channel_name:\n",
    "        channel_name += \"#\" + channel_name\n",
    "\n",
    "    slack_send(\n",
    "        text=msg,\n",
    "        username=\"SKT\",\n",
    "        channel=channel_name,\n",
    "        icon_emoji=\":large_blue_circle:\",\n",
    "        blocks=None,\n",
    "        dataframe=False,\n",
    "        adot=is_adot\n",
    "    )\n"
   ]
  },
  {
   "cell_type": "code",
   "execution_count": 6,
   "metadata": {
    "execution": {
     "iopub.execute_input": "2024-06-06T09:33:23.646873Z",
     "iopub.status.busy": "2024-06-06T09:33:23.646517Z",
     "iopub.status.idle": "2024-06-06T09:33:23.657161Z",
     "shell.execute_reply": "2024-06-06T09:33:23.656580Z",
     "shell.execute_reply.started": "2024-06-06T09:33:23.646846Z"
    },
    "tags": []
   },
   "outputs": [],
   "source": [
    "class GithubUtil_custom(GithubUtil):\n",
    "    def __init__(self, token, proxies, **kwargs):\n",
    "        super().__init__(token, proxies)\n",
    "    \n",
    "    def clone_from_repo(self, git_url, branch=\"main\", git_save_path=\"/temp\"):\n",
    "        try:\n",
    "            if self._proxies:\n",
    "                with proxy(self._proxies):\n",
    "                    response = Repo.clone_from(git_url, git_save_path, branch=branch)\n",
    "                    return {\"code\": \"200\", \"response\": response}\n",
    "            else:\n",
    "                msg = f\"proxy must be passed\"\n",
    "                raise Exception(msg)    \n",
    "        except Exception as e:\n",
    "            msg = f\"cloning git repo:{git_url} branch:{branch} failed {e}\"\n",
    "            slack_sending(msg=msg, channel_name=channel_name, is_adot=True)\n",
    "            raise Exception(msg)"
   ]
  },
  {
   "cell_type": "code",
   "execution_count": 7,
   "metadata": {
    "execution": {
     "iopub.execute_input": "2024-06-06T09:33:23.658399Z",
     "iopub.status.busy": "2024-06-06T09:33:23.657940Z",
     "iopub.status.idle": "2024-06-06T09:33:23.666419Z",
     "shell.execute_reply": "2024-06-06T09:33:23.665847Z",
     "shell.execute_reply.started": "2024-06-06T09:33:23.658372Z"
    },
    "tags": []
   },
   "outputs": [],
   "source": [
    "git_url ='https://github.com/sktaiflow/onemodelV3-opensearch-engine.git'\n",
    "branch = 'develop'\n",
    "git_save_path = '/home/x1112436/shared/1112436/git'"
   ]
  },
  {
   "cell_type": "code",
   "execution_count": 8,
   "metadata": {
    "execution": {
     "iopub.execute_input": "2024-06-06T09:33:23.667528Z",
     "iopub.status.busy": "2024-06-06T09:33:23.667298Z",
     "iopub.status.idle": "2024-06-06T09:33:23.823811Z",
     "shell.execute_reply": "2024-06-06T09:33:23.823161Z",
     "shell.execute_reply.started": "2024-06-06T09:33:23.667503Z"
    },
    "tags": []
   },
   "outputs": [],
   "source": [
    "import shutil\n",
    "shutil.rmtree(git_save_path)\n",
    "os.makedirs(git_save_path, exist_ok=True)"
   ]
  },
  {
   "cell_type": "code",
   "execution_count": 9,
   "metadata": {
    "execution": {
     "iopub.execute_input": "2024-06-06T09:33:23.826270Z",
     "iopub.status.busy": "2024-06-06T09:33:23.825952Z",
     "iopub.status.idle": "2024-06-06T09:33:23.829288Z",
     "shell.execute_reply": "2024-06-06T09:33:23.828678Z",
     "shell.execute_reply.started": "2024-06-06T09:33:23.826243Z"
    },
    "tags": []
   },
   "outputs": [],
   "source": [
    "gitobj= GithubUtil_custom(token=token, proxies=proxies)"
   ]
  },
  {
   "cell_type": "code",
   "execution_count": 10,
   "metadata": {
    "execution": {
     "iopub.execute_input": "2024-06-06T09:33:23.830593Z",
     "iopub.status.busy": "2024-06-06T09:33:23.830148Z",
     "iopub.status.idle": "2024-06-06T09:33:25.204478Z",
     "shell.execute_reply": "2024-06-06T09:33:25.203655Z",
     "shell.execute_reply.started": "2024-06-06T09:33:23.830553Z"
    },
    "tags": []
   },
   "outputs": [],
   "source": [
    "response = gitobj.clone_from_repo(git_url=git_url, branch=branch, git_save_path=git_save_path)"
   ]
  },
  {
   "cell_type": "code",
   "execution_count": 11,
   "metadata": {
    "execution": {
     "iopub.execute_input": "2024-06-06T09:33:25.205891Z",
     "iopub.status.busy": "2024-06-06T09:33:25.205544Z",
     "iopub.status.idle": "2024-06-06T09:33:25.209563Z",
     "shell.execute_reply": "2024-06-06T09:33:25.208921Z",
     "shell.execute_reply.started": "2024-06-06T09:33:25.205860Z"
    },
    "tags": []
   },
   "outputs": [],
   "source": [
    "module_path = os.path.join(git_save_path, \"dags\")\n",
    "sys.path.append(module_path)\n",
    "sys.path.append(git_save_path)"
   ]
  },
  {
   "cell_type": "code",
   "execution_count": 12,
   "metadata": {
    "execution": {
     "iopub.execute_input": "2024-06-06T09:33:25.210750Z",
     "iopub.status.busy": "2024-06-06T09:33:25.210387Z",
     "iopub.status.idle": "2024-06-06T09:33:25.218761Z",
     "shell.execute_reply": "2024-06-06T09:33:25.218152Z",
     "shell.execute_reply.started": "2024-06-06T09:33:25.210724Z"
    },
    "tags": []
   },
   "outputs": [],
   "source": [
    "# !pip install datasets==2.19.1\n",
    "# !pip install pydantic==2.7.1\n",
    "# !pip install loguru==0.7.2"
   ]
  },
  {
   "cell_type": "code",
   "execution_count": 13,
   "metadata": {
    "execution": {
     "iopub.execute_input": "2024-06-06T09:33:25.219929Z",
     "iopub.status.busy": "2024-06-06T09:33:25.219570Z",
     "iopub.status.idle": "2024-06-06T09:33:27.972810Z",
     "shell.execute_reply": "2024-06-06T09:33:27.972143Z",
     "shell.execute_reply.started": "2024-06-06T09:33:25.219902Z"
    },
    "tags": []
   },
   "outputs": [
    {
     "name": "stderr",
     "output_type": "stream",
     "text": [
      "/usr/local/lib/python3.8/site-packages/pydantic/_internal/_fields.py:160: UserWarning: Field \"model_version\" has conflict with protected namespace \"model_\".\n",
      "\n",
      "You may be able to resolve this warning by setting `model_config['protected_namespaces'] = ()`.\n",
      "  warnings.warn(\n",
      "/usr/local/lib/python3.8/site-packages/pydantic/_internal/_fields.py:160: UserWarning: Field \"model_version\" has conflict with protected namespace \"model_\".\n",
      "\n",
      "You may be able to resolve this warning by setting `model_config['protected_namespaces'] = ()`.\n",
      "  warnings.warn(\n"
     ]
    }
   ],
   "source": [
    "## import from module\n",
    "from onemodelV3.opensearch_engine.indexing_engine.preprocessor import OpensearchPreprocessor\n",
    "from onemodelV3.opensearch_engine.indexing_engine.func import *"
   ]
  },
  {
   "cell_type": "code",
   "execution_count": 14,
   "metadata": {
    "execution": {
     "iopub.execute_input": "2024-06-06T09:33:27.974258Z",
     "iopub.status.busy": "2024-06-06T09:33:27.973729Z",
     "iopub.status.idle": "2024-06-06T09:33:27.982350Z",
     "shell.execute_reply": "2024-06-06T09:33:27.981727Z",
     "shell.execute_reply.started": "2024-06-06T09:33:27.974227Z"
    },
    "tags": []
   },
   "outputs": [],
   "source": [
    "# get file list\n",
    "def get_gzip_files(directory='./temp/indexing/input'):\n",
    "    from pathlib import Path\n",
    "    gzip_files = []\n",
    "    for root, dirs, files in os.walk(directory):\n",
    "        for file in files:\n",
    "            if file.endswith(\".gzip\"):\n",
    "                file_path = os.path.join(root, file)\n",
    "                gzip_files.append(file_path)\n",
    "\n",
    "    return gzip_files\n",
    "\n",
    "file_list = get_gzip_files(directory=\"/home/x1112436/shared/1112436/indexing_data\")"
   ]
  },
  {
   "cell_type": "code",
   "execution_count": 15,
   "metadata": {
    "execution": {
     "iopub.execute_input": "2024-06-06T09:33:27.986430Z",
     "iopub.status.busy": "2024-06-06T09:33:27.986042Z",
     "iopub.status.idle": "2024-06-06T09:33:27.989752Z",
     "shell.execute_reply": "2024-06-06T09:33:27.989152Z",
     "shell.execute_reply.started": "2024-06-06T09:33:27.986402Z"
    },
    "tags": []
   },
   "outputs": [],
   "source": [
    "from typing import List, Tuple\n",
    "from torch.utils.data import (\n",
    "    IterableDataset, \n",
    "    Dataset\n",
    ")\n",
    "from datasets import (\n",
    "    load_dataset, \n",
    "    Dataset, \n",
    "    DatasetDict,\n",
    "    IterableDatasetDict\n",
    ")"
   ]
  },
  {
   "cell_type": "code",
   "execution_count": 16,
   "metadata": {
    "execution": {
     "iopub.execute_input": "2024-06-06T09:33:27.991119Z",
     "iopub.status.busy": "2024-06-06T09:33:27.990675Z",
     "iopub.status.idle": "2024-06-06T09:33:28.015680Z",
     "shell.execute_reply": "2024-06-06T09:33:28.015048Z",
     "shell.execute_reply.started": "2024-06-06T09:33:27.991093Z"
    },
    "tags": []
   },
   "outputs": [],
   "source": [
    "class BaseParquetProcessor:\n",
    "\n",
    "    @classmethod\n",
    "    def load(\n",
    "            cls, \n",
    "            file_path_list:List, \n",
    "            split:str=None, \n",
    "            stream:bool=True, \n",
    "            keep_in_memory:bool=False, \n",
    "            cache_dir:str='./.cache'\n",
    "        ) -> Dataset:\n",
    "        \"\"\" load datset from parquet files\"\"\"\n",
    "\n",
    "        if isinstance(file_path_list, List):\n",
    "            dataset = load_dataset(\n",
    "                                path =\"parquet\", \n",
    "                                data_files=file_path_list, \n",
    "                                split=split, \n",
    "                                keep_in_memory=keep_in_memory,\n",
    "                                streaming=stream,\n",
    "                                cache_dir=cache_dir\n",
    "                                )\n",
    "\n",
    "        else:\n",
    "            msg = f\"path should be in type (List)\"\n",
    "            raise TypeError(msg)\n",
    "        \n",
    "        if split is None: dataset = dataset['train']\n",
    "        \n",
    "        return dataset\n",
    "\n",
    "\n",
    "class OpensearchPreprocessor(BaseParquetProcessor):\n",
    "    index_name = \"onemodelV3\"\n",
    "    \n",
    "    def __init__(self, args, **kwargs):        \n",
    "        super().__init__(args)\n",
    "    \n",
    "    @classmethod\n",
    "    def set_index_name(cls, new_name):\n",
    "        cls.index_name = new_name\n",
    "\n",
    "    @classmethod\n",
    "    def load(\n",
    "            cls, \n",
    "            file_path_list:List, \n",
    "            split:str=None, \n",
    "            stream=True,\n",
    "            keep_in_memory:bool=False,\n",
    "            cache_dir:str='./.cache'\n",
    "        ) -> IterableDataset:        \n",
    "        \n",
    "        dataset = super(OpensearchPreprocessor, cls).load(\n",
    "                file_path_list=file_path_list, \n",
    "                split=split, \n",
    "                stream=stream, \n",
    "                keep_in_memory=keep_in_memory,\n",
    "                cache_dir=cache_dir\n",
    "        )\n",
    "        return dataset\n",
    "    \n",
    "    @classmethod\n",
    "    def _validate_component_inputs(cls, doc_body:Dict) -> Dict:\n",
    "        try:\n",
    "            data = IndexingSchema(**doc_body)\n",
    "            code = InternalCodes.SUCCESS\n",
    "            message = InternalCodes.get_message(code=code)\n",
    "        except ValidationError as e:\n",
    "            data = None\n",
    "            code = InternalCodes.PYDANTIC_VALIDATION_ERROR\n",
    "            message = InternalCodes.get_message(code=code, e=e)\n",
    "        finally:\n",
    "            return {\"data\":data, \"code\":code, \"message\":message, \"doc\":doc_body}\n",
    "\n",
    "    @classmethod\n",
    "    def profile_normalize(cls, data:str, delimiter='<|n|>'):\n",
    "        \n",
    "        mno_profile = data[\"mno_profile_feature\"]                \n",
    "        mno_profiles = mno_profile.split(delimiter)\n",
    "        mno_profile_dict = dict()\n",
    "        for profile in mno_profiles:\n",
    "            key, val = profile.split(':')\n",
    "            null_values = mno_profile_mappings[key]\n",
    "            if val in mno_select_default_value(field_name=null_values):\n",
    "                \"\"\" 없음 모름 '' ... etc 이면 값을 제거한다.\"\"\"\n",
    "                continue\n",
    "            elif val.strip() ==\"있음\":\n",
    "                mno_profile_dict[key] = key.split(\"이력\")[0].strip()\n",
    "            else:\n",
    "                mno_profile_dict[key] = val.strip()\n",
    "\n",
    "        mno_template_dict = defaultdict(list)\n",
    "\n",
    "        for key, val in mno_profile_dict.items():\n",
    "            new_feature = new_mno_profile_mappings[key]\n",
    "            mno_template_dict[new_feature].append(val)\n",
    "\n",
    "        mno_preferences = mno_template_dict.get('preference', [])\n",
    "        mno_preference_template = \"\"        \n",
    "\n",
    "        if mno_preferences:\n",
    "            mno_preference_dict = defaultdict(set)\n",
    "            mno_preference = mno_preferences[0]\n",
    "            mnopreference_list = mno_preference.split(',')\n",
    "            for mno_prefernce in mnopreference_list:\n",
    "                split_mno_preference = mno_prefernce.split('_')\n",
    "                if len(split_mno_preference) == 2:\n",
    "                    upper_cate, lower_cate = split_mno_preference\n",
    "                else:\n",
    "                    upper_cate = split_mno_preference[0]\n",
    "\n",
    "                mno_preference_dict[upper_cate].add(lower_cate)\n",
    "\n",
    "            for key, val in mno_preference_dict.items():\n",
    "                val_str = ','.join(val)\n",
    "                if mno_preference_template == \"\": mno_preference_template = f\"{key}: {val_str}\"\n",
    "                else: mno_preference_template += '\\n' + f\"{key}: {val_str}\"              \n",
    "            \n",
    "        mno_template_dict['preference'] = mno_preference_template\n",
    "\n",
    "        adot_profile = data[\"adot_profile_feature\"]\n",
    "        adot_profiles = adot_profile.split(delimiter)\n",
    "        adot_profile_dict = dict()\n",
    "        for profile in adot_profiles:\n",
    "            key, val = profile.split(':', 1)\n",
    "            key = key.strip()\n",
    "            val = val.strip()\n",
    "            null_values = adot_profile_mappings[key]\n",
    "                \n",
    "            if val in adot_select_default_value(field_name=null_values):\n",
    "                pass\n",
    "            else:\n",
    "                adot_profile_dict[key] = val\n",
    "                \n",
    "        adot_template_dict = defaultdict(list)\n",
    "        for key, val in new_adot_profile_mappings.items():\n",
    "            adot_template_dict[val] = []\n",
    "\n",
    "        \n",
    "    @classmethod\n",
    "    def preprocess(cls, item):\n",
    "        \n",
    "        user_vector =  [float(x) for x in item['user_vector']]\n",
    "        svc_mgmt_num = str(item.get(\"svc_mgmt_num\", \"unk\"))  \n",
    "        luna_id = item.get(\"luna_id\", \"unk\")\n",
    "        is_active = True\n",
    "        is_adot = False if luna_id else True\n",
    "        mno_profile = item.get(\"mno_profile\", \"\")\n",
    "        adot_profile = item.get(\"adot_profile\", \"\")\n",
    "        behavior_profiles = item.get(\"behavior_profiles\", \"\")\n",
    "        age = item.get(\"age\", \"unk\")\n",
    "        gender = item.get(\"gender\", \"unk\")\n",
    "        model_version = item[\"model_version\"]\n",
    "\n",
    "        doc = {\n",
    "            \"_id\": svc_mgmt_num,\n",
    "            \"svc_mgmt_num\": svc_mgmt_num,\n",
    "            \"luna_id\": item.get(\"luna_id\", \"temp\"),\n",
    "            \"user_embedding\":user_vector,\n",
    "            \"mno_profile\": mno_profile,\n",
    "            \"adot_profile\": adot_profile,\n",
    "            \"behavior_profile\": behavior_profiles,\n",
    "            \"gender\":gender,\n",
    "            \"age\":age,\n",
    "            \"is_adot\": is_adot,\n",
    "            \"is_active\": is_active,\n",
    "            \"model_version\": model_version\n",
    "        }\n",
    "\n",
    "        response = cls.doc_validation_check(doc_body=doc)\n",
    "        if response[\"code\"] != InternalCodes.SUCCESS:\n",
    "            cls.profile_normalize(data=doc)\n",
    "        \n",
    "        else:\n",
    "            pass\n",
    "    \n",
    "    @classmethod\n",
    "    def apply_maps(cls, dataset:Dataset, functions_list: List[Tuple[Callable[..., Any], bool]]) -> Dataset:\n",
    "        \"\"\" instance method for apply list of functions\"\"\"\n",
    "        for func, with_indices in functions_list:\n",
    "            dataset = cls.apply_map(dataset=dataset, func=func, with_indices=with_indices)\n",
    "        \n",
    "        return dataset\n",
    "    \n",
    "    @classmethod\n",
    "    def apply_map(cls, dataset: Dataset, func:Callable, with_indices: bool = True) -> Dataset:\n",
    "        \"\"\" instance method for apply only one function\"\"\"\n",
    "        dataset = dataset.map(func, with_indices=with_indices)\n",
    "        return dataset"
   ]
  },
  {
   "cell_type": "code",
   "execution_count": 21,
   "metadata": {
    "execution": {
     "iopub.execute_input": "2024-06-06T09:33:50.592652Z",
     "iopub.status.busy": "2024-06-06T09:33:50.592232Z",
     "iopub.status.idle": "2024-06-06T09:33:50.595815Z",
     "shell.execute_reply": "2024-06-06T09:33:50.595200Z",
     "shell.execute_reply.started": "2024-06-06T09:33:50.592621Z"
    },
    "tags": []
   },
   "outputs": [],
   "source": [
    "data = file_list[:3]"
   ]
  },
  {
   "cell_type": "code",
   "execution_count": 23,
   "metadata": {
    "execution": {
     "iopub.execute_input": "2024-06-06T09:33:55.632684Z",
     "iopub.status.busy": "2024-06-06T09:33:55.632278Z",
     "iopub.status.idle": "2024-06-06T09:33:55.672010Z",
     "shell.execute_reply": "2024-06-06T09:33:55.671369Z",
     "shell.execute_reply.started": "2024-06-06T09:33:55.632653Z"
    },
    "tags": []
   },
   "outputs": [],
   "source": [
    "dataset = OpensearchPreprocessor.load(file_path_list=data)"
   ]
  },
  {
   "cell_type": "code",
   "execution_count": 24,
   "metadata": {
    "execution": {
     "iopub.execute_input": "2024-06-06T09:33:59.820081Z",
     "iopub.status.busy": "2024-06-06T09:33:59.819673Z",
     "iopub.status.idle": "2024-06-06T09:34:02.523141Z",
     "shell.execute_reply": "2024-06-06T09:34:02.522351Z",
     "shell.execute_reply.started": "2024-06-06T09:33:59.820049Z"
    },
    "tags": []
   },
   "outputs": [],
   "source": [
    "sample_data = next(iter(dataset))"
   ]
  },
  {
   "cell_type": "code",
   "execution_count": 25,
   "metadata": {
    "execution": {
     "iopub.execute_input": "2024-06-06T09:34:06.627451Z",
     "iopub.status.busy": "2024-06-06T09:34:06.626449Z",
     "iopub.status.idle": "2024-06-06T09:34:06.631008Z",
     "shell.execute_reply": "2024-06-06T09:34:06.630260Z",
     "shell.execute_reply.started": "2024-06-06T09:34:06.627410Z"
    },
    "tags": []
   },
   "outputs": [],
   "source": [
    "from pydantic import BaseModel, Field, ValidationError\n",
    "from enum import Enum"
   ]
  },
  {
   "cell_type": "code",
   "execution_count": 26,
   "metadata": {
    "execution": {
     "iopub.execute_input": "2024-06-06T09:34:08.966493Z",
     "iopub.status.busy": "2024-06-06T09:34:08.966171Z",
     "iopub.status.idle": "2024-06-06T09:34:08.978451Z",
     "shell.execute_reply": "2024-06-06T09:34:08.977801Z",
     "shell.execute_reply.started": "2024-06-06T09:34:08.966464Z"
    },
    "tags": []
   },
   "outputs": [],
   "source": [
    "class GenderEnum(str, Enum):\n",
    "    male = \"male\"\n",
    "    female = \"female\" \n",
    "    unknown = \"unknown\"\n",
    "\n",
    "class RawInputSchema(BaseModel):\n",
    "    svc_mgmt_num: str = Field(..., min_length=1)\n",
    "    luna_id: str\n",
    "    age: Optional[int] = Field(None, gt=0)\n",
    "    gender:GenderEnum = Field(..., description=\"Gender of the person\")\n",
    "    mno_profile_feature: Optional[str] = Field(\"\", description=\"Gender of the person\")\n",
    "    adot_profile_feature: Optional[str] = Field(\"\", description=\"Gender of the person\")\n",
    "    behavior_profile: Optional[str] = Field(None, description=\"Gender of the person\")\n",
    "    is_adot: Optional[bool] = False\n",
    "    create_at: str\n",
    "    user_vector:List[float]\n",
    "    class Config:\n",
    "        extra = 'forbid'"
   ]
  },
  {
   "cell_type": "code",
   "execution_count": 27,
   "metadata": {
    "execution": {
     "iopub.execute_input": "2024-06-06T09:34:11.574667Z",
     "iopub.status.busy": "2024-06-06T09:34:11.574177Z",
     "iopub.status.idle": "2024-06-06T09:39:13.622915Z",
     "shell.execute_reply": "2024-06-06T09:39:13.621754Z",
     "shell.execute_reply.started": "2024-06-06T09:34:11.574636Z"
    },
    "tags": []
   },
   "outputs": [],
   "source": [
    "%timeit\n",
    "failed_log = []\n",
    "data_list = []\n",
    "for i, data in enumerate(dataset):\n",
    "    try:\n",
    "        data_list.append(RawInputSchema(**data))\n",
    "    except Exception as e: \n",
    "        e_json = e.json()\n",
    "        failed_log.append(e_json)"
   ]
  },
  {
   "cell_type": "code",
   "execution_count": 29,
   "metadata": {
    "execution": {
     "iopub.execute_input": "2024-06-06T14:05:10.259141Z",
     "iopub.status.busy": "2024-06-06T14:05:10.258631Z",
     "iopub.status.idle": "2024-06-06T14:05:10.263280Z",
     "shell.execute_reply": "2024-06-06T14:05:10.262626Z",
     "shell.execute_reply.started": "2024-06-06T14:05:10.259097Z"
    },
    "tags": []
   },
   "outputs": [
    {
     "name": "stdout",
     "output_type": "stream",
     "text": [
      "64\n",
      "39662\n"
     ]
    }
   ],
   "source": [
    "print(len(failed_log))\n",
    "print(len(data_list))"
   ]
  },
  {
   "cell_type": "code",
   "execution_count": 31,
   "metadata": {
    "execution": {
     "iopub.execute_input": "2024-06-06T14:05:53.854164Z",
     "iopub.status.busy": "2024-06-06T14:05:53.853662Z",
     "iopub.status.idle": "2024-06-06T14:05:53.857690Z",
     "shell.execute_reply": "2024-06-06T14:05:53.857046Z",
     "shell.execute_reply.started": "2024-06-06T14:05:53.854122Z"
    },
    "tags": []
   },
   "outputs": [],
   "source": [
    "dd = data_list[2]"
   ]
  },
  {
   "cell_type": "code",
   "execution_count": 35,
   "metadata": {
    "execution": {
     "iopub.execute_input": "2024-06-06T14:06:13.706889Z",
     "iopub.status.busy": "2024-06-06T14:06:13.706512Z",
     "iopub.status.idle": "2024-06-06T14:06:13.711822Z",
     "shell.execute_reply": "2024-06-06T14:06:13.711084Z",
     "shell.execute_reply.started": "2024-06-06T14:06:13.706856Z"
    },
    "tags": []
   },
   "outputs": [
    {
     "data": {
      "text/plain": [
       "'관심사:음식/식사_음식 배달 주문,라이프스타일/취미_소셜 미디어,쇼핑_오픈마켓<|n|>성별:여자<|n|>나이:29세<|n|>서비스 사용 기간:4년<|n|>기변 후 경과일:모름<|n|>요금제 이름:T플랜 스페셜<|n|>요금제 가격:79000원<|n|>3개월 평균 데이터 사용량:122gb<|n|>단말기 가격:고가<|n|>단말기 제조사:apple<|n|>멤버십 등급:vip<|n|>멤버십 사용 이력:있음<|n|>가족 결합 이력:없음<|n|>로밍 사용 이력:없음<|n|>세컨디바이스 보유 여부:없음<|n|>소액 및 DCB 결제 이력:0원'"
      ]
     },
     "execution_count": 35,
     "metadata": {},
     "output_type": "execute_result"
    }
   ],
   "source": [
    "dd.mno_profile_feature"
   ]
  },
  {
   "cell_type": "code",
   "execution_count": 54,
   "metadata": {
    "execution": {
     "iopub.execute_input": "2024-06-06T14:11:38.227981Z",
     "iopub.status.busy": "2024-06-06T14:11:38.227532Z",
     "iopub.status.idle": "2024-06-06T14:11:38.238748Z",
     "shell.execute_reply": "2024-06-06T14:11:38.237560Z",
     "shell.execute_reply.started": "2024-06-06T14:11:38.227949Z"
    },
    "tags": []
   },
   "outputs": [],
   "source": [
    "def normalize_mno_profiels(mno_profile, delimiter =\"<|n|>\"):\n",
    "    mno_profiles = mno_profile.split(delimiter)\n",
    "    mno_profile_dict = dict()\n",
    "    for profile in mno_profiles:\n",
    "        key, val = profile.split(':')\n",
    "        null_values = mno_profile_mappings[key]\n",
    "        if val in mno_select_default_value(field_name=null_values):\n",
    "            \"\"\" 없음 모름 '' ... etc 이면 값을 제거한다.\"\"\"\n",
    "            continue\n",
    "        elif val.strip() ==\"있음\":\n",
    "            mno_profile_dict[key] = key.split(\"이력\")[0].strip()\n",
    "        else:\n",
    "            mno_profile_dict[key] = val.strip()\n",
    "\n",
    "    mno_template_dict = defaultdict(list)\n",
    "\n",
    "    for key, val in mno_profile_dict.items():\n",
    "        new_feature = new_mno_profile_mappings[key]\n",
    "        mno_template_dict[new_feature].append(val)\n",
    "\n",
    "    mno_preferences = mno_template_dict.get('preference', [])\n",
    "    mno_preference_template = \"\"        \n",
    "\n",
    "    if mno_preferences:\n",
    "        mno_preference_dict = defaultdict(set)\n",
    "        mno_preference = mno_preferences[0]\n",
    "        mnopreference_list = mno_preference.split(',')\n",
    "        for mno_prefernce in mnopreference_list:\n",
    "            split_mno_preference = mno_prefernce.split('_')\n",
    "            if len(split_mno_preference) == 2:\n",
    "                upper_cate, lower_cate = split_mno_preference\n",
    "            else:\n",
    "                upper_cate = split_mno_preference[0]\n",
    "\n",
    "            mno_preference_dict[upper_cate].add(lower_cate)\n",
    "\n",
    "        for key, val in mno_preference_dict.items():\n",
    "            val_str = ','.join(val)\n",
    "            if mno_preference_template == \"\": mno_preference_template = f\"{key}: {val_str}\"\n",
    "            else: mno_preference_template += '\\n' + f\"{key}: {val_str}\"              \n",
    "        \n",
    "    mno_template_dict['preference'] = mno_preference_template\n",
    "    return dict(mno_template_dict)\n"
   ]
  },
  {
   "cell_type": "code",
   "execution_count": 55,
   "metadata": {
    "execution": {
     "iopub.execute_input": "2024-06-06T14:11:38.699667Z",
     "iopub.status.busy": "2024-06-06T14:11:38.699228Z",
     "iopub.status.idle": "2024-06-06T14:11:38.703871Z",
     "shell.execute_reply": "2024-06-06T14:11:38.703160Z",
     "shell.execute_reply.started": "2024-06-06T14:11:38.699636Z"
    },
    "tags": []
   },
   "outputs": [],
   "source": [
    "from collections import defaultdict\n",
    "from dags.onemodelV3.opensearch_engine.mapper import (\n",
    "    MNO_DEFAULT_VALUES, \n",
    "    MnoprofileKeys, \n",
    "    mno_select_default_value, \n",
    "    mno_profile_mappings,\n",
    "    new_mno_profile_mappings,\n",
    "    ADOT_DEFAULT_VALUES,\n",
    "    AdotprofileKeys,\n",
    "    adot_select_default_value,\n",
    "    adot_profile_mappings,\n",
    "    new_adot_profile_mappings\n",
    ")"
   ]
  },
  {
   "cell_type": "code",
   "execution_count": 56,
   "metadata": {
    "execution": {
     "iopub.execute_input": "2024-06-06T14:11:38.902498Z",
     "iopub.status.busy": "2024-06-06T14:11:38.902078Z",
     "iopub.status.idle": "2024-06-06T14:11:38.907881Z",
     "shell.execute_reply": "2024-06-06T14:11:38.907172Z",
     "shell.execute_reply.started": "2024-06-06T14:11:38.902466Z"
    },
    "tags": []
   },
   "outputs": [
    {
     "data": {
      "text/plain": [
       "{'preference': '음식/식사: 음식 배달 주문\\n라이프스타일/취미: 소셜 미디어\\n쇼핑: 오픈마켓',\n",
       " 'gender': ['여자'],\n",
       " 'age': ['29세'],\n",
       " 'service_duration': ['4년'],\n",
       " 'mno_status': ['T플랜 스페셜', '고가', 'apple', 'vip', '멤버십 사용'],\n",
       " 'plan_price': ['79000원'],\n",
       " 'avg_data_usage': ['122gb']}"
      ]
     },
     "execution_count": 56,
     "metadata": {},
     "output_type": "execute_result"
    }
   ],
   "source": [
    "normalize_mno_profiels(dd.mno_profile_feature)"
   ]
  },
  {
   "cell_type": "code",
   "execution_count": 72,
   "metadata": {
    "execution": {
     "iopub.execute_input": "2024-06-06T14:20:29.811296Z",
     "iopub.status.busy": "2024-06-06T14:20:29.810840Z",
     "iopub.status.idle": "2024-06-06T14:20:29.816404Z",
     "shell.execute_reply": "2024-06-06T14:20:29.815653Z",
     "shell.execute_reply.started": "2024-06-06T14:20:29.811265Z"
    },
    "tags": []
   },
   "outputs": [
    {
     "data": {
      "text/plain": [
       "{'선호 도메인': 'preference',\n",
       " '성별': 'gender',\n",
       " '나이': 'age',\n",
       " '선호 아이템': 'preference_item',\n",
       " '선호 카테고리': 'preference',\n",
       " '인기 컨텐츠 선호도': 'popularity_preference_level',\n",
       " '사용성 기준': 'adot_status',\n",
       " '활성 상태': 'adot_status',\n",
       " '다중 도메인 성향': 'multi_domain_tendency'}"
      ]
     },
     "execution_count": 72,
     "metadata": {},
     "output_type": "execute_result"
    }
   ],
   "source": [
    "new_adot_profile_mappings"
   ]
  },
  {
   "cell_type": "code",
   "execution_count": 69,
   "metadata": {
    "execution": {
     "iopub.execute_input": "2024-06-06T14:20:12.737996Z",
     "iopub.status.busy": "2024-06-06T14:20:12.737486Z",
     "iopub.status.idle": "2024-06-06T14:20:12.747878Z",
     "shell.execute_reply": "2024-06-06T14:20:12.747149Z",
     "shell.execute_reply.started": "2024-06-06T14:20:12.737964Z"
    },
    "tags": []
   },
   "outputs": [],
   "source": [
    "def normalize_adot_profiels(adot_profile, delimiter =\"<|n|>\"):\n",
    "    adot_profiles = adot_profile.split(delimiter)\n",
    "    adot_profile_dict = dict()\n",
    "    for profile in adot_profiles:\n",
    "        key, val = profile.split(':', 1)\n",
    "        key = key.strip()\n",
    "        val = val.strip()\n",
    "        null_values = adot_profile_mappings[key]\n",
    "\n",
    "        if val in adot_select_default_value(field_name=null_values):\n",
    "            pass\n",
    "        else:\n",
    "            adot_profile_dict[key] = val\n",
    "\n",
    "    adot_template_dict = defaultdict(list)\n",
    "    \n",
    "    for key, val in new_adot_profile_mappings.items():\n",
    "    \n",
    "    #   \"\"\" 선호 도메인, 선호 아이템, 선호 카테고리 매칭\"\"\"\n",
    "\n",
    "    domain = adot_profile_dict.get('선호 도메인', '')\n",
    "    category = adot_profile_dict.get('선호 카테고리', '')\n",
    "    item = adot_profile_dict.get('선호 아이템','')\n",
    "\n",
    "    if domain:\n",
    "        preference_template = f\"{domain}\"\n",
    "        preference_item_template = ''\n",
    "    else:\n",
    "        preference_template = ''\n",
    "        preference_item_template = ''\n",
    "\n",
    "    pattern = r'^(.*?)\\((.*?)\\)$'\n",
    "\n",
    "    if category:\n",
    "        match = re.search(pattern, category)\n",
    "        prefix = match.group(1)\n",
    "        cate = match.group(2)\n",
    "        if cate:\n",
    "            preference_template +=f\",{prefix}:{cate}\"\n",
    "\n",
    "    if item:\n",
    "        match = re.search(pattern, item)\n",
    "        if match:\n",
    "            # Extract the string between parentheses\n",
    "            item = match.group(2)\n",
    "            preference_item_template = f\"{item}\"\n",
    "\n",
    "    # new_feature = new_adot_profile_mappings[key]\n",
    "    # adot_template_dict[new_feature].append(val)\n",
    "    # Remove spaces after the colon\n",
    "\n",
    "    preference_template = re.sub(r'\\s+(?=:)', '', preference_template)\n",
    "    preference_template = re.sub(r':\\s+', ':', preference_template)\n",
    "    # Remove spaces after the colon\n",
    "    preference_item_template = re.sub(r'\\s+(?=:)', '', preference_item_template)\n",
    "    preference_item_template = re.sub(r':\\s+', ':', preference_item_template)\n",
    "    adot_template_dict['preference'] = preference_template\n",
    "    adot_template_dict['preference_item'] = preference_item_template\n",
    "    #adot_preferences = adot_template_dict.get('preference', [])\n",
    "    return dict(adot_template_dict)"
   ]
  },
  {
   "cell_type": "code",
   "execution_count": 70,
   "metadata": {
    "execution": {
     "iopub.execute_input": "2024-06-06T14:20:13.785579Z",
     "iopub.status.busy": "2024-06-06T14:20:13.785144Z",
     "iopub.status.idle": "2024-06-06T14:20:13.790394Z",
     "shell.execute_reply": "2024-06-06T14:20:13.789695Z",
     "shell.execute_reply.started": "2024-06-06T14:20:13.785547Z"
    },
    "tags": []
   },
   "outputs": [
    {
     "data": {
      "text/plain": [
       "'선호 도메인 : 전화<|n|>선호 카테고리 : 없음<|n|>선호 아이템 : 없음<|n|>성별 : 여성<|n|>나이 : 29<|n|>활성 상태 : 휴면<|n|>다중 도메인 성향 : 낮음<|n|>인기 컨텐츠 선호도 : 낮음<|n|>사용성 기준 : 일반유저<|n|>헤비유즈 도메인 : 없음'"
      ]
     },
     "execution_count": 70,
     "metadata": {},
     "output_type": "execute_result"
    }
   ],
   "source": [
    "dd.adot_profile_feature"
   ]
  },
  {
   "cell_type": "code",
   "execution_count": 71,
   "metadata": {
    "execution": {
     "iopub.execute_input": "2024-06-06T14:20:13.996525Z",
     "iopub.status.busy": "2024-06-06T14:20:13.996107Z",
     "iopub.status.idle": "2024-06-06T14:20:14.002136Z",
     "shell.execute_reply": "2024-06-06T14:20:14.001441Z",
     "shell.execute_reply.started": "2024-06-06T14:20:13.996494Z"
    },
    "tags": []
   },
   "outputs": [
    {
     "name": "stdout",
     "output_type": "stream",
     "text": [
      "{'선호 도메인': '전화', '성별': '여성', '나이': '29', '활성 상태': '휴면', '다중 도메인 성향': '낮음', '인기 컨텐츠 선호도': '낮음', '사용성 기준': '일반유저'}\n"
     ]
    },
    {
     "data": {
      "text/plain": [
       "{'preference': '전화',\n",
       " 'gender': [],\n",
       " 'age': [],\n",
       " 'preference_item': '',\n",
       " 'popularity_preference_level': [],\n",
       " 'adot_status': [],\n",
       " 'multi_domain_tendency': []}"
      ]
     },
     "execution_count": 71,
     "metadata": {},
     "output_type": "execute_result"
    }
   ],
   "source": [
    "import re\n",
    "normalize_adot_profiels(dd.adot_profile_feature)"
   ]
  },
  {
   "cell_type": "code",
   "execution_count": 58,
   "metadata": {
    "execution": {
     "iopub.execute_input": "2024-06-06T14:15:48.622863Z",
     "iopub.status.busy": "2024-06-06T14:15:48.622430Z",
     "iopub.status.idle": "2024-06-06T14:15:48.626143Z",
     "shell.execute_reply": "2024-06-06T14:15:48.625433Z",
     "shell.execute_reply.started": "2024-06-06T14:15:48.622832Z"
    },
    "tags": []
   },
   "outputs": [],
   "source": [
    "#data = [datum next(iter(dataset))"
   ]
  },
  {
   "cell_type": "code",
   "execution_count": 21,
   "metadata": {
    "execution": {
     "iopub.execute_input": "2024-06-03T09:47:22.067466Z",
     "iopub.status.busy": "2024-06-03T09:47:22.066928Z",
     "iopub.status.idle": "2024-06-03T09:47:22.080972Z",
     "shell.execute_reply": "2024-06-03T09:47:22.080296Z",
     "shell.execute_reply.started": "2024-06-03T09:47:22.067435Z"
    },
    "tags": []
   },
   "outputs": [],
   "source": [
    "from dags.onemodelV3.opensearch_engine.mapper import (\n",
    "    MNO_DEFAULT_VALUES, \n",
    "    MnoprofileKeys, \n",
    "    mno_select_default_value, \n",
    "    mno_profile_mappings,\n",
    "    new_mno_profile_mappings,\n",
    "    ADOT_DEFAULT_VAtLUES,\n",
    "    AdotprofileKeys,\n",
    "    adot_select_default_value,\n",
    "    adot_profile_mappings,\n",
    "    new_adot_profile_mappings\n",
    ")"
   ]
  },
  {
   "cell_type": "code",
   "execution_count": 22,
   "metadata": {
    "execution": {
     "iopub.execute_input": "2024-06-03T09:47:22.082586Z",
     "iopub.status.busy": "2024-06-03T09:47:22.082132Z",
     "iopub.status.idle": "2024-06-03T09:47:22.099132Z",
     "shell.execute_reply": "2024-06-03T09:47:22.098401Z",
     "shell.execute_reply.started": "2024-06-03T09:47:22.082557Z"
    },
    "tags": []
   },
   "outputs": [],
   "source": [
    "from collections import defaultdict\n",
    "def profile_normalize(profile:str, delimiter='<|n|>'):\n",
    "        \"\"\"성별, 나이\"\"\"\n",
    "        mno_profile = profile[\"mno_profile_feature\"]\n",
    "        adot_profile = profile[\"adot_profile_feature\"]\n",
    "        ##\n",
    "\n",
    "        mno_profiles = mno_profile.split(delimiter)\n",
    "        mno_profile_dict = dict()\n",
    "        for profile in mno_profiles:\n",
    "            key, val = profile.split(':')\n",
    "            null_values = mno_profile_mappings[key]\n",
    "            if val in select_default_value(field_name=null_values):\n",
    "                continue\n",
    "            elif val.strip() ==\"있음\":\n",
    "                mno_profile_dict[key] = key.split(\"이력\")[0].strip()\n",
    "            else:\n",
    "                mno_profile_dict[key] = val\n",
    "\n",
    "        mno_template_dict = defaultdict(list)\n",
    "        for key, val in new_mno_profile_mappings.items():\n",
    "            mno_template_dict[val] = []\n",
    "\n",
    "        for key, val in mno_profile_dict.items():\n",
    "            new_feature = new_mno_profile_mappings[key]\n",
    "            mno_template_dict[new_feature].append(val)\n",
    "        \n",
    "        mno_preferences = mno_template_dict.get('preference', [])\n",
    "        mno_preference_template = ''\n",
    "        if mno_preferences:\n",
    "            mno_preference_dict = defaultdict(set)\n",
    "            mno_preference = mno_preferences[0]\n",
    "            mnopreference_list = mno_preference.split(',')\n",
    "            for mno_prefernce in mnopreference_list:\n",
    "                split_mno_preference = mno_prefernce.split('_')\n",
    "                if len(split_mno_preference) == 2:\n",
    "                    upper_cate, lower_cate = split_mno_preference\n",
    "                else:\n",
    "                    upper_cate = split_mno_preference[0]\n",
    "                mno_preference_dict[upper_cate].add(lower_cate)\n",
    "                \n",
    "            for key, val in mno_preference_dict.items():\n",
    "                val_str = ','.join(val)\n",
    "                if mno_preference_template == '': mno_preference_template = f\"{key}: {val_str}\"\n",
    "                else: mno_preference_template += '\\n' + f\"{key}: {val_str}\"\n",
    "        else:\n",
    "            mno_preference_template = ''\n",
    "        mno_template_dict['preference'] = mno_preference_template\n",
    "        return mno_template_dict"
   ]
  },
  {
   "cell_type": "code",
   "execution_count": 29,
   "metadata": {
    "execution": {
     "iopub.execute_input": "2024-06-03T09:49:32.034089Z",
     "iopub.status.busy": "2024-06-03T09:49:32.033581Z",
     "iopub.status.idle": "2024-06-03T09:49:32.038425Z",
     "shell.execute_reply": "2024-06-03T09:49:32.037784Z",
     "shell.execute_reply.started": "2024-06-03T09:49:32.034053Z"
    },
    "tags": []
   },
   "outputs": [],
   "source": [
    "new_adot_profile_mappings = {\n",
    "    '선호 도메인': 'preference',\n",
    "    '성별': 'gender',\n",
    "    '나이': 'age',\n",
    "    '선호 아이템': 'preference',\n",
    "    '선호 카테고리': 'preference',\n",
    "    '인기 컨텐츠 선호도': 'preference',\n",
    "    '사용성 기준': 'adot_status',\n",
    "    '활성 상태':'adot_status',\n",
    "    '다중 도메인 성향': 'multi_domain_tendency',\n",
    "}"
   ]
  },
  {
   "cell_type": "code",
   "execution_count": 112,
   "metadata": {
    "execution": {
     "iopub.execute_input": "2024-06-03T10:27:46.800333Z",
     "iopub.status.busy": "2024-06-03T10:27:46.799464Z",
     "iopub.status.idle": "2024-06-03T10:27:46.803560Z",
     "shell.execute_reply": "2024-06-03T10:27:46.802909Z",
     "shell.execute_reply.started": "2024-06-03T10:27:46.800289Z"
    },
    "tags": []
   },
   "outputs": [],
   "source": [
    "pattern = r\"선호 (?P<entity>\\w+)\\s?:\\s?(?P<item>.*?)\\((?P<metadata>.*?)\\)\"\n"
   ]
  },
  {
   "cell_type": "code",
   "execution_count": 113,
   "metadata": {
    "execution": {
     "iopub.execute_input": "2024-06-03T10:45:34.591097Z",
     "iopub.status.busy": "2024-06-03T10:45:34.590605Z",
     "iopub.status.idle": "2024-06-03T10:45:34.598962Z",
     "shell.execute_reply": "2024-06-03T10:45:34.598319Z",
     "shell.execute_reply.started": "2024-06-03T10:45:34.591062Z"
    },
    "tags": []
   },
   "outputs": [],
   "source": [
    "from collections import defaultdict\n",
    "import re\n",
    "def profile_normalize(profile:str, delimiter='<|n|>'):\n",
    "        \"\"\"성별, 나이\"\"\"\n",
    "        adot_profile = profile[\"adot_profile_feature\"]\n",
    "        adot_profiles = adot_profile.split(delimiter)\n",
    "\n",
    "        adot_profile_dict = dict()\n",
    "        for profile in adot_profiles:\n",
    "            match = re.search(pattern, row)\n",
    "            key, val = profile.split(':')\n",
    "            key = key.strip()\n",
    "            val = val.strip()\n",
    "            try:\n",
    "                null_values = adot_profile_mappings[key]\n",
    "            except:\n",
    "                pass\n",
    "            if val in adot_select_default_value(field_name=null_values):\n",
    "                continue\n",
    "            elif val.strip() ==\"있음\":\n",
    "                adot_profile_dict[key] = key.split(\"이력\")[0].strip()\n",
    "            else:\n",
    "                adot_profile_dict[key] = val\n",
    "\n",
    "        adot_template_dict = defaultdict(list)\n",
    "        for key, val in new_adot_profile_mappings.items():\n",
    "            adot_template_dict[val] = []\n",
    "\n",
    "        for key, val in adot_profile_dict.items():\n",
    "            try:\n",
    "                new_feature = new_adot_profile_mappings[key]\n",
    "                adot_template_dict[new_feature].append(val)\n",
    "            except:\n",
    "                pass\n",
    "        \n",
    "        adot_preferences = adot_template_dict.get('preference', [])\n",
    "\n",
    "        return dict(adot_template_dict)"
   ]
  },
  {
   "cell_type": "code",
   "execution_count": 154,
   "metadata": {
    "execution": {
     "iopub.execute_input": "2024-06-03T10:57:22.592013Z",
     "iopub.status.busy": "2024-06-03T10:57:22.591578Z",
     "iopub.status.idle": "2024-06-03T10:57:22.597016Z",
     "shell.execute_reply": "2024-06-03T10:57:22.596393Z",
     "shell.execute_reply.started": "2024-06-03T10:57:22.591980Z"
    },
    "tags": []
   },
   "outputs": [],
   "source": [
    "adot_profile_mappings = {\n",
    "    '선호 도메인': 'preferred_domain',\n",
    "    '성별': 'gender',\n",
    "    '나이': 'age',\n",
    "    '활성 상태':'active_status',\n",
    "    '선호 카테고리': 'preferred_category',\n",
    "    '선호 아이템': 'preferred_item',\n",
    "    '다중 도메인 성향': 'multi_domain_tendency',\n",
    "    '인기 컨텐츠 선호도': 'popular_content_preference',\n",
    "    '사용성 기준': 'usability_criteria',\n",
    "    '헤비유즈 도메인': 'heavy_use_domains',\n",
    "    '헤비유저인 도메인': 'heavy_user_domains'\n",
    "}\n",
    "\n",
    "\n",
    "new_adot_profile_mappings = {\n",
    "    '선호 도메인': 'preference',\n",
    "    '성별': 'gender',\n",
    "    '나이': 'age',\n",
    "    '선호 아이템': 'preference',\n",
    "    '선호 카테고리': 'preference',\n",
    "    '인기 컨텐츠 선호도': 'preference_level',\n",
    "    '사용성 기준': 'adot_status',\n",
    "    '활성 상태':'adot_status',\n",
    "    '다중 도메인 성향': 'multi_domain_tendency',\n",
    "}\n"
   ]
  },
  {
   "cell_type": "code",
   "execution_count": 253,
   "metadata": {
    "execution": {
     "iopub.execute_input": "2024-06-03T11:56:27.847246Z",
     "iopub.status.busy": "2024-06-03T11:56:27.846818Z",
     "iopub.status.idle": "2024-06-03T11:56:27.850937Z",
     "shell.execute_reply": "2024-06-03T11:56:27.850315Z",
     "shell.execute_reply.started": "2024-06-03T11:56:27.847212Z"
    },
    "tags": []
   },
   "outputs": [],
   "source": [
    "pattern = r'^(.*?)\\((.*?)\\)$'\n",
    "a= '음악(장르 : 국내 알앤비, 국내 발라드, 국내 댄스/일렉 & 가수 : 비비, 아이유, 트와이스)'\n",
    "match = re.search(pattern, a)"
   ]
  },
  {
   "cell_type": "code",
   "execution_count": 255,
   "metadata": {
    "execution": {
     "iopub.execute_input": "2024-06-03T11:56:32.139863Z",
     "iopub.status.busy": "2024-06-03T11:56:32.139448Z",
     "iopub.status.idle": "2024-06-03T11:56:32.144371Z",
     "shell.execute_reply": "2024-06-03T11:56:32.143776Z",
     "shell.execute_reply.started": "2024-06-03T11:56:32.139832Z"
    },
    "tags": []
   },
   "outputs": [
    {
     "data": {
      "text/plain": [
       "'장르 : 국내 알앤비, 국내 발라드, 국내 댄스/일렉 & 가수 : 비비, 아이유, 트와이스'"
      ]
     },
     "execution_count": 255,
     "metadata": {},
     "output_type": "execute_result"
    }
   ],
   "source": [
    "match.group(2)"
   ]
  },
  {
   "cell_type": "code",
   "execution_count": 262,
   "metadata": {
    "execution": {
     "iopub.execute_input": "2024-06-03T12:02:59.592777Z",
     "iopub.status.busy": "2024-06-03T12:02:59.591926Z",
     "iopub.status.idle": "2024-06-03T12:02:59.604203Z",
     "shell.execute_reply": "2024-06-03T12:02:59.603442Z",
     "shell.execute_reply.started": "2024-06-03T12:02:59.592737Z"
    },
    "tags": []
   },
   "outputs": [],
   "source": [
    "from collections import defaultdict\n",
    "import re\n",
    "pattern = r\"선호 (?P<entity>\\w+)\\s?:\\s?(?P<item>.*?)\\((?P<metadata>.*?)\\)\"\n",
    "def profile_normalize(profile:str, delimiter='<|n|>'):\n",
    "        \"\"\"성별, 나이\"\"\"\n",
    "        adot_profile = profile[\"adot_profile_feature\"]\n",
    "        adot_profiles = adot_profile.split(delimiter)\n",
    "        adot_profile_dict = dict()\n",
    "        for profile in adot_profiles:\n",
    "            key, val = profile.split(':', 1)\n",
    "            key = key.strip()\n",
    "            val = val.strip()\n",
    "            null_values = adot_profile_mappings[key]\n",
    "                \n",
    "            if val in adot_select_default_value(field_name=null_values):\n",
    "                pass\n",
    "            else:\n",
    "                adot_profile_dict[key] = val\n",
    "                \n",
    "        adot_template_dict = defaultdict(list)\n",
    "        for key, val in new_adot_profile_mappings.items():\n",
    "            adot_template_dict[val] = []\n",
    "        \n",
    "        #for key, val in adot_profile_dict.items():    \n",
    "        #   \"\"\" 선호 도메인, 선호 아이템, 선호 카테고리 매칭\"\"\"\n",
    "            \n",
    "        domain = adot_profile_dict.get('선호 도메인', '')\n",
    "        category = adot_profile_dict.get('선호 카테고리', '')\n",
    "        item = adot_profile_dict.get('선호 아이템','')\n",
    "        \n",
    "        if domain:\n",
    "            preference_template = f\"{domain}\"\n",
    "            preference_item_template = ''\n",
    "        else:\n",
    "            preference_template = ''\n",
    "            preference_item_template = ''\n",
    "        \n",
    "        pattern = r'^(.*?)\\((.*?)\\)$'\n",
    "\n",
    "        #pattern = r'\\((.*?)\\)$'\n",
    "        if category:\n",
    "            #match = re.search(pattern, category)\n",
    "            match = re.search(pattern, category)\n",
    "            prefix = match.group(1)\n",
    "            cate = match.group(2)\n",
    "            if cate:\n",
    "                # Extract the string between parentheses\n",
    "                #cate = match.group(1)\n",
    "                preference_template +=f\",{prefix}:{cate}\"\n",
    "        \n",
    "        if item:\n",
    "            match = re.search(pattern, item)\n",
    "            if match:\n",
    "                # Extract the string between parentheses\n",
    "                item = match.group(2)\n",
    "                preference_item_template = f\"{item}\"\n",
    "            \n",
    "        # new_feature = new_adot_profile_mappings[key]\n",
    "        # adot_template_dict[new_feature].append(val)\n",
    "        # Remove spaces after the colon\n",
    "\n",
    "        preference_template = re.sub(r'\\s+(?=:)', '', preference_template)\n",
    "        preference_template = re.sub(r':\\s+', ':', preference_template)\n",
    "        # Remove spaces after the colon\n",
    "        preference_item_template = re.sub(r'\\s+(?=:)', '', preference_item_template)\n",
    "        preference_item_template = re.sub(r':\\s+', ':', preference_item_template)\n",
    "        adot_template_dict['preference'] = preference_template\n",
    "        adot_template_dict['preference_item'] = preference_item_template\n",
    "        #adot_preferences = adot_template_dict.get('preference', [])\n",
    "        return dict(adot_template_dict)"
   ]
  },
  {
   "cell_type": "code",
   "execution_count": 263,
   "metadata": {
    "execution": {
     "iopub.execute_input": "2024-06-03T12:02:59.824820Z",
     "iopub.status.busy": "2024-06-03T12:02:59.824052Z",
     "iopub.status.idle": "2024-06-03T12:03:09.977577Z",
     "shell.execute_reply": "2024-06-03T12:03:09.976403Z",
     "shell.execute_reply.started": "2024-06-03T12:02:59.824787Z"
    },
    "tags": []
   },
   "outputs": [],
   "source": [
    "samples = []\n",
    "i = 0\n",
    "for data in dataset.map(profile_normalize, remove_columns=['user_vector', 'mno_profile_feature']):\n",
    "    if data['preference'] and data['preference']!='전화':\n",
    "        samples.append(data)\n",
    "        i = i+1\n",
    "    if i > 30:\n",
    "        break"
   ]
  },
  {
   "cell_type": "code",
   "execution_count": 264,
   "metadata": {
    "execution": {
     "iopub.execute_input": "2024-06-03T12:03:10.689577Z",
     "iopub.status.busy": "2024-06-03T12:03:10.689107Z",
     "iopub.status.idle": "2024-06-03T12:03:10.704298Z",
     "shell.execute_reply": "2024-06-03T12:03:10.703699Z",
     "shell.execute_reply.started": "2024-06-03T12:03:10.689542Z"
    },
    "tags": []
   },
   "outputs": [
    {
     "data": {
      "text/plain": [
       "[{'svc_mgmt_num': '78edbc72bf50cc62ebef171b4150ae07d5e68b26b59596fc7da784a061389edc',\n",
       "  'luna_id': 'APL00000DG4BGMB4ENSW',\n",
       "  'age': [],\n",
       "  'gender': [],\n",
       "  'adot_profile_feature': '선호 도메인 : 포토<|n|>선호 카테고리 : 없음<|n|>선호 아이템 : 없음<|n|>성별 : 남성<|n|>나이 : 66<|n|>활성 상태 : 활성<|n|>다중 도메인 성향 : 높음<|n|>인기 컨텐츠 선호도 : 높음<|n|>사용성 기준 : 헤비유저<|n|>헤비유저인 도메인 : 맛집추천, TV, 포토',\n",
       "  'is_adot': True,\n",
       "  'create_at': '2024-05-11',\n",
       "  'preference': '포토',\n",
       "  'preference_level': [],\n",
       "  'adot_status': [],\n",
       "  'multi_domain_tendency': [],\n",
       "  'preference_item': ''},\n",
       " {'svc_mgmt_num': '783211e3944cec4b713411c9d5f5b9680c0d34795e90c5450ba2228c6086a662',\n",
       "  'luna_id': 'APL00000BP2VY811XON4',\n",
       "  'age': [],\n",
       "  'gender': [],\n",
       "  'adot_profile_feature': '선호 도메인 : 음악<|n|>선호 카테고리 : 음악(장르 : 해외 팝, 해외 락,  & 가수 : 스콜피온스, 산타나, 신디 로퍼) <|n|>선호 아이템 : 음악(Wind Of Change, Love of My Life (Live), Smooth) <|n|>성별 : 여성<|n|>나이 : 52<|n|>활성 상태 : 활성<|n|>다중 도메인 성향 : 보통<|n|>인기 컨텐츠 선호도 : 보통<|n|>사용성 기준 : 일반유저<|n|>헤비유저인 도메인 : TV, 음악, 루틴',\n",
       "  'is_adot': True,\n",
       "  'create_at': '2024-05-11',\n",
       "  'preference': '음악,음악:장르:해외 팝, 해외 락,  & 가수:스콜피온스, 산타나, 신디 로퍼',\n",
       "  'preference_level': [],\n",
       "  'adot_status': [],\n",
       "  'multi_domain_tendency': [],\n",
       "  'preference_item': 'Wind Of Change, Love of My Life (Live), Smooth'},\n",
       " {'svc_mgmt_num': '78a70cc414078af909667335ee1abcdd0f72a10f79d936a904b138ce59e7c0cd',\n",
       "  'luna_id': 'APL00000BXHAALPI0BGG',\n",
       "  'age': [],\n",
       "  'gender': [],\n",
       "  'adot_profile_feature': '선호 도메인 : 음악<|n|>선호 카테고리 : 음악(장르 : 국내 알앤비, 국내 발라드, 국내 댄스/일렉 & 가수 : 비비, 아이유, 트와이스) <|n|>선호 아이템 : 음악(밤양갱, Discord, Love wins all) <|n|>성별 : 남성<|n|>나이 : 45<|n|>활성 상태 : 활성<|n|>다중 도메인 성향 : 보통<|n|>인기 컨텐츠 선호도 : 낮음<|n|>사용성 기준 : 일반유저<|n|>헤비유즈 도메인 : 없음',\n",
       "  'is_adot': True,\n",
       "  'create_at': '2024-05-11',\n",
       "  'preference': '음악,음악:장르:국내 알앤비, 국내 발라드, 국내 댄스/일렉 & 가수:비비, 아이유, 트와이스',\n",
       "  'preference_level': [],\n",
       "  'adot_status': [],\n",
       "  'multi_domain_tendency': [],\n",
       "  'preference_item': '밤양갱, Discord, Love wins all'},\n",
       " {'svc_mgmt_num': '78232f7f0ad4bcdbe428ec95f71799376039d981cd929b88c1fed4265fa87297',\n",
       "  'luna_id': 'APL00000D6TS66GICGE8',\n",
       "  'age': [],\n",
       "  'gender': [],\n",
       "  'adot_profile_feature': '선호 도메인 : 날씨<|n|>선호 카테고리 : 없음<|n|>선호 아이템 : 없음<|n|>성별 : 남성<|n|>나이 : 57<|n|>활성 상태 : 활성<|n|>다중 도메인 성향 : 보통<|n|>인기 컨텐츠 선호도 : 보통<|n|>사용성 기준 : 일반유저<|n|>헤비유저인 도메인 : 날씨, sleep',\n",
       "  'is_adot': True,\n",
       "  'create_at': '2024-05-11',\n",
       "  'preference': '날씨',\n",
       "  'preference_level': [],\n",
       "  'adot_status': [],\n",
       "  'multi_domain_tendency': [],\n",
       "  'preference_item': ''},\n",
       " {'svc_mgmt_num': '78b124f9e934126bc91af7498ddd7def2b4f733fff63d590407168d22098efb0',\n",
       "  'luna_id': 'APL00000CS495NGWA9S0',\n",
       "  'age': [],\n",
       "  'gender': [],\n",
       "  'adot_profile_feature': \"선호 도메인 : 음악<|n|>선호 카테고리 : 음악(장르 : 국내 댄스/일렉, OST/BGM, 국내 팝/어쿠스틱 & 가수 : 르세라핌, 악뮤, (여자)아이들) <|n|>선호 아이템 : 음악(Perfect Night, Love Lee, Turn Up The Sunshine (PNAU Remix / From 'Minions: The Rise of Gru' Soundtrack)) <|n|>성별 : 여성<|n|>나이 : 42<|n|>활성 상태 : 활성<|n|>다중 도메인 성향 : 보통<|n|>인기 컨텐츠 선호도 : 낮음<|n|>사용성 기준 : 일반유저<|n|>헤비유저인 도메인 : 음악, 게임\",\n",
       "  'is_adot': True,\n",
       "  'create_at': '2024-05-11',\n",
       "  'preference': '음악,음악:장르:국내 댄스/일렉, OST/BGM, 국내 팝/어쿠스틱 & 가수:르세라핌, 악뮤, (여자)아이들',\n",
       "  'preference_level': [],\n",
       "  'adot_status': [],\n",
       "  'multi_domain_tendency': [],\n",
       "  'preference_item': \"Perfect Night, Love Lee, Turn Up The Sunshine (PNAU Remix / From 'Minions:The Rise of Gru' Soundtrack)\"},\n",
       " {'svc_mgmt_num': '78268bd9be402e1b796dfc24b1310c562a820b8f1d49a1d864e44677ed97c93a',\n",
       "  'luna_id': 'APL00000D0YUGT4J08W0',\n",
       "  'age': [],\n",
       "  'gender': [],\n",
       "  'adot_profile_feature': '선호 도메인 : 포토, 게임<|n|>선호 카테고리 : 없음<|n|>선호 아이템 : 없음<|n|>성별 : 여성<|n|>나이 : 8<|n|>활성 상태 : 활성<|n|>다중 도메인 성향 : 높음<|n|>인기 컨텐츠 선호도 : 높음<|n|>사용성 기준 : 일반유저<|n|>헤비유저인 도메인 : 캐릭터꾸미기, 게임, 포토, 퀘스트, 음악',\n",
       "  'is_adot': True,\n",
       "  'create_at': '2024-05-11',\n",
       "  'preference': '포토, 게임',\n",
       "  'preference_level': [],\n",
       "  'adot_status': [],\n",
       "  'multi_domain_tendency': [],\n",
       "  'preference_item': ''},\n",
       " {'svc_mgmt_num': '78153a2ef2279ef73720bd7c50abaf1d0cba23631c388688d076086e74517004',\n",
       "  'luna_id': 'APL00000D18PAPJBH2WW',\n",
       "  'age': [],\n",
       "  'gender': [],\n",
       "  'adot_profile_feature': '선호 도메인 : 포토<|n|>선호 카테고리 : 없음<|n|>선호 아이템 : 없음<|n|>성별 : 남성<|n|>나이 : 47<|n|>활성 상태 : 복귀<|n|>다중 도메인 성향 : 보통<|n|>인기 컨텐츠 선호도 : 보통<|n|>사용성 기준 : 헤비유저<|n|>헤비유저인 도메인 : 혼잡도, 전화',\n",
       "  'is_adot': True,\n",
       "  'create_at': '2024-05-11',\n",
       "  'preference': '포토',\n",
       "  'preference_level': [],\n",
       "  'adot_status': [],\n",
       "  'multi_domain_tendency': [],\n",
       "  'preference_item': ''},\n",
       " {'svc_mgmt_num': '78d4e943ea4d76680275beb55a785783245e535845004393539ed66fa036bf31',\n",
       "  'luna_id': 'APL00000CWWTSPR13SHS',\n",
       "  'age': [],\n",
       "  'gender': [],\n",
       "  'adot_profile_feature': '선호 도메인 : 운세<|n|>선호 카테고리 : 없음<|n|>선호 아이템 : 없음<|n|>성별 : 남성<|n|>나이 : 57<|n|>활성 상태 : 활성<|n|>다중 도메인 성향 : 보통<|n|>인기 컨텐츠 선호도 : 낮음<|n|>사용성 기준 : 일반유저<|n|>헤비유즈 도메인 : 없음',\n",
       "  'is_adot': True,\n",
       "  'create_at': '2024-05-11',\n",
       "  'preference': '운세',\n",
       "  'preference_level': [],\n",
       "  'adot_status': [],\n",
       "  'multi_domain_tendency': [],\n",
       "  'preference_item': ''},\n",
       " {'svc_mgmt_num': '780d458b967d02898bf0d8b60f958784d47544f92bb75745d713689a483c40f1',\n",
       "  'luna_id': 'APL00000DBBZYSRO114W',\n",
       "  'age': [],\n",
       "  'gender': [],\n",
       "  'adot_profile_feature': '선호 도메인 : 게임, 전화<|n|>선호 카테고리 : 게임(하이퍼캐쥬얼, 심리테스트) <|n|>선호 아이템 : 게임(미니펫, 스택폴, 진짜 모습 테스트) <|n|>성별 : 여성<|n|>나이 : 11<|n|>활성 상태 : 활성<|n|>다중 도메인 성향 : 보통<|n|>인기 컨텐츠 선호도 : 보통<|n|>사용성 기준 : 일반유저<|n|>헤비유저인 도메인 : sleep, 게임',\n",
       "  'is_adot': True,\n",
       "  'create_at': '2024-05-11',\n",
       "  'preference': '게임, 전화,게임:하이퍼캐쥬얼, 심리테스트',\n",
       "  'preference_level': [],\n",
       "  'adot_status': [],\n",
       "  'multi_domain_tendency': [],\n",
       "  'preference_item': '미니펫, 스택폴, 진짜 모습 테스트'},\n",
       " {'svc_mgmt_num': '7819fac1577c61b5189b2e7666e4274a0b9b0ef7a559998d06c881771955d559',\n",
       "  'luna_id': 'APL00000D3SLQ4CCDA0W',\n",
       "  'age': [],\n",
       "  'gender': [],\n",
       "  'adot_profile_feature': '선호 도메인 : 음악<|n|>선호 카테고리 : 음악(장르 : 국내 알앤비, OST/BGM, 국내 댄스/일렉 & 가수 : 비비, 박학기, 청하) <|n|>선호 아이템 : 음악(밤양갱, EENIE MEENIE (Feat. 홍중(ATEEZ)), Cuz You) <|n|>성별 : 여성<|n|>나이 : 47<|n|>활성 상태 : 활성<|n|>다중 도메인 성향 : 높음<|n|>인기 컨텐츠 선호도 : 높음<|n|>사용성 기준 : 일반유저<|n|>헤비유저인 도메인 : 음악',\n",
       "  'is_adot': True,\n",
       "  'create_at': '2024-05-11',\n",
       "  'preference': '음악,음악:장르:국내 알앤비, OST/BGM, 국내 댄스/일렉 & 가수:비비, 박학기, 청하',\n",
       "  'preference_level': [],\n",
       "  'adot_status': [],\n",
       "  'multi_domain_tendency': [],\n",
       "  'preference_item': '밤양갱, EENIE MEENIE (Feat. 홍중(ATEEZ)), Cuz You'},\n",
       " {'svc_mgmt_num': '789c1eb0f23173796dc2d40cf6bb907163a31699a8ca100e0fc06adb22fed2b5',\n",
       "  'luna_id': 'APL00000DBCH7OMAASCG',\n",
       "  'age': [],\n",
       "  'gender': [],\n",
       "  'adot_profile_feature': '선호 도메인 : 음악<|n|>선호 카테고리 : 음악(장르 : 해외 팝, 국내 알앤비, OST/BGM & 가수 : 린, BloodPop®, Ella Grace) <|n|>선호 아이템 : 음악(...사랑했잖아..., Love You, 퐁당 (Pong Dang)) <|n|>성별 : 남성<|n|>나이 : 50<|n|>활성 상태 : 활성<|n|>다중 도메인 성향 : 보통<|n|>인기 컨텐츠 선호도 : 보통<|n|>사용성 기준 : 일반유저<|n|>헤비유저인 도메인 : 맛집추천',\n",
       "  'is_adot': True,\n",
       "  'create_at': '2024-05-11',\n",
       "  'preference': '음악,음악:장르:해외 팝, 국내 알앤비, OST/BGM & 가수:린, BloodPop®, Ella Grace',\n",
       "  'preference_level': [],\n",
       "  'adot_status': [],\n",
       "  'multi_domain_tendency': [],\n",
       "  'preference_item': '...사랑했잖아..., Love You, 퐁당 (Pong Dang)'},\n",
       " {'svc_mgmt_num': '78f71ceae19224e4568585cb11c48161193b9a7615c073eb8163f392d988a29b',\n",
       "  'luna_id': 'APL00000CZO1OKYBBQWW',\n",
       "  'age': [],\n",
       "  'gender': [],\n",
       "  'adot_profile_feature': '선호 도메인 : 음악<|n|>선호 카테고리 : 음악(장르 : 국내 발라드, 국내 알앤비, 국내 댄스/일렉 & 가수 : 브라운 아이드 소울, 나얼, 디에이드) <|n|>선호 아이템 : 음악(비켜줄께, 비가 그치면, Promise You) <|n|>성별 : 여성<|n|>나이 : 42<|n|>활성 상태 : 휴면<|n|>다중 도메인 성향 : 낮음<|n|>인기 컨텐츠 선호도 : 낮음<|n|>사용성 기준 : 일반유저<|n|>헤비유즈 도메인 : 없음',\n",
       "  'is_adot': True,\n",
       "  'create_at': '2024-05-11',\n",
       "  'preference': '음악,음악:장르:국내 발라드, 국내 알앤비, 국내 댄스/일렉 & 가수:브라운 아이드 소울, 나얼, 디에이드',\n",
       "  'preference_level': [],\n",
       "  'adot_status': [],\n",
       "  'multi_domain_tendency': [],\n",
       "  'preference_item': '비켜줄께, 비가 그치면, Promise You'},\n",
       " {'svc_mgmt_num': '785035935b3f76a4048108415ccc444a3feea610f70ffa18c1708f05b818cbbd',\n",
       "  'luna_id': 'APL00000D17EJ64WKD8G',\n",
       "  'age': [],\n",
       "  'gender': [],\n",
       "  'adot_profile_feature': '선호 도메인 : 알람<|n|>선호 카테고리 : 없음<|n|>선호 아이템 : 없음<|n|>성별 : 여성<|n|>나이 : 40<|n|>활성 상태 : 활성<|n|>다중 도메인 성향 : 높음<|n|>인기 컨텐츠 선호도 : 높음<|n|>사용성 기준 : 일반유저<|n|>헤비유저인 도메인 : sleep',\n",
       "  'is_adot': True,\n",
       "  'create_at': '2024-05-11',\n",
       "  'preference': '알람',\n",
       "  'preference_level': [],\n",
       "  'adot_status': [],\n",
       "  'multi_domain_tendency': [],\n",
       "  'preference_item': ''},\n",
       " {'svc_mgmt_num': '78acb5fa294ce3db8b7dea7763cfe13b06e687db36396ee38e508f365371ad58',\n",
       "  'luna_id': 'APL00000C0W05N0CG000',\n",
       "  'age': [],\n",
       "  'gender': [],\n",
       "  'adot_profile_feature': '선호 도메인 : 알람<|n|>선호 카테고리 : 없음<|n|>선호 아이템 : 없음<|n|>성별 : 여성<|n|>나이 : 67<|n|>활성 상태 : 활성<|n|>다중 도메인 성향 : 낮음<|n|>인기 컨텐츠 선호도 : 낮음<|n|>사용성 기준 : 일반유저<|n|>헤비유저인 도메인 : T 서비스',\n",
       "  'is_adot': True,\n",
       "  'create_at': '2024-05-11',\n",
       "  'preference': '알람',\n",
       "  'preference_level': [],\n",
       "  'adot_status': [],\n",
       "  'multi_domain_tendency': [],\n",
       "  'preference_item': ''},\n",
       " {'svc_mgmt_num': '78596a127f113bf9a5b8401c05310df6ea45501d384eda8a4f8a0e06fcad259b',\n",
       "  'luna_id': 'APL00000CZKE692I3PXC',\n",
       "  'age': [],\n",
       "  'gender': [],\n",
       "  'adot_profile_feature': '선호 도메인 : 음악<|n|>선호 카테고리 : 없음<|n|>선호 아이템 : 없음<|n|>성별 : 여성<|n|>나이 : 46<|n|>활성 상태 : 활성<|n|>다중 도메인 성향 : 보통<|n|>인기 컨텐츠 선호도 : 보통<|n|>사용성 기준 : 일반유저<|n|>헤비유저인 도메인 : 퀘스트',\n",
       "  'is_adot': True,\n",
       "  'create_at': '2024-05-11',\n",
       "  'preference': '음악',\n",
       "  'preference_level': [],\n",
       "  'adot_status': [],\n",
       "  'multi_domain_tendency': [],\n",
       "  'preference_item': ''},\n",
       " {'svc_mgmt_num': '78c2b2fd5fad647f695f551aa44e126996e6395aaadc01c4c51935c999affa0d',\n",
       "  'luna_id': 'APL00000CYFJGH17L0CG',\n",
       "  'age': [],\n",
       "  'gender': [],\n",
       "  'adot_profile_feature': '선호 도메인 : 음악<|n|>선호 카테고리 : 음악(장르 : 키즈, 국내 알앤비, 국내 팝/어쿠스틱 & 가수 : 김하정, 동요싱싱, 십센치) <|n|>선호 아이템 : 음악(봄비, 봄비 (봄동요), 밤양갱) <|n|>성별 : 남성<|n|>나이 : 56<|n|>활성 상태 : 활성<|n|>다중 도메인 성향 : 높음<|n|>인기 컨텐츠 선호도 : 높음<|n|>사용성 기준 : 일반유저<|n|>헤비유저인 도메인 : 비디오, 캠페인',\n",
       "  'is_adot': True,\n",
       "  'create_at': '2024-05-11',\n",
       "  'preference': '음악,음악:장르:키즈, 국내 알앤비, 국내 팝/어쿠스틱 & 가수:김하정, 동요싱싱, 십센치',\n",
       "  'preference_level': [],\n",
       "  'adot_status': [],\n",
       "  'multi_domain_tendency': [],\n",
       "  'preference_item': '봄비, 봄비 (봄동요), 밤양갱'},\n",
       " {'svc_mgmt_num': '787081439541acd4ccb9d19d48ed50153c2bdad282797240b7f3e50713310bc8',\n",
       "  'luna_id': 'APL00000DAGC70GSC1S0',\n",
       "  'age': [],\n",
       "  'gender': [],\n",
       "  'adot_profile_feature': '선호 도메인 : 음악<|n|>선호 카테고리 : 음악(장르 : 국내 락/메탈, 국내 댄스/일렉, 국내 알앤비 & 가수 : 이무진, 데이식스, 아이유) <|n|>선호 아이템 : 음악(에피소드, 밤양갱, 나는 아픈 건 딱 질색이니까) <|n|>성별 : 여성<|n|>나이 : 29<|n|>활성 상태 : 활성<|n|>다중 도메인 성향 : 낮음<|n|>인기 컨텐츠 선호도 : 낮음<|n|>사용성 기준 : 일반유저<|n|>헤비유저인 도메인 : 음악',\n",
       "  'is_adot': True,\n",
       "  'create_at': '2024-05-11',\n",
       "  'preference': '음악,음악:장르:국내 락/메탈, 국내 댄스/일렉, 국내 알앤비 & 가수:이무진, 데이식스, 아이유',\n",
       "  'preference_level': [],\n",
       "  'adot_status': [],\n",
       "  'multi_domain_tendency': [],\n",
       "  'preference_item': '에피소드, 밤양갱, 나는 아픈 건 딱 질색이니까'},\n",
       " {'svc_mgmt_num': '785a3184c79c101b378c5fad2069ee03ffb28cd6537c043b023e809b9b51e323',\n",
       "  'luna_id': 'APL00000D16QAAGLSXZ4',\n",
       "  'age': [],\n",
       "  'gender': [],\n",
       "  'adot_profile_feature': '선호 도메인 : 음악<|n|>선호 카테고리 : 음악(장르 : OST/BGM & 가수 : 백현) <|n|>선호 아이템 : 음악(너를 사랑하고 있어) <|n|>성별 : 남성<|n|>나이 : 45<|n|>활성 상태 : 활성<|n|>다중 도메인 성향 : 보통<|n|>인기 컨텐츠 선호도 : 보통<|n|>사용성 기준 : 일반유저<|n|>헤비유저인 도메인 : 퀘스트, T 서비스, 음악, 캘린더',\n",
       "  'is_adot': True,\n",
       "  'create_at': '2024-05-11',\n",
       "  'preference': '음악,음악:장르:OST/BGM & 가수:백현',\n",
       "  'preference_level': [],\n",
       "  'adot_status': [],\n",
       "  'multi_domain_tendency': [],\n",
       "  'preference_item': '너를 사랑하고 있어'},\n",
       " {'svc_mgmt_num': '78f466dac5ba276dd702b7bb074661ecd6e185493cef4adf7e5f95a9340c9edf',\n",
       "  'luna_id': 'APL00000BTLI3TSA0NB4',\n",
       "  'age': [],\n",
       "  'gender': [],\n",
       "  'adot_profile_feature': '선호 도메인 : 게임<|n|>선호 카테고리 : 게임(하이퍼캐쥬얼) <|n|>선호 아이템 : 게임(퍼즐우드블럭) <|n|>성별 : 여성<|n|>나이 : 53<|n|>활성 상태 : 활성<|n|>다중 도메인 성향 : 보통<|n|>인기 컨텐츠 선호도 : 보통<|n|>사용성 기준 : 일반유저<|n|>헤비유저인 도메인 : 특일정보, 게임',\n",
       "  'is_adot': True,\n",
       "  'create_at': '2024-05-11',\n",
       "  'preference': '게임,게임:하이퍼캐쥬얼',\n",
       "  'preference_level': [],\n",
       "  'adot_status': [],\n",
       "  'multi_domain_tendency': [],\n",
       "  'preference_item': '퍼즐우드블럭'},\n",
       " {'svc_mgmt_num': '7879faf5c8fd6ec8689ba6b63f572cbe28aa2e482e7722661d4867653a95490c',\n",
       "  'luna_id': 'APL00000BZOMHYOTO8W0',\n",
       "  'age': [],\n",
       "  'gender': [],\n",
       "  'adot_profile_feature': '선호 도메인 : 음악<|n|>선호 카테고리 : 음악(장르 : 클래식, 뉴에이지, 트로트 & 가수 : 엔야, 엄정행, 이춘근) <|n|>선호 아이템 : 음악(목련화, Caribbean Blue, Only Time) <|n|>성별 : 여성<|n|>나이 : 62<|n|>활성 상태 : 활성<|n|>다중 도메인 성향 : 높음<|n|>인기 컨텐츠 선호도 : 높음<|n|>사용성 기준 : 일반유저<|n|>헤비유저인 도메인 : keep, 퀘스트, 루틴',\n",
       "  'is_adot': True,\n",
       "  'create_at': '2024-05-11',\n",
       "  'preference': '음악,음악:장르:클래식, 뉴에이지, 트로트 & 가수:엔야, 엄정행, 이춘근',\n",
       "  'preference_level': [],\n",
       "  'adot_status': [],\n",
       "  'multi_domain_tendency': [],\n",
       "  'preference_item': '목련화, Caribbean Blue, Only Time'},\n",
       " {'svc_mgmt_num': '784b1057d8306a3aa8f5eaa0f5b37279e95c7bc16d1eba2d1a83cb64b6752248',\n",
       "  'luna_id': 'APL00000DHWWJCFZH4HS',\n",
       "  'age': [],\n",
       "  'gender': [],\n",
       "  'adot_profile_feature': '선호 도메인 : 포토<|n|>선호 카테고리 : 없음<|n|>선호 아이템 : 없음<|n|>성별 : 여성<|n|>나이 : 49<|n|>활성 상태 : 휴면<|n|>다중 도메인 성향 : 낮음<|n|>인기 컨텐츠 선호도 : 낮음<|n|>사용성 기준 : 일반유저<|n|>헤비유즈 도메인 : 없음',\n",
       "  'is_adot': True,\n",
       "  'create_at': '2024-05-11',\n",
       "  'preference': '포토',\n",
       "  'preference_level': [],\n",
       "  'adot_status': [],\n",
       "  'multi_domain_tendency': [],\n",
       "  'preference_item': ''},\n",
       " {'svc_mgmt_num': '789ac284b2928fc3d2a821b05dac8891c1ad789998ca681a7bbc7b059ff2d2f2',\n",
       "  'luna_id': 'APL00000C4JETGC1KMIO',\n",
       "  'age': [],\n",
       "  'gender': [],\n",
       "  'adot_profile_feature': '선호 도메인 : 게임<|n|>선호 카테고리 : 게임(하이퍼캐쥬얼) <|n|>선호 아이템 : 게임(미니펫, 머지프루트) <|n|>성별 : 여성<|n|>나이 : 42<|n|>활성 상태 : 휴면<|n|>다중 도메인 성향 : 낮음<|n|>인기 컨텐츠 선호도 : 낮음<|n|>사용성 기준 : 일반유저<|n|>헤비유즈 도메인 : 없음',\n",
       "  'is_adot': True,\n",
       "  'create_at': '2024-05-11',\n",
       "  'preference': '게임,게임:하이퍼캐쥬얼',\n",
       "  'preference_level': [],\n",
       "  'adot_status': [],\n",
       "  'multi_domain_tendency': [],\n",
       "  'preference_item': '미니펫, 머지프루트'},\n",
       " {'svc_mgmt_num': '78ca9548867d116f13199d6707319ed36346d9e079815a46150a289244aea4c1',\n",
       "  'luna_id': 'APL00000DH7FLLMEHSE8',\n",
       "  'age': [],\n",
       "  'gender': [],\n",
       "  'adot_profile_feature': '선호 도메인 : 알람, 전화<|n|>선호 카테고리 : 없음<|n|>선호 아이템 : 없음<|n|>성별 : 여성<|n|>나이 : 50<|n|>활성 상태 : 복귀<|n|>다중 도메인 성향 : 높음<|n|>인기 컨텐츠 선호도 : 높음<|n|>사용성 기준 : 일반유저<|n|>헤비유즈 도메인 : 없음',\n",
       "  'is_adot': True,\n",
       "  'create_at': '2024-05-11',\n",
       "  'preference': '알람, 전화',\n",
       "  'preference_level': [],\n",
       "  'adot_status': [],\n",
       "  'multi_domain_tendency': [],\n",
       "  'preference_item': ''},\n",
       " {'svc_mgmt_num': '78d3ae166f8fbb325451637e10989b255049e7e92519146536aba5d1afb29cbb',\n",
       "  'luna_id': 'APL00000CZCBQVXJDTZ4',\n",
       "  'age': [],\n",
       "  'gender': [],\n",
       "  'adot_profile_feature': '선호 도메인 : 음악<|n|>선호 카테고리 : 음악(장르 : 국내 락/메탈, 국내 발라드, OST/BGM & 가수 : 이문세, 변진섭, 경서예지) <|n|>선호 아이템 : 음악(사랑은 늘 도망가, 봄바람 (FEAT.나얼), 다정히 내 이름을 부르면) <|n|>성별 : 남성<|n|>나이 : 52<|n|>활성 상태 : 활성<|n|>다중 도메인 성향 : 높음<|n|>인기 컨텐츠 선호도 : 높음<|n|>사용성 기준 : 일반유저<|n|>헤비유저인 도메인 : 날씨',\n",
       "  'is_adot': True,\n",
       "  'create_at': '2024-05-11',\n",
       "  'preference': '음악,음악:장르:국내 락/메탈, 국내 발라드, OST/BGM & 가수:이문세, 변진섭, 경서예지',\n",
       "  'preference_level': [],\n",
       "  'adot_status': [],\n",
       "  'multi_domain_tendency': [],\n",
       "  'preference_item': '사랑은 늘 도망가, 봄바람 (FEAT.나얼), 다정히 내 이름을 부르면'},\n",
       " {'svc_mgmt_num': '788267e03536dd386461c347144b71bff0d19241d4e2a3a473eed7c67cf58626',\n",
       "  'luna_id': 'APL00000C4BYTAZUDAF4',\n",
       "  'age': [],\n",
       "  'gender': [],\n",
       "  'adot_profile_feature': '선호 도메인 : 음악<|n|>선호 카테고리 : 음악(장르 : 국내 발라드, 국내 팝/어쿠스틱, 국내 댄스/일렉 & 가수 : 에일리, 진성, 최호섭) <|n|>선호 아이템 : 음악(세월이 가면, 숨, 성숙) <|n|>성별 : 여성<|n|>나이 : 50<|n|>활성 상태 : 활성<|n|>다중 도메인 성향 : 보통<|n|>인기 컨텐츠 선호도 : 낮음<|n|>사용성 기준 : 일반유저<|n|>헤비유저인 도메인 : 음악',\n",
       "  'is_adot': True,\n",
       "  'create_at': '2024-05-11',\n",
       "  'preference': '음악,음악:장르:국내 발라드, 국내 팝/어쿠스틱, 국내 댄스/일렉 & 가수:에일리, 진성, 최호섭',\n",
       "  'preference_level': [],\n",
       "  'adot_status': [],\n",
       "  'multi_domain_tendency': [],\n",
       "  'preference_item': '세월이 가면, 숨, 성숙'},\n",
       " {'svc_mgmt_num': '78831f632c92ddd2b628767608146491c9077dfc57a5b715cef56aa8a73f6868',\n",
       "  'luna_id': 'APL00000C4GIAJM5A0W0',\n",
       "  'age': [],\n",
       "  'gender': [],\n",
       "  'adot_profile_feature': '선호 도메인 : 음악<|n|>선호 카테고리 : 음악(장르 : OST/BGM, 국내 댄스/일렉, 해외 일렉트로닉 & 가수 : (여자)아이들, 런던 보이스, 대니 엘프만) <|n|>선호 아이템 : 음악(Oompa Loompa, 나는 아픈 건 딱 질색이니까, 첫 만남은 계획대로 되지 않아) <|n|>성별 : 남성<|n|>나이 : 51<|n|>활성 상태 : 활성<|n|>다중 도메인 성향 : 보통<|n|>인기 컨텐츠 선호도 : 높음<|n|>사용성 기준 : 일반유저<|n|>헤비유저인 도메인 : 음악',\n",
       "  'is_adot': True,\n",
       "  'create_at': '2024-05-11',\n",
       "  'preference': '음악,음악:장르:OST/BGM, 국내 댄스/일렉, 해외 일렉트로닉 & 가수:(여자)아이들, 런던 보이스, 대니 엘프만',\n",
       "  'preference_level': [],\n",
       "  'adot_status': [],\n",
       "  'multi_domain_tendency': [],\n",
       "  'preference_item': 'Oompa Loompa, 나는 아픈 건 딱 질색이니까, 첫 만남은 계획대로 되지 않아'},\n",
       " {'svc_mgmt_num': '7892f5add4588749e6ae03f5b0680f47a50475d0400ed90f2e8e90407108b5ef',\n",
       "  'luna_id': 'APL00000CZFLTKKBVDA8',\n",
       "  'age': [],\n",
       "  'gender': [],\n",
       "  'adot_profile_feature': '선호 도메인 : 음악<|n|>선호 카테고리 : 음악(장르 : 클래식 & 가수 : 이루마) <|n|>선호 아이템 : 음악(la mia notte) <|n|>성별 : 여성<|n|>나이 : 51<|n|>활성 상태 : 복귀<|n|>다중 도메인 성향 : 낮음<|n|>인기 컨텐츠 선호도 : 낮음<|n|>사용성 기준 : 일반유저<|n|>헤비유저인 도메인 : 음악',\n",
       "  'is_adot': True,\n",
       "  'create_at': '2024-05-11',\n",
       "  'preference': '음악,음악:장르:클래식 & 가수:이루마',\n",
       "  'preference_level': [],\n",
       "  'adot_status': [],\n",
       "  'multi_domain_tendency': [],\n",
       "  'preference_item': 'la mia notte'},\n",
       " {'svc_mgmt_num': '78f5090d8b0351ec385d4bc7edc55ce0f0259ebd4d8763a409c3346ff838a9d2',\n",
       "  'luna_id': 'APL00000D8OHKYTKIAYO',\n",
       "  'age': [],\n",
       "  'gender': [],\n",
       "  'adot_profile_feature': '선호 도메인 : 포토<|n|>선호 카테고리 : 없음<|n|>선호 아이템 : 없음<|n|>성별 : 여성<|n|>나이 : 32<|n|>활성 상태 : 활성<|n|>다중 도메인 성향 : 보통<|n|>인기 컨텐츠 선호도 : 보통<|n|>사용성 기준 : 일반유저<|n|>헤비유저인 도메인 : 포토, 음악, 전화, 날씨',\n",
       "  'is_adot': True,\n",
       "  'create_at': '2024-05-11',\n",
       "  'preference': '포토',\n",
       "  'preference_level': [],\n",
       "  'adot_status': [],\n",
       "  'multi_domain_tendency': [],\n",
       "  'preference_item': ''},\n",
       " {'svc_mgmt_num': '7861c50aab7e0ade68c30f22c17f4a8516c2f8b01d1232efbb840cac262ecd0d',\n",
       "  'luna_id': 'APL00000C84BIJJXKTMO',\n",
       "  'age': [],\n",
       "  'gender': [],\n",
       "  'adot_profile_feature': '선호 도메인 : 게임<|n|>선호 카테고리 : 게임(하이퍼캐쥬얼) <|n|>선호 아이템 : 게임(애니멀 2048, 매치월드, 퍼즐 트립) <|n|>성별 : 남성<|n|>나이 : 44<|n|>활성 상태 : 활성<|n|>다중 도메인 성향 : 낮음<|n|>인기 컨텐츠 선호도 : 낮음<|n|>사용성 기준 : 일반유저<|n|>헤비유저인 도메인 : 게임, 퀘스트',\n",
       "  'is_adot': True,\n",
       "  'create_at': '2024-05-11',\n",
       "  'preference': '게임,게임:하이퍼캐쥬얼',\n",
       "  'preference_level': [],\n",
       "  'adot_status': [],\n",
       "  'multi_domain_tendency': [],\n",
       "  'preference_item': '애니멀 2048, 매치월드, 퍼즐 트립'},\n",
       " {'svc_mgmt_num': '7808039e316916e81dc73010b549e78189bb647ca44adc18b9595968f7136962',\n",
       "  'luna_id': 'APL00000D1MT7XJWXWQO',\n",
       "  'age': [],\n",
       "  'gender': [],\n",
       "  'adot_profile_feature': '선호 도메인 : 포토<|n|>선호 카테고리 : 없음<|n|>선호 아이템 : 없음<|n|>성별 : 남성<|n|>나이 : 55<|n|>활성 상태 : 휴면<|n|>다중 도메인 성향 : 낮음<|n|>인기 컨텐츠 선호도 : 낮음<|n|>사용성 기준 : 일반유저<|n|>헤비유즈 도메인 : 없음',\n",
       "  'is_adot': True,\n",
       "  'create_at': '2024-05-11',\n",
       "  'preference': '포토',\n",
       "  'preference_level': [],\n",
       "  'adot_status': [],\n",
       "  'multi_domain_tendency': [],\n",
       "  'preference_item': ''},\n",
       " {'svc_mgmt_num': '784488a0cb591b492f30b0ad76dc5efab929c5b8fa3fc2f3c141a566c5ce5e32',\n",
       "  'luna_id': 'APL00000CX8RYE11D88W',\n",
       "  'age': [],\n",
       "  'gender': [],\n",
       "  'adot_profile_feature': '선호 도메인 : 음악<|n|>선호 카테고리 : 음악(장르 : 국내 알앤비, 국내 힙합, 해외 힙합 & 가수 : 후디, 창모, 김성규) <|n|>선호 아이템 : 음악(잠수함 (Submarine), Sunflower (Spider-Man: Into the Spider-Verse), Timid (Feat.창모)) <|n|>성별 : 여성<|n|>나이 : 33<|n|>활성 상태 : 활성<|n|>다중 도메인 성향 : 낮음<|n|>인기 컨텐츠 선호도 : 낮음<|n|>사용성 기준 : 일반유저<|n|>헤비유저인 도메인 : 음악, 퀘스트',\n",
       "  'is_adot': True,\n",
       "  'create_at': '2024-05-11',\n",
       "  'preference': '음악,음악:장르:국내 알앤비, 국내 힙합, 해외 힙합 & 가수:후디, 창모, 김성규',\n",
       "  'preference_level': [],\n",
       "  'adot_status': [],\n",
       "  'multi_domain_tendency': [],\n",
       "  'preference_item': '잠수함 (Submarine), Sunflower (Spider-Man:Into the Spider-Verse), Timid (Feat.창모)'}]"
      ]
     },
     "execution_count": 264,
     "metadata": {},
     "output_type": "execute_result"
    }
   ],
   "source": [
    "samples"
   ]
  },
  {
   "cell_type": "code",
   "execution_count": 68,
   "metadata": {
    "execution": {
     "iopub.execute_input": "2024-06-03T10:06:08.812564Z",
     "iopub.status.busy": "2024-06-03T10:06:08.812129Z",
     "iopub.status.idle": "2024-06-03T10:06:08.815649Z",
     "shell.execute_reply": "2024-06-03T10:06:08.815007Z",
     "shell.execute_reply.started": "2024-06-03T10:06:08.812531Z"
    },
    "tags": []
   },
   "outputs": [],
   "source": [
    "# samples = []\n",
    "# for data in dataset.map(profile_normalize, batched=True, batch_size=100 , remove_columns=['user_vector', 'mno_profile_feature']):\n",
    "#     samples.append(data)\n",
    "#     break"
   ]
  },
  {
   "cell_type": "code",
   "execution_count": null,
   "metadata": {},
   "outputs": [],
   "source": []
  },
  {
   "cell_type": "code",
   "execution_count": 20,
   "metadata": {
    "execution": {
     "iopub.execute_input": "2024-06-03T09:38:37.431360Z",
     "iopub.status.busy": "2024-06-03T09:38:37.430935Z",
     "iopub.status.idle": "2024-06-03T09:38:37.436080Z",
     "shell.execute_reply": "2024-06-03T09:38:37.435328Z",
     "shell.execute_reply.started": "2024-06-03T09:38:37.431326Z"
    },
    "tags": []
   },
   "outputs": [],
   "source": [
    "from collections import defaultdict\n",
    "def profile_normalize(profile:str, delimiter='<|n|>'):\n",
    "        adot_profile = profile[\"adot_profile_feature\"]\n",
    "        adot_profiles = adot_profile.split(delimiter)\n",
    "        adot_profile_dict = dict()"
   ]
  },
  {
   "cell_type": "code",
   "execution_count": 163,
   "metadata": {
    "execution": {
     "iopub.execute_input": "2024-06-03T08:40:37.965123Z",
     "iopub.status.busy": "2024-06-03T08:40:37.964715Z",
     "iopub.status.idle": "2024-06-03T08:40:40.679494Z",
     "shell.execute_reply": "2024-06-03T08:40:40.678673Z",
     "shell.execute_reply.started": "2024-06-03T08:40:37.965093Z"
    },
    "tags": []
   },
   "outputs": [
    {
     "data": {
      "text/plain": [
       "{'preference': '쇼핑: 오픈마켓,해외직구\\n미디어/엔터테인먼트: OTT',\n",
       " 'gender': ['여자'],\n",
       " 'age': ['42세'],\n",
       " 'service_duration': ['11년'],\n",
       " 'days_after_change': ['1355일'],\n",
       " 'mno_status': ['베이직플러스', '고가', 'samsung', 'vip', '가족 결합'],\n",
       " 'plan_price': ['59000원'],\n",
       " 'avg_data_usage': ['13gb']}"
      ]
     },
     "execution_count": 163,
     "metadata": {},
     "output_type": "execute_result"
    }
   ],
   "source": [
    "dict(profile_normalize(next(iter(dataset))))"
   ]
  },
  {
   "cell_type": "code",
   "execution_count": 40,
   "metadata": {
    "execution": {
     "iopub.execute_input": "2024-06-03T07:03:54.641113Z",
     "iopub.status.busy": "2024-06-03T07:03:54.640703Z",
     "iopub.status.idle": "2024-06-03T07:03:54.644728Z",
     "shell.execute_reply": "2024-06-03T07:03:54.643971Z",
     "shell.execute_reply.started": "2024-06-03T07:03:54.641083Z"
    },
    "tags": []
   },
   "outputs": [],
   "source": [
    "adot_profile = data[\"adot_profile_feature\"]\n",
    "adot_profiles = adot_profile.split('<|n|>')"
   ]
  },
  {
   "cell_type": "code",
   "execution_count": 164,
   "metadata": {
    "execution": {
     "iopub.execute_input": "2024-06-03T08:41:48.390431Z",
     "iopub.status.busy": "2024-06-03T08:41:48.389879Z",
     "iopub.status.idle": "2024-06-03T08:41:48.396448Z",
     "shell.execute_reply": "2024-06-03T08:41:48.395466Z",
     "shell.execute_reply.started": "2024-06-03T08:41:48.390394Z"
    },
    "tags": []
   },
   "outputs": [
    {
     "data": {
      "text/plain": [
       "'선호 도메인 : 없음<|n|>선호 카테고리 : 없음<|n|>선호 아이템 : 없음<|n|>성별 : 여성<|n|>나이 : 42<|n|>활성 상태 : 복귀<|n|>다중 도메인 성향 : 없음<|n|>인기 컨텐츠 선호도 : 없음<|n|>사용성 기준 : 라이트유저<|n|>헤비유저인 도메인 : T 서비스'"
      ]
     },
     "execution_count": 164,
     "metadata": {},
     "output_type": "execute_result"
    }
   ],
   "source": [
    "data_list[0]"
   ]
  },
  {
   "cell_type": "code",
   "execution_count": 157,
   "metadata": {
    "execution": {
     "iopub.execute_input": "2024-06-03T08:23:29.403448Z",
     "iopub.status.busy": "2024-06-03T08:23:29.403048Z",
     "iopub.status.idle": "2024-06-03T08:23:29.409081Z",
     "shell.execute_reply": "2024-06-03T08:23:29.408343Z",
     "shell.execute_reply.started": "2024-06-03T08:23:29.403416Z"
    },
    "tags": []
   },
   "outputs": [],
   "source": [
    "preferred_category = set()\n",
    "preferred_item = set()\n",
    "preferred_domain =set()\n",
    "for data in data_list:\n",
    "    preferred_domain.add(data.split('<|n|>')[0])\n",
    "    preferred_category.add(data.split('<|n|>')[1])\n",
    "    preferred_item.add(data.split('<|n|>')[2])\n",
    "    "
   ]
  },
  {
   "cell_type": "code",
   "execution_count": 159,
   "metadata": {
    "execution": {
     "iopub.execute_input": "2024-06-03T08:23:34.447911Z",
     "iopub.status.busy": "2024-06-03T08:23:34.447516Z",
     "iopub.status.idle": "2024-06-03T08:23:34.452840Z",
     "shell.execute_reply": "2024-06-03T08:23:34.452153Z",
     "shell.execute_reply.started": "2024-06-03T08:23:34.447880Z"
    },
    "tags": []
   },
   "outputs": [
    {
     "data": {
      "text/plain": [
       "{'선호 도메인 : 게임, 전화',\n",
       " '선호 도메인 : 날씨',\n",
       " '선호 도메인 : 없음',\n",
       " '선호 도메인 : 운세',\n",
       " '선호 도메인 : 음악',\n",
       " '선호 도메인 : 전화',\n",
       " '선호 도메인 : 포토',\n",
       " '선호 도메인 : 포토, 게임'}"
      ]
     },
     "execution_count": 159,
     "metadata": {},
     "output_type": "execute_result"
    }
   ],
   "source": [
    "preferred_domain"
   ]
  },
  {
   "cell_type": "code",
   "execution_count": 158,
   "metadata": {
    "execution": {
     "iopub.execute_input": "2024-06-03T08:23:30.681030Z",
     "iopub.status.busy": "2024-06-03T08:23:30.680637Z",
     "iopub.status.idle": "2024-06-03T08:23:30.685964Z",
     "shell.execute_reply": "2024-06-03T08:23:30.685279Z",
     "shell.execute_reply.started": "2024-06-03T08:23:30.680999Z"
    },
    "tags": []
   },
   "outputs": [
    {
     "data": {
      "text/plain": [
       "{'선호 카테고리 : 게임(하이퍼캐쥬얼, 심리테스트) ',\n",
       " '선호 카테고리 : 없음',\n",
       " '선호 카테고리 : 음악(장르 : 국내 댄스/일렉, OST/BGM, 국내 팝/어쿠스틱 & 가수 : 르세라핌, 악뮤, (여자)아이들) ',\n",
       " '선호 카테고리 : 음악(장르 : 국내 알앤비, 국내 발라드, 국내 댄스/일렉 & 가수 : 비비, 아이유, 트와이스) ',\n",
       " '선호 카테고리 : 음악(장르 : 해외 팝, 해외 락,  & 가수 : 스콜피온스, 산타나, 신디 로퍼) '}"
      ]
     },
     "execution_count": 158,
     "metadata": {},
     "output_type": "execute_result"
    }
   ],
   "source": [
    "preferred_category"
   ]
  },
  {
   "cell_type": "code",
   "execution_count": 100,
   "metadata": {
    "execution": {
     "iopub.execute_input": "2024-06-03T07:48:30.435637Z",
     "iopub.status.busy": "2024-06-03T07:48:30.435210Z",
     "iopub.status.idle": "2024-06-03T07:48:30.440067Z",
     "shell.execute_reply": "2024-06-03T07:48:30.439470Z",
     "shell.execute_reply.started": "2024-06-03T07:48:30.435606Z"
    },
    "tags": []
   },
   "outputs": [
    {
     "data": {
      "text/plain": [
       "{'선호 아이템 : 게임(미니펫, 스택폴, 진짜 모습 테스트) ',\n",
       " '선호 아이템 : 없음',\n",
       " \"선호 아이템 : 음악(Perfect Night, Love Lee, Turn Up The Sunshine (PNAU Remix / From 'Minions: The Rise of Gru' Soundtrack)) \",\n",
       " '선호 아이템 : 음악(Wind Of Change, Love of My Life (Live), Smooth) ',\n",
       " '선호 아이템 : 음악(밤양갱, Discord, Love wins all) '}"
      ]
     },
     "execution_count": 100,
     "metadata": {},
     "output_type": "execute_result"
    }
   ],
   "source": [
    "preferred_item"
   ]
  },
  {
   "cell_type": "code",
   "execution_count": 30,
   "metadata": {
    "execution": {
     "iopub.execute_input": "2024-06-03T07:01:21.079254Z",
     "iopub.status.busy": "2024-06-03T07:01:21.078771Z",
     "iopub.status.idle": "2024-06-03T07:01:21.088140Z",
     "shell.execute_reply": "2024-06-03T07:01:21.087579Z",
     "shell.execute_reply.started": "2024-06-03T07:01:21.079227Z"
    },
    "tags": []
   },
   "outputs": [
    {
     "data": {
      "text/plain": [
       "{'관심사': 'interests',\n",
       " '성별': 'gender',\n",
       " '나이': 'age',\n",
       " '서비스 사용 기간': 'service_duration',\n",
       " '기변 후 경과일': 'days_after_change',\n",
       " '요금제 이름': 'plan_name',\n",
       " '요금제 가격': 'plan_price',\n",
       " '3개월 평균 데이터 사용량': 'avg_data_usage',\n",
       " '단말기 가격': 'device_price',\n",
       " '단말기 제조사': 'device_manufacturer',\n",
       " '멤버십 등급': 'membership_level',\n",
       " '멤버십 사용 이력': 'membership_history',\n",
       " '가족 결합 이력': 'family_bundle_history',\n",
       " '로밍 사용 이력': 'roaming_history',\n",
       " '세컨디바이스 보유 여부': 'second_device',\n",
       " '소액 및 DCB 결제 이력': 'micropayment_history'}"
      ]
     },
     "execution_count": 30,
     "metadata": {},
     "output_type": "execute_result"
    }
   ],
   "source": [
    "mno_profile_mappings"
   ]
  },
  {
   "cell_type": "code",
   "execution_count": null,
   "metadata": {},
   "outputs": [],
   "source": []
  }
 ],
 "metadata": {
  "kernelspec": {
   "display_name": "Python 3 (ipykernel)",
   "language": "python",
   "name": "python3"
  },
  "language_info": {
   "codemirror_mode": {
    "name": "ipython",
    "version": 3
   },
   "file_extension": ".py",
   "mimetype": "text/x-python",
   "name": "python",
   "nbconvert_exporter": "python",
   "pygments_lexer": "ipython3",
   "version": "3.8.19"
  }
 },
 "nbformat": 4,
 "nbformat_minor": 4
}
