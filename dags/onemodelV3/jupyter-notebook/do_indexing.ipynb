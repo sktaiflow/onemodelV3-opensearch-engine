{
 "cells": [
  {
   "cell_type": "code",
   "execution_count": 1,
   "metadata": {
    "execution": {
     "iopub.execute_input": "2024-06-03T04:32:55.583000Z",
     "iopub.status.busy": "2024-06-03T04:32:55.582471Z",
     "iopub.status.idle": "2024-06-03T04:32:57.604633Z",
     "shell.execute_reply": "2024-06-03T04:32:57.603827Z",
     "shell.execute_reply.started": "2024-06-03T04:32:55.582961Z"
    },
    "tags": []
   },
   "outputs": [],
   "source": [
    "from skt.gcp import (\n",
    "    PROJECT_ID,\n",
    "    bq_insert_overwrite,\n",
    "    bq_to_df,\n",
    "    bq_to_pandas,\n",
    "    get_bigquery_client,\n",
    "    bq_table_exists,\n",
    "    get_max_part,\n",
    "    load_query_result_to_table,\n",
    "    pandas_to_bq,\n",
    "    pandas_to_bq_table,\n",
    "    load_bigquery_ipython_magic,\n",
    "    get_bigquery_client,\n",
    "    _print_query_job_results,\n",
    "    load_query_result_to_partitions\n",
    "    \n",
    ")\n",
    "\n",
    "from skt.ye import (\n",
    "    get_hdfs_conn,\n",
    "    get_spark,\n",
    "    hive_execute,\n",
    "    hive_to_pandas,\n",
    "    pandas_to_parquet,\n",
    "    slack_send\n",
    ")\n",
    "from skt.github_utils import GithubUtil\n",
    "from skt.vault_utils import get_secrets\n"
   ]
  },
  {
   "cell_type": "code",
   "execution_count": 2,
   "metadata": {
    "execution": {
     "iopub.execute_input": "2024-06-03T04:32:57.606507Z",
     "iopub.status.busy": "2024-06-03T04:32:57.605905Z",
     "iopub.status.idle": "2024-06-03T04:32:57.766570Z",
     "shell.execute_reply": "2024-06-03T04:32:57.765672Z",
     "shell.execute_reply.started": "2024-06-03T04:32:57.606471Z"
    },
    "tags": []
   },
   "outputs": [],
   "source": [
    "from datetime import date, datetime, timedelta\n",
    "\n",
    "import numpy as np\n",
    "import pandas as pd\n",
    "import pyarrow.parquet as pq\n",
    "from dateutil.relativedelta import relativedelta\n",
    "from pyhive import hive\n",
    "\n",
    "from copy import deepcopy\n",
    "from joblib import Parallel, delayed\n",
    "import os\n",
    "import sys\n",
    "from git import Repo\n",
    "from contextlib import contextmanager\n",
    "from tqdm.notebook import tqdm\n",
    "import warnings"
   ]
  },
  {
   "cell_type": "code",
   "execution_count": 3,
   "metadata": {
    "execution": {
     "iopub.execute_input": "2024-06-03T04:33:01.212713Z",
     "iopub.status.busy": "2024-06-03T04:33:01.212122Z",
     "iopub.status.idle": "2024-06-03T04:33:01.225109Z",
     "shell.execute_reply": "2024-06-03T04:33:01.224419Z",
     "shell.execute_reply.started": "2024-06-03T04:33:01.212675Z"
    },
    "tags": []
   },
   "outputs": [],
   "source": [
    "secrets = get_secrets('github/sktaiflow')\n",
    "token = secrets['token']\n",
    "\n",
    "proxies = {\n",
    "    'http': secrets['proxy'],\n",
    "    'https': secrets['proxy'],\n",
    "}"
   ]
  },
  {
   "cell_type": "markdown",
   "metadata": {},
   "source": [
    "# Customer func for cloning git modules"
   ]
  },
  {
   "cell_type": "code",
   "execution_count": 4,
   "metadata": {
    "execution": {
     "iopub.execute_input": "2024-06-03T04:33:03.452081Z",
     "iopub.status.busy": "2024-06-03T04:33:03.451521Z",
     "iopub.status.idle": "2024-06-03T04:33:03.456652Z",
     "shell.execute_reply": "2024-06-03T04:33:03.456014Z",
     "shell.execute_reply.started": "2024-06-03T04:33:03.452047Z"
    },
    "tags": []
   },
   "outputs": [],
   "source": [
    "@contextmanager\n",
    "def proxy(proxies):\n",
    "    env_backup = dict(os.environ)\n",
    "    os.environ[\"HTTP_PROXY\"] = proxies[\"http\"]\n",
    "    os.environ[\"HTTPS_PROXY\"] = proxies[\"https\"]\n",
    "    yield\n",
    "    os.environ.clear()\n",
    "    os.environ.update(env_backup)"
   ]
  },
  {
   "cell_type": "code",
   "execution_count": 5,
   "metadata": {
    "execution": {
     "iopub.execute_input": "2024-06-03T04:33:05.731490Z",
     "iopub.status.busy": "2024-06-03T04:33:05.731042Z",
     "iopub.status.idle": "2024-06-03T04:33:05.736063Z",
     "shell.execute_reply": "2024-06-03T04:33:05.735443Z",
     "shell.execute_reply.started": "2024-06-03T04:33:05.731457Z"
    },
    "tags": []
   },
   "outputs": [],
   "source": [
    "def slack_sending(channel_name:str, msg:str=\"test\", is_adot:bool=True):\n",
    "    if \"#\" not  in channel_name:\n",
    "        channel_name += \"#\" + channel_name\n",
    "\n",
    "    slack_send(\n",
    "        text=msg,\n",
    "        username=\"SKT\",\n",
    "        channel=channel_name,\n",
    "        icon_emoji=\":large_blue_circle:\",\n",
    "        blocks=None,\n",
    "        dataframe=False,\n",
    "        adot=is_adot\n",
    "    )\n"
   ]
  },
  {
   "cell_type": "code",
   "execution_count": 6,
   "metadata": {
    "execution": {
     "iopub.execute_input": "2024-06-03T04:33:10.922334Z",
     "iopub.status.busy": "2024-06-03T04:33:10.921878Z",
     "iopub.status.idle": "2024-06-03T04:33:10.928355Z",
     "shell.execute_reply": "2024-06-03T04:33:10.927664Z",
     "shell.execute_reply.started": "2024-06-03T04:33:10.922296Z"
    },
    "tags": []
   },
   "outputs": [],
   "source": [
    "class GithubUtil_custom(GithubUtil):\n",
    "    def __init__(self, token, proxies, **kwargs):\n",
    "        super().__init__(token, proxies)\n",
    "    \n",
    "    def clone_from_repo(self, git_url, branch=\"main\", git_save_path=\"/temp\"):\n",
    "        try:\n",
    "            if self._proxies:\n",
    "                with proxy(self._proxies):\n",
    "                    response = Repo.clone_from(git_url, git_save_path, branch=branch)\n",
    "                    return response\n",
    "            else:\n",
    "                msg = f\"proxy must be passed\"\n",
    "                raise Exception(msg)    \n",
    "        except Exception as e:\n",
    "            msg = f\"cloning git repo:{git_url} branch:{branch} failed {e}\"\n",
    "            slack_sending(msg=msg, channel_name=channel_name, is_adot=True)\n",
    "            raise Exception(msg)"
   ]
  },
  {
   "cell_type": "code",
   "execution_count": 9,
   "metadata": {
    "execution": {
     "iopub.execute_input": "2024-06-03T05:05:30.225023Z",
     "iopub.status.busy": "2024-06-03T05:05:30.224581Z",
     "iopub.status.idle": "2024-06-03T05:05:30.228550Z",
     "shell.execute_reply": "2024-06-03T05:05:30.227912Z",
     "shell.execute_reply.started": "2024-06-03T05:05:30.224988Z"
    },
    "tags": []
   },
   "outputs": [],
   "source": [
    "git_url ='https://github.com/sktaiflow/onemodelV3-opensearch-engine.git'\n",
    "branch = 'develop'\n",
    "git_save_path = '/home/x1112436/shared/1112436/git'"
   ]
  },
  {
   "cell_type": "code",
   "execution_count": 12,
   "metadata": {
    "execution": {
     "iopub.execute_input": "2024-06-03T05:06:34.562004Z",
     "iopub.status.busy": "2024-06-03T05:06:34.561512Z",
     "iopub.status.idle": "2024-06-03T05:06:34.567107Z",
     "shell.execute_reply": "2024-06-03T05:06:34.566432Z",
     "shell.execute_reply.started": "2024-06-03T05:06:34.561937Z"
    },
    "tags": []
   },
   "outputs": [],
   "source": [
    "gitobj= GithubUtil_custom(token=token, proxies=proxies)"
   ]
  },
  {
   "cell_type": "code",
   "execution_count": 13,
   "metadata": {
    "execution": {
     "iopub.execute_input": "2024-06-03T05:06:37.938339Z",
     "iopub.status.busy": "2024-06-03T05:06:37.937876Z",
     "iopub.status.idle": "2024-06-03T05:06:40.136204Z",
     "shell.execute_reply": "2024-06-03T05:06:40.135315Z",
     "shell.execute_reply.started": "2024-06-03T05:06:37.938305Z"
    },
    "tags": []
   },
   "outputs": [],
   "source": [
    "response = gitobj.clone_from_repo(git_url=git_url, branch=branch, git_save_path=git_save_path)"
   ]
  },
  {
   "cell_type": "code",
   "execution_count": 14,
   "metadata": {
    "execution": {
     "iopub.execute_input": "2024-06-03T05:07:35.912486Z",
     "iopub.status.busy": "2024-06-03T05:07:35.912045Z",
     "iopub.status.idle": "2024-06-03T05:07:35.916240Z",
     "shell.execute_reply": "2024-06-03T05:07:35.915632Z",
     "shell.execute_reply.started": "2024-06-03T05:07:35.912452Z"
    },
    "tags": []
   },
   "outputs": [],
   "source": [
    "module_path = os.path.join(git_save_path, \"dags\")\n",
    "sys.path.append(module_path)"
   ]
  },
  {
   "cell_type": "code",
   "execution_count": 15,
   "metadata": {
    "execution": {
     "iopub.execute_input": "2024-06-03T05:07:47.830862Z",
     "iopub.status.busy": "2024-06-03T05:07:47.830087Z",
     "iopub.status.idle": "2024-06-03T05:07:47.921266Z",
     "shell.execute_reply": "2024-06-03T05:07:47.920436Z",
     "shell.execute_reply.started": "2024-06-03T05:07:47.830821Z"
    },
    "tags": []
   },
   "outputs": [
    {
     "ename": "ModuleNotFoundError",
     "evalue": "No module named 'datasets'",
     "output_type": "error",
     "traceback": [
      "\u001b[0;31m---------------------------------------------------------------------------\u001b[0m",
      "\u001b[0;31mModuleNotFoundError\u001b[0m                       Traceback (most recent call last)",
      "Cell \u001b[0;32mIn[15], line 2\u001b[0m\n\u001b[1;32m      1\u001b[0m \u001b[38;5;66;03m## import from module\u001b[39;00m\n\u001b[0;32m----> 2\u001b[0m \u001b[38;5;28;01mfrom\u001b[39;00m \u001b[38;5;21;01monemodelV3\u001b[39;00m\u001b[38;5;21;01m.\u001b[39;00m\u001b[38;5;21;01mopensearch_engine\u001b[39;00m\u001b[38;5;21;01m.\u001b[39;00m\u001b[38;5;21;01mindexing_engine\u001b[39;00m\u001b[38;5;21;01m.\u001b[39;00m\u001b[38;5;21;01mpreprocessor\u001b[39;00m \u001b[38;5;28;01mimport\u001b[39;00m OpensearchPreprocessor\n\u001b[1;32m      3\u001b[0m \u001b[38;5;28;01mfrom\u001b[39;00m \u001b[38;5;21;01monemodelV3\u001b[39;00m\u001b[38;5;21;01m.\u001b[39;00m\u001b[38;5;21;01mopensearch_engine\u001b[39;00m\u001b[38;5;21;01m.\u001b[39;00m\u001b[38;5;21;01mindexing_engine\u001b[39;00m\u001b[38;5;21;01m.\u001b[39;00m\u001b[38;5;21;01mfunc\u001b[39;00m \u001b[38;5;28;01mimport\u001b[39;00m \u001b[38;5;241m*\u001b[39m\n",
      "File \u001b[0;32m~/shared/1112436/git/dags/onemodelV3/opensearch_engine/indexing_engine/preprocessor.py:18\u001b[0m\n\u001b[1;32m     13\u001b[0m \u001b[38;5;28;01mimport\u001b[39;00m \u001b[38;5;21;01mos\u001b[39;00m\n\u001b[1;32m     14\u001b[0m \u001b[38;5;28;01mfrom\u001b[39;00m \u001b[38;5;21;01mtorch\u001b[39;00m\u001b[38;5;21;01m.\u001b[39;00m\u001b[38;5;21;01mutils\u001b[39;00m\u001b[38;5;21;01m.\u001b[39;00m\u001b[38;5;21;01mdata\u001b[39;00m \u001b[38;5;28;01mimport\u001b[39;00m (\n\u001b[1;32m     15\u001b[0m     IterableDataset, \n\u001b[1;32m     16\u001b[0m     Dataset\n\u001b[1;32m     17\u001b[0m )\n\u001b[0;32m---> 18\u001b[0m \u001b[38;5;28;01mfrom\u001b[39;00m \u001b[38;5;21;01mdatasets\u001b[39;00m \u001b[38;5;28;01mimport\u001b[39;00m (\n\u001b[1;32m     19\u001b[0m     load_dataset, \n\u001b[1;32m     20\u001b[0m     Dataset, \n\u001b[1;32m     21\u001b[0m     DatasetDict,\n\u001b[1;32m     22\u001b[0m     IterableDatasetDict\n\u001b[1;32m     23\u001b[0m )\n\u001b[1;32m     24\u001b[0m \u001b[38;5;28;01mfrom\u001b[39;00m \u001b[38;5;21;01mpydantic\u001b[39;00m \u001b[38;5;28;01mimport\u001b[39;00m BaseModel, ValidationError\n\u001b[1;32m     27\u001b[0m \u001b[38;5;28;01mfrom\u001b[39;00m \u001b[38;5;21;01mdags\u001b[39;00m\u001b[38;5;21;01m.\u001b[39;00m\u001b[38;5;21;01monemodelV3\u001b[39;00m\u001b[38;5;21;01m.\u001b[39;00m\u001b[38;5;21;01mopensearch_engine\u001b[39;00m\u001b[38;5;21;01m.\u001b[39;00m\u001b[38;5;21;01mindexing_engine\u001b[39;00m\u001b[38;5;21;01m.\u001b[39;00m\u001b[38;5;21;01mopensearch_schema\u001b[39;00m \u001b[38;5;28;01mimport\u001b[39;00m IndexingSchema\n",
      "\u001b[0;31mModuleNotFoundError\u001b[0m: No module named 'datasets'"
     ]
    }
   ],
   "source": [
    "## import from module\n",
    "from onemodelV3.opensearch_engine.indexing_engine.preprocessor import OpensearchPreprocessor\n",
    "from onemodelV3.opensearch_engine.indexing_engine.func import *"
   ]
  },
  {
   "cell_type": "code",
   "execution_count": null,
   "metadata": {},
   "outputs": [],
   "source": [
    "# get file list\n",
    "def get_gzip_files(directory='./temp/indexing/input'):\n",
    "    from pathlib import Path\n",
    "    gzip_files = []\n",
    "    for root, dirs, files in os.walk(directory):\n",
    "        for file in files:\n",
    "            if file.endswith(\".gzip\"):\n",
    "                file_path = os.path.join(root, file)\n",
    "                gzip_files.append(file_path)\n",
    "\n",
    "    return gzip_files\n",
    "\n",
    "file_list = get_gzip_files()"
   ]
  },
  {
   "cell_type": "code",
   "execution_count": null,
   "metadata": {},
   "outputs": [],
   "source": [
    "for file in file_list:\n",
    "    dataset = OpensearchPreprocessor.load(file)"
   ]
  }
 ],
 "metadata": {
  "kernelspec": {
   "display_name": "Python 3 (ipykernel)",
   "language": "python",
   "name": "python3"
  },
  "language_info": {
   "codemirror_mode": {
    "name": "ipython",
    "version": 3
   },
   "file_extension": ".py",
   "mimetype": "text/x-python",
   "name": "python",
   "nbconvert_exporter": "python",
   "pygments_lexer": "ipython3",
   "version": "3.8.19"
  }
 },
 "nbformat": 4,
 "nbformat_minor": 4
}
