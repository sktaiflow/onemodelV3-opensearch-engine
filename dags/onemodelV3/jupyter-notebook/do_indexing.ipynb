{
 "cells": [
  {
   "cell_type": "code",
   "execution_count": 1,
   "metadata": {
    "execution": {
     "iopub.execute_input": "2024-06-03T09:45:38.884509Z",
     "iopub.status.busy": "2024-06-03T09:45:38.884123Z",
     "iopub.status.idle": "2024-06-03T09:45:40.424516Z",
     "shell.execute_reply": "2024-06-03T09:45:40.423680Z",
     "shell.execute_reply.started": "2024-06-03T09:45:38.884475Z"
    },
    "tags": []
   },
   "outputs": [],
   "source": [
    "from skt.gcp import (\n",
    "    PROJECT_ID,\n",
    "    bq_insert_overwrite,\n",
    "    bq_to_df,\n",
    "    bq_to_pandas,\n",
    "    get_bigquery_client,\n",
    "    bq_table_exists,\n",
    "    get_max_part,\n",
    "    load_query_result_to_table,\n",
    "    pandas_to_bq,\n",
    "    pandas_to_bq_table,\n",
    "    load_bigquery_ipython_magic,\n",
    "    get_bigquery_client,\n",
    "    _print_query_job_results,\n",
    "    load_query_result_to_partitions\n",
    "    \n",
    ")\n",
    "\n",
    "from skt.ye import (\n",
    "    get_hdfs_conn,\n",
    "    get_spark,\n",
    "    hive_execute,\n",
    "    hive_to_pandas,\n",
    "    pandas_to_parquet,\n",
    "    slack_send\n",
    ")\n",
    "from skt.github_utils import GithubUtil\n",
    "from skt.vault_utils import get_secrets\n"
   ]
  },
  {
   "cell_type": "code",
   "execution_count": 2,
   "metadata": {
    "execution": {
     "iopub.execute_input": "2024-06-03T09:45:40.426587Z",
     "iopub.status.busy": "2024-06-03T09:45:40.426058Z",
     "iopub.status.idle": "2024-06-03T09:45:40.545463Z",
     "shell.execute_reply": "2024-06-03T09:45:40.544565Z",
     "shell.execute_reply.started": "2024-06-03T09:45:40.426552Z"
    },
    "tags": []
   },
   "outputs": [],
   "source": [
    "from datetime import date, datetime, timedelta\n",
    "\n",
    "import numpy as np\n",
    "import pandas as pd\n",
    "import pyarrow.parquet as pq\n",
    "from dateutil.relativedelta import relativedelta\n",
    "from pyhive import hive\n",
    "\n",
    "from copy import deepcopy\n",
    "from joblib import Parallel, delayed\n",
    "import os\n",
    "import sys\n",
    "from git import Repo\n",
    "from contextlib import contextmanager\n",
    "from tqdm.notebook import tqdm\n",
    "import warnings"
   ]
  },
  {
   "cell_type": "code",
   "execution_count": 3,
   "metadata": {
    "execution": {
     "iopub.execute_input": "2024-06-03T09:45:40.547023Z",
     "iopub.status.busy": "2024-06-03T09:45:40.546665Z",
     "iopub.status.idle": "2024-06-03T09:45:40.559923Z",
     "shell.execute_reply": "2024-06-03T09:45:40.559082Z",
     "shell.execute_reply.started": "2024-06-03T09:45:40.546990Z"
    },
    "tags": []
   },
   "outputs": [],
   "source": [
    "secrets = get_secrets('github/sktaiflow')\n",
    "token = secrets['token']\n",
    "\n",
    "proxies = {\n",
    "    'http': secrets['proxy'],\n",
    "    'https': secrets['proxy'],\n",
    "}"
   ]
  },
  {
   "cell_type": "markdown",
   "metadata": {},
   "source": [
    "# Customer func for cloning git modules"
   ]
  },
  {
   "cell_type": "code",
   "execution_count": 4,
   "metadata": {
    "execution": {
     "iopub.execute_input": "2024-06-03T09:45:40.568931Z",
     "iopub.status.busy": "2024-06-03T09:45:40.568695Z",
     "iopub.status.idle": "2024-06-03T09:45:40.573071Z",
     "shell.execute_reply": "2024-06-03T09:45:40.572402Z",
     "shell.execute_reply.started": "2024-06-03T09:45:40.568903Z"
    },
    "tags": []
   },
   "outputs": [],
   "source": [
    "@contextmanager\n",
    "def proxy(proxies):\n",
    "    env_backup = dict(os.environ)\n",
    "    os.environ[\"HTTP_PROXY\"] = proxies[\"http\"]\n",
    "    os.environ[\"HTTPS_PROXY\"] = proxies[\"https\"]\n",
    "    yield\n",
    "    os.environ.clear()\n",
    "    os.environ.update(env_backup)"
   ]
  },
  {
   "cell_type": "code",
   "execution_count": 5,
   "metadata": {
    "execution": {
     "iopub.execute_input": "2024-06-03T09:45:40.574408Z",
     "iopub.status.busy": "2024-06-03T09:45:40.573997Z",
     "iopub.status.idle": "2024-06-03T09:45:40.583274Z",
     "shell.execute_reply": "2024-06-03T09:45:40.582611Z",
     "shell.execute_reply.started": "2024-06-03T09:45:40.574379Z"
    },
    "tags": []
   },
   "outputs": [],
   "source": [
    "def slack_sending(channel_name:str, msg:str=\"test\", is_adot:bool=True):\n",
    "    if \"#\" not  in channel_name:\n",
    "        channel_name += \"#\" + channel_name\n",
    "\n",
    "    slack_send(\n",
    "        text=msg,\n",
    "        username=\"SKT\",\n",
    "        channel=channel_name,\n",
    "        icon_emoji=\":large_blue_circle:\",\n",
    "        blocks=None,\n",
    "        dataframe=False,\n",
    "        adot=is_adot\n",
    "    )\n"
   ]
  },
  {
   "cell_type": "code",
   "execution_count": 6,
   "metadata": {
    "execution": {
     "iopub.execute_input": "2024-06-03T09:45:40.584640Z",
     "iopub.status.busy": "2024-06-03T09:45:40.584222Z",
     "iopub.status.idle": "2024-06-03T09:45:40.594923Z",
     "shell.execute_reply": "2024-06-03T09:45:40.594241Z",
     "shell.execute_reply.started": "2024-06-03T09:45:40.584610Z"
    },
    "tags": []
   },
   "outputs": [],
   "source": [
    "class GithubUtil_custom(GithubUtil):\n",
    "    def __init__(self, token, proxies, **kwargs):\n",
    "        super().__init__(token, proxies)\n",
    "    \n",
    "    def clone_from_repo(self, git_url, branch=\"main\", git_save_path=\"/temp\"):\n",
    "        try:\n",
    "            if self._proxies:\n",
    "                with proxy(self._proxies):\n",
    "                    response = Repo.clone_from(git_url, git_save_path, branch=branch)\n",
    "                    return {\"code\": \"200\", \"response\": response}\n",
    "            else:\n",
    "                msg = f\"proxy must be passed\"\n",
    "                raise Exception(msg)    \n",
    "        except Exception as e:\n",
    "            msg = f\"cloning git repo:{git_url} branch:{branch} failed {e}\"\n",
    "            slack_sending(msg=msg, channel_name=channel_name, is_adot=True)\n",
    "            raise Exception(msg)"
   ]
  },
  {
   "cell_type": "code",
   "execution_count": 7,
   "metadata": {
    "execution": {
     "iopub.execute_input": "2024-06-03T09:45:40.596232Z",
     "iopub.status.busy": "2024-06-03T09:45:40.595990Z",
     "iopub.status.idle": "2024-06-03T09:45:40.604400Z",
     "shell.execute_reply": "2024-06-03T09:45:40.603707Z",
     "shell.execute_reply.started": "2024-06-03T09:45:40.596206Z"
    },
    "tags": []
   },
   "outputs": [],
   "source": [
    "git_url ='https://github.com/sktaiflow/onemodelV3-opensearch-engine.git'\n",
    "branch = 'develop'\n",
    "git_save_path = '/home/x1112436/shared/1112436/git'"
   ]
  },
  {
   "cell_type": "code",
   "execution_count": 8,
   "metadata": {
    "execution": {
     "iopub.execute_input": "2024-06-03T09:45:40.605899Z",
     "iopub.status.busy": "2024-06-03T09:45:40.605284Z",
     "iopub.status.idle": "2024-06-03T09:45:41.471914Z",
     "shell.execute_reply": "2024-06-03T09:45:41.471077Z",
     "shell.execute_reply.started": "2024-06-03T09:45:40.605869Z"
    },
    "tags": []
   },
   "outputs": [],
   "source": [
    "import shutil\n",
    "shutil.rmtree(git_save_path)\n",
    "os.makedirs(git_save_path, exist_ok=True)"
   ]
  },
  {
   "cell_type": "code",
   "execution_count": 9,
   "metadata": {
    "execution": {
     "iopub.execute_input": "2024-06-03T09:45:41.473420Z",
     "iopub.status.busy": "2024-06-03T09:45:41.473024Z",
     "iopub.status.idle": "2024-06-03T09:45:41.476895Z",
     "shell.execute_reply": "2024-06-03T09:45:41.476211Z",
     "shell.execute_reply.started": "2024-06-03T09:45:41.473387Z"
    },
    "tags": []
   },
   "outputs": [],
   "source": [
    "gitobj= GithubUtil_custom(token=token, proxies=proxies)"
   ]
  },
  {
   "cell_type": "code",
   "execution_count": 10,
   "metadata": {
    "execution": {
     "iopub.execute_input": "2024-06-03T09:45:41.478366Z",
     "iopub.status.busy": "2024-06-03T09:45:41.478094Z",
     "iopub.status.idle": "2024-06-03T09:45:45.777495Z",
     "shell.execute_reply": "2024-06-03T09:45:45.776509Z",
     "shell.execute_reply.started": "2024-06-03T09:45:41.478339Z"
    },
    "tags": []
   },
   "outputs": [],
   "source": [
    "response = gitobj.clone_from_repo(git_url=git_url, branch=branch, git_save_path=git_save_path)"
   ]
  },
  {
   "cell_type": "code",
   "execution_count": 11,
   "metadata": {
    "execution": {
     "iopub.execute_input": "2024-06-03T09:45:45.781298Z",
     "iopub.status.busy": "2024-06-03T09:45:45.780859Z",
     "iopub.status.idle": "2024-06-03T09:45:45.785346Z",
     "shell.execute_reply": "2024-06-03T09:45:45.784651Z",
     "shell.execute_reply.started": "2024-06-03T09:45:45.781255Z"
    },
    "tags": []
   },
   "outputs": [],
   "source": [
    "module_path = os.path.join(git_save_path, \"dags\")\n",
    "sys.path.append(module_path)\n",
    "sys.path.append(git_save_path)"
   ]
  },
  {
   "cell_type": "code",
   "execution_count": 12,
   "metadata": {
    "execution": {
     "iopub.execute_input": "2024-06-03T09:45:45.786691Z",
     "iopub.status.busy": "2024-06-03T09:45:45.786254Z",
     "iopub.status.idle": "2024-06-03T09:45:45.797790Z",
     "shell.execute_reply": "2024-06-03T09:45:45.797116Z",
     "shell.execute_reply.started": "2024-06-03T09:45:45.786661Z"
    },
    "tags": []
   },
   "outputs": [],
   "source": [
    "#!pip install datasets==2.19.1\n",
    "#!pip install pydantic==2.7.1\n",
    "#!pip install loguru==0.7.2\n"
   ]
  },
  {
   "cell_type": "code",
   "execution_count": 13,
   "metadata": {
    "execution": {
     "iopub.execute_input": "2024-06-03T09:45:45.799126Z",
     "iopub.status.busy": "2024-06-03T09:45:45.798712Z",
     "iopub.status.idle": "2024-06-03T09:45:48.746129Z",
     "shell.execute_reply": "2024-06-03T09:45:48.745257Z",
     "shell.execute_reply.started": "2024-06-03T09:45:45.799097Z"
    },
    "tags": []
   },
   "outputs": [
    {
     "name": "stderr",
     "output_type": "stream",
     "text": [
      "/usr/local/lib/python3.8/site-packages/pydantic/_internal/_fields.py:160: UserWarning: Field \"model_version\" has conflict with protected namespace \"model_\".\n",
      "\n",
      "You may be able to resolve this warning by setting `model_config['protected_namespaces'] = ()`.\n",
      "  warnings.warn(\n"
     ]
    }
   ],
   "source": [
    "## import from module\n",
    "from onemodelV3.opensearch_engine.indexing_engine.preprocessor import OpensearchPreprocessor\n",
    "from onemodelV3.opensearch_engine.indexing_engine.func import *"
   ]
  },
  {
   "cell_type": "code",
   "execution_count": 14,
   "metadata": {
    "execution": {
     "iopub.execute_input": "2024-06-03T09:45:48.747913Z",
     "iopub.status.busy": "2024-06-03T09:45:48.747310Z",
     "iopub.status.idle": "2024-06-03T09:45:48.753969Z",
     "shell.execute_reply": "2024-06-03T09:45:48.753298Z",
     "shell.execute_reply.started": "2024-06-03T09:45:48.747880Z"
    },
    "tags": []
   },
   "outputs": [],
   "source": [
    "# get file list\n",
    "def get_gzip_files(directory='./temp/indexing/input'):\n",
    "    from pathlib import Path\n",
    "    gzip_files = []\n",
    "    for root, dirs, files in os.walk(directory):\n",
    "        for file in files:\n",
    "            if file.endswith(\".gzip\"):\n",
    "                file_path = os.path.join(root, file)\n",
    "                gzip_files.append(file_path)\n",
    "\n",
    "    return gzip_files\n",
    "\n",
    "file_list = get_gzip_files(directory=\"/home/x1112436/shared/1112436/indexing_data\")"
   ]
  },
  {
   "cell_type": "code",
   "execution_count": 15,
   "metadata": {
    "execution": {
     "iopub.execute_input": "2024-06-03T09:45:48.755366Z",
     "iopub.status.busy": "2024-06-03T09:45:48.754908Z",
     "iopub.status.idle": "2024-06-03T09:45:48.768508Z",
     "shell.execute_reply": "2024-06-03T09:45:48.767854Z",
     "shell.execute_reply.started": "2024-06-03T09:45:48.755336Z"
    },
    "tags": []
   },
   "outputs": [
    {
     "data": {
      "text/plain": [
       "'/home/x1112436/shared/1112436/indexing_data/emb_result_25.parquet.gzip'"
      ]
     },
     "execution_count": 15,
     "metadata": {},
     "output_type": "execute_result"
    }
   ],
   "source": [
    "file_list[0]"
   ]
  },
  {
   "cell_type": "code",
   "execution_count": 16,
   "metadata": {
    "execution": {
     "iopub.execute_input": "2024-06-03T09:45:48.769949Z",
     "iopub.status.busy": "2024-06-03T09:45:48.769429Z",
     "iopub.status.idle": "2024-06-03T09:45:48.782067Z",
     "shell.execute_reply": "2024-06-03T09:45:48.781399Z",
     "shell.execute_reply.started": "2024-06-03T09:45:48.769919Z"
    },
    "tags": []
   },
   "outputs": [],
   "source": [
    "from onemodelV3.opensearch_engine.indexing_engine.preprocessor import AbstractPreprocessor\n",
    "from typing import List, Union\n",
    "from datasets import (\n",
    "    load_dataset, \n",
    "    Dataset, \n",
    "    DatasetDict,\n",
    "    IterableDatasetDict\n",
    ")\n",
    "from torch.utils.data import (\n",
    "    IterableDataset, \n",
    "    Dataset\n",
    ")\n",
    "class OpensearchPreprocessor(AbstractPreprocessor):\n",
    "    index_name = \"onemodelV3\"\n",
    "    \n",
    "    def __init__(self, args, **kwargs):        \n",
    "        super().__init__(args)\n",
    "    \n",
    "    @classmethod\n",
    "    def load(cls, file_path:Union[str, List], split:str=None, keep_in_memory:bool=True, is_cache:bool=True) -> IterableDataset:        \n",
    "        stream = True\n",
    "        dataset = super(OpensearchPreprocessor, cls).load(\n",
    "                file_path=file_path, \n",
    "                split=split, \n",
    "                stream=stream, \n",
    "                keep_in_memory=keep_in_memory,\n",
    "                is_cache=is_cache\n",
    "        )\n",
    "        return dataset\n",
    "        "
   ]
  },
  {
   "cell_type": "code",
   "execution_count": 17,
   "metadata": {
    "execution": {
     "iopub.execute_input": "2024-06-03T09:45:48.783397Z",
     "iopub.status.busy": "2024-06-03T09:45:48.782967Z",
     "iopub.status.idle": "2024-06-03T09:45:48.793745Z",
     "shell.execute_reply": "2024-06-03T09:45:48.793085Z",
     "shell.execute_reply.started": "2024-06-03T09:45:48.783368Z"
    },
    "tags": []
   },
   "outputs": [],
   "source": [
    "data = file_list[0]"
   ]
  },
  {
   "cell_type": "code",
   "execution_count": 18,
   "metadata": {
    "execution": {
     "iopub.execute_input": "2024-06-03T09:45:48.796812Z",
     "iopub.status.busy": "2024-06-03T09:45:48.796585Z",
     "iopub.status.idle": "2024-06-03T09:45:49.084065Z",
     "shell.execute_reply": "2024-06-03T09:45:49.083051Z",
     "shell.execute_reply.started": "2024-06-03T09:45:48.796786Z"
    },
    "tags": []
   },
   "outputs": [],
   "source": [
    "dataset = OpensearchPreprocessor.load(data)"
   ]
  },
  {
   "cell_type": "code",
   "execution_count": 19,
   "metadata": {
    "execution": {
     "iopub.execute_input": "2024-06-03T09:45:49.086236Z",
     "iopub.status.busy": "2024-06-03T09:45:49.085527Z",
     "iopub.status.idle": "2024-06-03T09:47:22.060003Z",
     "shell.execute_reply": "2024-06-03T09:47:22.058770Z",
     "shell.execute_reply.started": "2024-06-03T09:45:49.086186Z"
    },
    "tags": []
   },
   "outputs": [],
   "source": [
    "data_list = []\n",
    "for i, data in enumerate(dataset):\n",
    "    data_list.append(data['adot_profile_feature'])    "
   ]
  },
  {
   "cell_type": "code",
   "execution_count": 20,
   "metadata": {
    "execution": {
     "iopub.execute_input": "2024-06-03T09:47:22.062068Z",
     "iopub.status.busy": "2024-06-03T09:47:22.061600Z",
     "iopub.status.idle": "2024-06-03T09:47:22.065975Z",
     "shell.execute_reply": "2024-06-03T09:47:22.065269Z",
     "shell.execute_reply.started": "2024-06-03T09:47:22.062032Z"
    },
    "tags": []
   },
   "outputs": [],
   "source": [
    "#data = [datum next(iter(dataset))"
   ]
  },
  {
   "cell_type": "code",
   "execution_count": 21,
   "metadata": {
    "execution": {
     "iopub.execute_input": "2024-06-03T09:47:22.067466Z",
     "iopub.status.busy": "2024-06-03T09:47:22.066928Z",
     "iopub.status.idle": "2024-06-03T09:47:22.080972Z",
     "shell.execute_reply": "2024-06-03T09:47:22.080296Z",
     "shell.execute_reply.started": "2024-06-03T09:47:22.067435Z"
    },
    "tags": []
   },
   "outputs": [],
   "source": [
    "from dags.onemodelV3.opensearch_engine.mapper import (\n",
    "    MNO_DEFAULT_VALUES, \n",
    "    MnoprofileKeys, \n",
    "    mno_select_default_value, \n",
    "    mno_profile_mappings,\n",
    "    new_mno_profile_mappings,\n",
    "    ADOT_DEFAULT_VALUES,\n",
    "    AdotprofileKeys,\n",
    "    adot_select_default_value,\n",
    "    adot_profile_mappings,\n",
    "    new_adot_profile_mappings\n",
    ")"
   ]
  },
  {
   "cell_type": "code",
   "execution_count": 22,
   "metadata": {
    "execution": {
     "iopub.execute_input": "2024-06-03T09:47:22.082586Z",
     "iopub.status.busy": "2024-06-03T09:47:22.082132Z",
     "iopub.status.idle": "2024-06-03T09:47:22.099132Z",
     "shell.execute_reply": "2024-06-03T09:47:22.098401Z",
     "shell.execute_reply.started": "2024-06-03T09:47:22.082557Z"
    },
    "tags": []
   },
   "outputs": [],
   "source": [
    "from collections import defaultdict\n",
    "def profile_normalize(profile:str, delimiter='<|n|>'):\n",
    "        \"\"\"성별, 나이\"\"\"\n",
    "        mno_profile = profile[\"mno_profile_feature\"]\n",
    "        adot_profile = profile[\"adot_profile_feature\"]\n",
    "        ##\n",
    "\n",
    "        mno_profiles = mno_profile.split(delimiter)\n",
    "        mno_profile_dict = dict()\n",
    "        for profile in mno_profiles:\n",
    "            key, val = profile.split(':')\n",
    "            null_values = mno_profile_mappings[key]\n",
    "            if val in select_default_value(field_name=null_values):\n",
    "                continue\n",
    "            elif val.strip() ==\"있음\":\n",
    "                mno_profile_dict[key] = key.split(\"이력\")[0].strip()\n",
    "            else:\n",
    "                mno_profile_dict[key] = val\n",
    "\n",
    "        mno_template_dict = defaultdict(list)\n",
    "        for key, val in new_mno_profile_mappings.items():\n",
    "            mno_template_dict[val] = []\n",
    "\n",
    "        for key, val in mno_profile_dict.items():\n",
    "            new_feature = new_mno_profile_mappings[key]\n",
    "            mno_template_dict[new_feature].append(val)\n",
    "        \n",
    "        mno_preferences = mno_template_dict.get('preference', [])\n",
    "        mno_preference_template = ''\n",
    "        if mno_preferences:\n",
    "            mno_preference_dict = defaultdict(set)\n",
    "            mno_preference = mno_preferences[0]\n",
    "            mnopreference_list = mno_preference.split(',')\n",
    "            for mno_prefernce in mnopreference_list:\n",
    "                split_mno_preference = mno_prefernce.split('_')\n",
    "                if len(split_mno_preference) == 2:\n",
    "                    upper_cate, lower_cate = split_mno_preference\n",
    "                else:\n",
    "                    upper_cate = split_mno_preference[0]\n",
    "                mno_preference_dict[upper_cate].add(lower_cate)\n",
    "                \n",
    "            for key, val in mno_preference_dict.items():\n",
    "                val_str = ','.join(val)\n",
    "                if mno_preference_template == '': mno_preference_template = f\"{key}: {val_str}\"\n",
    "                else: mno_preference_template += '\\n' + f\"{key}: {val_str}\"\n",
    "        else:\n",
    "            mno_preference_template = ''\n",
    "        mno_template_dict['preference'] = mno_preference_template\n",
    "        return mno_template_dict"
   ]
  },
  {
   "cell_type": "code",
   "execution_count": 29,
   "metadata": {
    "execution": {
     "iopub.execute_input": "2024-06-03T09:49:32.034089Z",
     "iopub.status.busy": "2024-06-03T09:49:32.033581Z",
     "iopub.status.idle": "2024-06-03T09:49:32.038425Z",
     "shell.execute_reply": "2024-06-03T09:49:32.037784Z",
     "shell.execute_reply.started": "2024-06-03T09:49:32.034053Z"
    },
    "tags": []
   },
   "outputs": [],
   "source": [
    "new_adot_profile_mappings = {\n",
    "    '선호 도메인': 'preference',\n",
    "    '성별': 'gender',\n",
    "    '나이': 'age',\n",
    "    '선호 아이템': 'preference',\n",
    "    '선호 카테고리': 'preference',\n",
    "    '인기 컨텐츠 선호도': 'preference',\n",
    "    '사용성 기준': 'adot_status',\n",
    "    '활성 상태':'adot_status',\n",
    "    '다중 도메인 성향': 'multi_domain_tendency',\n",
    "}"
   ]
  },
  {
   "cell_type": "code",
   "execution_count": 112,
   "metadata": {
    "execution": {
     "iopub.execute_input": "2024-06-03T10:27:46.800333Z",
     "iopub.status.busy": "2024-06-03T10:27:46.799464Z",
     "iopub.status.idle": "2024-06-03T10:27:46.803560Z",
     "shell.execute_reply": "2024-06-03T10:27:46.802909Z",
     "shell.execute_reply.started": "2024-06-03T10:27:46.800289Z"
    },
    "tags": []
   },
   "outputs": [],
   "source": [
    "pattern = r\"선호 (?P<entity>\\w+)\\s?:\\s?(?P<item>.*?)\\((?P<metadata>.*?)\\)\"\n"
   ]
  },
  {
   "cell_type": "code",
   "execution_count": 113,
   "metadata": {
    "execution": {
     "iopub.execute_input": "2024-06-03T10:45:34.591097Z",
     "iopub.status.busy": "2024-06-03T10:45:34.590605Z",
     "iopub.status.idle": "2024-06-03T10:45:34.598962Z",
     "shell.execute_reply": "2024-06-03T10:45:34.598319Z",
     "shell.execute_reply.started": "2024-06-03T10:45:34.591062Z"
    },
    "tags": []
   },
   "outputs": [],
   "source": [
    "from collections import defaultdict\n",
    "import re\n",
    "def profile_normalize(profile:str, delimiter='<|n|>'):\n",
    "        \"\"\"성별, 나이\"\"\"\n",
    "        adot_profile = profile[\"adot_profile_feature\"]\n",
    "        adot_profiles = adot_profile.split(delimiter)\n",
    "\n",
    "        adot_profile_dict = dict()\n",
    "        for profile in adot_profiles:\n",
    "            match = re.search(pattern, row)\n",
    "            key, val = profile.split(':')\n",
    "            key = key.strip()\n",
    "            val = val.strip()\n",
    "            try:\n",
    "                null_values = adot_profile_mappings[key]\n",
    "            except:\n",
    "                pass\n",
    "            if val in adot_select_default_value(field_name=null_values):\n",
    "                continue\n",
    "            elif val.strip() ==\"있음\":\n",
    "                adot_profile_dict[key] = key.split(\"이력\")[0].strip()\n",
    "            else:\n",
    "                adot_profile_dict[key] = val\n",
    "\n",
    "        adot_template_dict = defaultdict(list)\n",
    "        for key, val in new_adot_profile_mappings.items():\n",
    "            adot_template_dict[val] = []\n",
    "\n",
    "        for key, val in adot_profile_dict.items():\n",
    "            try:\n",
    "                new_feature = new_adot_profile_mappings[key]\n",
    "                adot_template_dict[new_feature].append(val)\n",
    "            except:\n",
    "                pass\n",
    "        \n",
    "        adot_preferences = adot_template_dict.get('preference', [])\n",
    "\n",
    "        return dict(adot_template_dict)"
   ]
  },
  {
   "cell_type": "code",
   "execution_count": 154,
   "metadata": {
    "execution": {
     "iopub.execute_input": "2024-06-03T10:57:22.592013Z",
     "iopub.status.busy": "2024-06-03T10:57:22.591578Z",
     "iopub.status.idle": "2024-06-03T10:57:22.597016Z",
     "shell.execute_reply": "2024-06-03T10:57:22.596393Z",
     "shell.execute_reply.started": "2024-06-03T10:57:22.591980Z"
    },
    "tags": []
   },
   "outputs": [],
   "source": [
    "adot_profile_mappings = {\n",
    "    '선호 도메인': 'preferred_domain',\n",
    "    '성별': 'gender',\n",
    "    '나이': 'age',\n",
    "    '활성 상태':'active_status',\n",
    "    '선호 카테고리': 'preferred_category',\n",
    "    '선호 아이템': 'preferred_item',\n",
    "    '다중 도메인 성향': 'multi_domain_tendency',\n",
    "    '인기 컨텐츠 선호도': 'popular_content_preference',\n",
    "    '사용성 기준': 'usability_criteria',\n",
    "    '헤비유즈 도메인': 'heavy_use_domains',\n",
    "    '헤비유저인 도메인': 'heavy_user_domains'\n",
    "}\n",
    "\n",
    "\n",
    "new_adot_profile_mappings = {\n",
    "    '선호 도메인': 'preference',\n",
    "    '성별': 'gender',\n",
    "    '나이': 'age',\n",
    "    '선호 아이템': 'preference',\n",
    "    '선호 카테고리': 'preference',\n",
    "    '인기 컨텐츠 선호도': 'preference_level',\n",
    "    '사용성 기준': 'adot_status',\n",
    "    '활성 상태':'adot_status',\n",
    "    '다중 도메인 성향': 'multi_domain_tendency',\n",
    "}\n"
   ]
  },
  {
   "cell_type": "code",
   "execution_count": 229,
   "metadata": {
    "execution": {
     "iopub.execute_input": "2024-06-03T11:40:30.502056Z",
     "iopub.status.busy": "2024-06-03T11:40:30.501472Z",
     "iopub.status.idle": "2024-06-03T11:40:30.522499Z",
     "shell.execute_reply": "2024-06-03T11:40:30.521758Z",
     "shell.execute_reply.started": "2024-06-03T11:40:30.502021Z"
    },
    "tags": []
   },
   "outputs": [],
   "source": [
    "from collections import defaultdict\n",
    "import re\n",
    "pattern = r\"선호 (?P<entity>\\w+)\\s?:\\s?(?P<item>.*?)\\((?P<metadata>.*?)\\)\"\n",
    "def profile_normalize(profile:str, delimiter='<|n|>'):\n",
    "        \"\"\"성별, 나이\"\"\"\n",
    "        adot_profile = profile[\"adot_profile_feature\"]\n",
    "        adot_profiles = adot_profile.split(delimiter)\n",
    "        adot_profile_dict = dict()\n",
    "        for profile in adot_profiles:\n",
    "            key, val = profile.split(':', 1)\n",
    "            key = key.strip()\n",
    "            val = val.strip()\n",
    "            null_values = adot_profile_mappings[key]\n",
    "                \n",
    "            if val in adot_select_default_value(field_name=null_values):\n",
    "                pass\n",
    "            else:\n",
    "                adot_profile_dict[key] = val\n",
    "                \n",
    "        adot_template_dict = defaultdict(list)\n",
    "        for key, val in new_adot_profile_mappings.items():\n",
    "            adot_template_dict[val] = []\n",
    "        \n",
    "        #for key, val in adot_profile_dict.items():    \n",
    "        #   \"\"\" 선호 도메인, 선호 아이템, 선호 카테고리 매칭\"\"\"\n",
    "            \n",
    "        domain = adot_profile_dict.get('선호 도메인', '')\n",
    "        category = adot_profile_dict.get('선호 카테고리', '')\n",
    "        item = adot_profile_dict.get('선호 아이템','')\n",
    "        \n",
    "        if domain:\n",
    "            preference_template = f\"{domain}\"\n",
    "        else:\n",
    "            preference_template = ''\n",
    "            \n",
    "        pattern = r'\\((.*?)\\)$'\n",
    "        if category:\n",
    "            match = re.search(pattern, category)\n",
    "            if match:\n",
    "                # Extract the string between parentheses\n",
    "                cate = match.group(1)\n",
    "                preference_template +=':['f\"meta:{cate}\"\n",
    "        \n",
    "        if item:\n",
    "            match = re.search(pattern, item)\n",
    "            if match:\n",
    "                # Extract the string between parentheses\n",
    "                item = match.group(1)\n",
    "                preference_template += f\" item:{item}]\"\n",
    "            else:\n",
    "                preference_template += ']'\n",
    "                \n",
    "            \n",
    "        # new_feature = new_adot_profile_mappings[key]\n",
    "        # adot_template_dict[new_feature].append(val)\n",
    "\n",
    "        adot_template_dict['preference'] = preference_template\n",
    "        #adot_preferences = adot_template_dict.get('preference', [])\n",
    "        return dict(adot_template_dict)"
   ]
  },
  {
   "cell_type": "code",
   "execution_count": 230,
   "metadata": {
    "execution": {
     "iopub.execute_input": "2024-06-03T11:40:31.387410Z",
     "iopub.status.busy": "2024-06-03T11:40:31.386920Z",
     "iopub.status.idle": "2024-06-03T11:40:41.398003Z",
     "shell.execute_reply": "2024-06-03T11:40:41.396978Z",
     "shell.execute_reply.started": "2024-06-03T11:40:31.387375Z"
    },
    "tags": []
   },
   "outputs": [],
   "source": [
    "samples = []\n",
    "i = 0\n",
    "for data in dataset.map(profile_normalize, remove_columns=['user_vector', 'mno_profile_feature']):\n",
    "    if data['preference'] and data['preference']!='전화':\n",
    "        samples.append(data)\n",
    "        i = i+1\n",
    "    if i > 30:\n",
    "        break"
   ]
  },
  {
   "cell_type": "code",
   "execution_count": 231,
   "metadata": {
    "execution": {
     "iopub.execute_input": "2024-06-03T11:40:41.400769Z",
     "iopub.status.busy": "2024-06-03T11:40:41.399687Z",
     "iopub.status.idle": "2024-06-03T11:40:41.405978Z",
     "shell.execute_reply": "2024-06-03T11:40:41.405404Z",
     "shell.execute_reply.started": "2024-06-03T11:40:41.400732Z"
    },
    "tags": []
   },
   "outputs": [
    {
     "data": {
      "text/plain": [
       "{'svc_mgmt_num': '783211e3944cec4b713411c9d5f5b9680c0d34795e90c5450ba2228c6086a662',\n",
       " 'luna_id': 'APL00000BP2VY811XON4',\n",
       " 'age': [],\n",
       " 'gender': [],\n",
       " 'adot_profile_feature': '선호 도메인 : 음악<|n|>선호 카테고리 : 음악(장르 : 해외 팝, 해외 락,  & 가수 : 스콜피온스, 산타나, 신디 로퍼) <|n|>선호 아이템 : 음악(Wind Of Change, Love of My Life (Live), Smooth) <|n|>성별 : 여성<|n|>나이 : 52<|n|>활성 상태 : 활성<|n|>다중 도메인 성향 : 보통<|n|>인기 컨텐츠 선호도 : 보통<|n|>사용성 기준 : 일반유저<|n|>헤비유저인 도메인 : TV, 음악, 루틴',\n",
       " 'is_adot': True,\n",
       " 'create_at': '2024-05-11',\n",
       " 'preference': '음악:[meta:장르 : 해외 팝, 해외 락,  & 가수 : 스콜피온스, 산타나, 신디 로퍼 item:Wind Of Change, Love of My Life (Live), Smooth]',\n",
       " 'preference_level': [],\n",
       " 'adot_status': [],\n",
       " 'multi_domain_tendency': []}"
      ]
     },
     "execution_count": 231,
     "metadata": {},
     "output_type": "execute_result"
    }
   ],
   "source": [
    "samples[1]"
   ]
  },
  {
   "cell_type": "code",
   "execution_count": 68,
   "metadata": {
    "execution": {
     "iopub.execute_input": "2024-06-03T10:06:08.812564Z",
     "iopub.status.busy": "2024-06-03T10:06:08.812129Z",
     "iopub.status.idle": "2024-06-03T10:06:08.815649Z",
     "shell.execute_reply": "2024-06-03T10:06:08.815007Z",
     "shell.execute_reply.started": "2024-06-03T10:06:08.812531Z"
    },
    "tags": []
   },
   "outputs": [],
   "source": [
    "# samples = []\n",
    "# for data in dataset.map(profile_normalize, batched=True, batch_size=100 , remove_columns=['user_vector', 'mno_profile_feature']):\n",
    "#     samples.append(data)\n",
    "#     break"
   ]
  },
  {
   "cell_type": "code",
   "execution_count": null,
   "metadata": {},
   "outputs": [],
   "source": []
  },
  {
   "cell_type": "code",
   "execution_count": 20,
   "metadata": {
    "execution": {
     "iopub.execute_input": "2024-06-03T09:38:37.431360Z",
     "iopub.status.busy": "2024-06-03T09:38:37.430935Z",
     "iopub.status.idle": "2024-06-03T09:38:37.436080Z",
     "shell.execute_reply": "2024-06-03T09:38:37.435328Z",
     "shell.execute_reply.started": "2024-06-03T09:38:37.431326Z"
    },
    "tags": []
   },
   "outputs": [],
   "source": [
    "from collections import defaultdict\n",
    "def profile_normalize(profile:str, delimiter='<|n|>'):\n",
    "        adot_profile = profile[\"adot_profile_feature\"]\n",
    "        adot_profiles = adot_profile.split(delimiter)\n",
    "        adot_profile_dict = dict()"
   ]
  },
  {
   "cell_type": "code",
   "execution_count": 163,
   "metadata": {
    "execution": {
     "iopub.execute_input": "2024-06-03T08:40:37.965123Z",
     "iopub.status.busy": "2024-06-03T08:40:37.964715Z",
     "iopub.status.idle": "2024-06-03T08:40:40.679494Z",
     "shell.execute_reply": "2024-06-03T08:40:40.678673Z",
     "shell.execute_reply.started": "2024-06-03T08:40:37.965093Z"
    },
    "tags": []
   },
   "outputs": [
    {
     "data": {
      "text/plain": [
       "{'preference': '쇼핑: 오픈마켓,해외직구\\n미디어/엔터테인먼트: OTT',\n",
       " 'gender': ['여자'],\n",
       " 'age': ['42세'],\n",
       " 'service_duration': ['11년'],\n",
       " 'days_after_change': ['1355일'],\n",
       " 'mno_status': ['베이직플러스', '고가', 'samsung', 'vip', '가족 결합'],\n",
       " 'plan_price': ['59000원'],\n",
       " 'avg_data_usage': ['13gb']}"
      ]
     },
     "execution_count": 163,
     "metadata": {},
     "output_type": "execute_result"
    }
   ],
   "source": [
    "dict(profile_normalize(next(iter(dataset))))"
   ]
  },
  {
   "cell_type": "code",
   "execution_count": 40,
   "metadata": {
    "execution": {
     "iopub.execute_input": "2024-06-03T07:03:54.641113Z",
     "iopub.status.busy": "2024-06-03T07:03:54.640703Z",
     "iopub.status.idle": "2024-06-03T07:03:54.644728Z",
     "shell.execute_reply": "2024-06-03T07:03:54.643971Z",
     "shell.execute_reply.started": "2024-06-03T07:03:54.641083Z"
    },
    "tags": []
   },
   "outputs": [],
   "source": [
    "adot_profile = data[\"adot_profile_feature\"]\n",
    "adot_profiles = adot_profile.split('<|n|>')"
   ]
  },
  {
   "cell_type": "code",
   "execution_count": 164,
   "metadata": {
    "execution": {
     "iopub.execute_input": "2024-06-03T08:41:48.390431Z",
     "iopub.status.busy": "2024-06-03T08:41:48.389879Z",
     "iopub.status.idle": "2024-06-03T08:41:48.396448Z",
     "shell.execute_reply": "2024-06-03T08:41:48.395466Z",
     "shell.execute_reply.started": "2024-06-03T08:41:48.390394Z"
    },
    "tags": []
   },
   "outputs": [
    {
     "data": {
      "text/plain": [
       "'선호 도메인 : 없음<|n|>선호 카테고리 : 없음<|n|>선호 아이템 : 없음<|n|>성별 : 여성<|n|>나이 : 42<|n|>활성 상태 : 복귀<|n|>다중 도메인 성향 : 없음<|n|>인기 컨텐츠 선호도 : 없음<|n|>사용성 기준 : 라이트유저<|n|>헤비유저인 도메인 : T 서비스'"
      ]
     },
     "execution_count": 164,
     "metadata": {},
     "output_type": "execute_result"
    }
   ],
   "source": [
    "data_list[0]"
   ]
  },
  {
   "cell_type": "code",
   "execution_count": 157,
   "metadata": {
    "execution": {
     "iopub.execute_input": "2024-06-03T08:23:29.403448Z",
     "iopub.status.busy": "2024-06-03T08:23:29.403048Z",
     "iopub.status.idle": "2024-06-03T08:23:29.409081Z",
     "shell.execute_reply": "2024-06-03T08:23:29.408343Z",
     "shell.execute_reply.started": "2024-06-03T08:23:29.403416Z"
    },
    "tags": []
   },
   "outputs": [],
   "source": [
    "preferred_category = set()\n",
    "preferred_item = set()\n",
    "preferred_domain =set()\n",
    "for data in data_list:\n",
    "    preferred_domain.add(data.split('<|n|>')[0])\n",
    "    preferred_category.add(data.split('<|n|>')[1])\n",
    "    preferred_item.add(data.split('<|n|>')[2])\n",
    "    "
   ]
  },
  {
   "cell_type": "code",
   "execution_count": 159,
   "metadata": {
    "execution": {
     "iopub.execute_input": "2024-06-03T08:23:34.447911Z",
     "iopub.status.busy": "2024-06-03T08:23:34.447516Z",
     "iopub.status.idle": "2024-06-03T08:23:34.452840Z",
     "shell.execute_reply": "2024-06-03T08:23:34.452153Z",
     "shell.execute_reply.started": "2024-06-03T08:23:34.447880Z"
    },
    "tags": []
   },
   "outputs": [
    {
     "data": {
      "text/plain": [
       "{'선호 도메인 : 게임, 전화',\n",
       " '선호 도메인 : 날씨',\n",
       " '선호 도메인 : 없음',\n",
       " '선호 도메인 : 운세',\n",
       " '선호 도메인 : 음악',\n",
       " '선호 도메인 : 전화',\n",
       " '선호 도메인 : 포토',\n",
       " '선호 도메인 : 포토, 게임'}"
      ]
     },
     "execution_count": 159,
     "metadata": {},
     "output_type": "execute_result"
    }
   ],
   "source": [
    "preferred_domain"
   ]
  },
  {
   "cell_type": "code",
   "execution_count": 158,
   "metadata": {
    "execution": {
     "iopub.execute_input": "2024-06-03T08:23:30.681030Z",
     "iopub.status.busy": "2024-06-03T08:23:30.680637Z",
     "iopub.status.idle": "2024-06-03T08:23:30.685964Z",
     "shell.execute_reply": "2024-06-03T08:23:30.685279Z",
     "shell.execute_reply.started": "2024-06-03T08:23:30.680999Z"
    },
    "tags": []
   },
   "outputs": [
    {
     "data": {
      "text/plain": [
       "{'선호 카테고리 : 게임(하이퍼캐쥬얼, 심리테스트) ',\n",
       " '선호 카테고리 : 없음',\n",
       " '선호 카테고리 : 음악(장르 : 국내 댄스/일렉, OST/BGM, 국내 팝/어쿠스틱 & 가수 : 르세라핌, 악뮤, (여자)아이들) ',\n",
       " '선호 카테고리 : 음악(장르 : 국내 알앤비, 국내 발라드, 국내 댄스/일렉 & 가수 : 비비, 아이유, 트와이스) ',\n",
       " '선호 카테고리 : 음악(장르 : 해외 팝, 해외 락,  & 가수 : 스콜피온스, 산타나, 신디 로퍼) '}"
      ]
     },
     "execution_count": 158,
     "metadata": {},
     "output_type": "execute_result"
    }
   ],
   "source": [
    "preferred_category"
   ]
  },
  {
   "cell_type": "code",
   "execution_count": 100,
   "metadata": {
    "execution": {
     "iopub.execute_input": "2024-06-03T07:48:30.435637Z",
     "iopub.status.busy": "2024-06-03T07:48:30.435210Z",
     "iopub.status.idle": "2024-06-03T07:48:30.440067Z",
     "shell.execute_reply": "2024-06-03T07:48:30.439470Z",
     "shell.execute_reply.started": "2024-06-03T07:48:30.435606Z"
    },
    "tags": []
   },
   "outputs": [
    {
     "data": {
      "text/plain": [
       "{'선호 아이템 : 게임(미니펫, 스택폴, 진짜 모습 테스트) ',\n",
       " '선호 아이템 : 없음',\n",
       " \"선호 아이템 : 음악(Perfect Night, Love Lee, Turn Up The Sunshine (PNAU Remix / From 'Minions: The Rise of Gru' Soundtrack)) \",\n",
       " '선호 아이템 : 음악(Wind Of Change, Love of My Life (Live), Smooth) ',\n",
       " '선호 아이템 : 음악(밤양갱, Discord, Love wins all) '}"
      ]
     },
     "execution_count": 100,
     "metadata": {},
     "output_type": "execute_result"
    }
   ],
   "source": [
    "preferred_item"
   ]
  },
  {
   "cell_type": "code",
   "execution_count": 30,
   "metadata": {
    "execution": {
     "iopub.execute_input": "2024-06-03T07:01:21.079254Z",
     "iopub.status.busy": "2024-06-03T07:01:21.078771Z",
     "iopub.status.idle": "2024-06-03T07:01:21.088140Z",
     "shell.execute_reply": "2024-06-03T07:01:21.087579Z",
     "shell.execute_reply.started": "2024-06-03T07:01:21.079227Z"
    },
    "tags": []
   },
   "outputs": [
    {
     "data": {
      "text/plain": [
       "{'관심사': 'interests',\n",
       " '성별': 'gender',\n",
       " '나이': 'age',\n",
       " '서비스 사용 기간': 'service_duration',\n",
       " '기변 후 경과일': 'days_after_change',\n",
       " '요금제 이름': 'plan_name',\n",
       " '요금제 가격': 'plan_price',\n",
       " '3개월 평균 데이터 사용량': 'avg_data_usage',\n",
       " '단말기 가격': 'device_price',\n",
       " '단말기 제조사': 'device_manufacturer',\n",
       " '멤버십 등급': 'membership_level',\n",
       " '멤버십 사용 이력': 'membership_history',\n",
       " '가족 결합 이력': 'family_bundle_history',\n",
       " '로밍 사용 이력': 'roaming_history',\n",
       " '세컨디바이스 보유 여부': 'second_device',\n",
       " '소액 및 DCB 결제 이력': 'micropayment_history'}"
      ]
     },
     "execution_count": 30,
     "metadata": {},
     "output_type": "execute_result"
    }
   ],
   "source": [
    "mno_profile_mappings"
   ]
  },
  {
   "cell_type": "code",
   "execution_count": null,
   "metadata": {},
   "outputs": [],
   "source": []
  }
 ],
 "metadata": {
  "kernelspec": {
   "display_name": "Python 3 (ipykernel)",
   "language": "python",
   "name": "python3"
  },
  "language_info": {
   "codemirror_mode": {
    "name": "ipython",
    "version": 3
   },
   "file_extension": ".py",
   "mimetype": "text/x-python",
   "name": "python",
   "nbconvert_exporter": "python",
   "pygments_lexer": "ipython3",
   "version": "3.8.19"
  }
 },
 "nbformat": 4,
 "nbformat_minor": 4
}
