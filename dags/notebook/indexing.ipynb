{
 "cells": [
  {
   "cell_type": "code",
   "execution_count": 7,
   "id": "ff18d265-7414-470c-aeff-57ead2159aa6",
   "metadata": {
    "execution": {
     "iopub.execute_input": "2024-03-05T01:36:27.555498Z",
     "iopub.status.busy": "2024-03-05T01:36:27.555041Z",
     "iopub.status.idle": "2024-03-05T01:36:30.677996Z",
     "shell.execute_reply": "2024-03-05T01:36:30.677220Z",
     "shell.execute_reply.started": "2024-03-05T01:36:27.555464Z"
    },
    "tags": []
   },
   "outputs": [],
   "source": [
    "from sklearn.model_selection import train_test_split\n",
    "from skt.gcp import (\n",
    "    PROJECT_ID,\n",
    "    bq_insert_overwrite,\n",
    "    bq_to_df,\n",
    "    bq_to_pandas,\n",
    "    get_bigquery_client,\n",
    "    get_max_part,\n",
    "    load_query_result_to_table,\n",
    "    pandas_to_bq,\n",
    "    pandas_to_bq_table,\n",
    "    load_bigquery_ipython_magic,\n",
    "    get_bigquery_client\n",
    ")\n",
    "\n",
    "# from skt.mls import *\n",
    "from skt.ye import (\n",
    "    get_hdfs_conn,\n",
    "    get_spark,\n",
    "    hive_execute,\n",
    "    hive_to_pandas,\n",
    "    pandas_to_parquet,\n",
    "    slack_send,\n",
    "    get_secrets\n",
    ")"
   ]
  },
  {
   "cell_type": "code",
   "execution_count": null,
   "id": "9aa6e486",
   "metadata": {},
   "outputs": [],
   "source": [
    "from plugins.packages.logger.logging import loguru_logger"
   ]
  },
  {
   "cell_type": "code",
   "execution_count": null,
   "id": "7e597db9",
   "metadata": {},
   "outputs": [],
   "source": [
    "template = f\"\"\"\n",
    "    http_auth_id Name: {http_auth_id}\n",
    "    http_auth_password: {http_auth_password}\n",
    "    input_path: {input_path}\n",
    "    vpce_host: {vpce_host}\n",
    "    env: {env}\n",
    "\"\"\""
   ]
  },
  {
   "cell_type": "code",
   "execution_count": null,
   "id": "29bcd767",
   "metadata": {},
   "outputs": [],
   "source": [
    "loguru_logger.info(template)"
   ]
  }
 ],
 "metadata": {
  "kernelspec": {
   "display_name": "Python 3 (ipykernel)",
   "language": "python",
   "name": "python3"
  },
  "language_info": {
   "codemirror_mode": {
    "name": "ipython",
    "version": 3
   },
   "file_extension": ".py",
   "mimetype": "text/x-python",
   "name": "python",
   "nbconvert_exporter": "python",
   "pygments_lexer": "ipython3",
   "version": "3.8.18"
  }
 },
 "nbformat": 4,
 "nbformat_minor": 5
}
